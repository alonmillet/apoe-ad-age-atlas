{
 "cells": [
  {
   "cell_type": "markdown",
   "metadata": {},
   "source": [
    "## Build Index"
   ]
  },
  {
   "cell_type": "code",
   "execution_count": null,
   "metadata": {},
   "outputs": [],
   "source": [
    "%%time\n",
    "!wget ftp://ftp.ensembl.org/pub/release-104/fasta/mus_musculus/dna/Mus_musculus.GRCm39.dna.primary_assembly.fa.gz\n",
    "!wget ftp://ftp.ensembl.org/pub/release-104/gtf/mus_musculus/Mus_musculus.GRCm39.104.gtf.gz"
   ]
  },
  {
   "cell_type": "code",
   "execution_count": null,
   "metadata": {
    "scrolled": false
   },
   "outputs": [],
   "source": [
    "%%time\n",
    "!kb ref -i index.idx -g t2g.txt -f1 cdna.fa -f2 intron.fa -c1 cdna_t2c.txt -c2 intron_t2c.txt --workflow lamanno --verbose \\\n",
    "Mus_musculus.GRCm39.dna.primary_assembly.fa.gz \\\n",
    "Mus_musculus.GRCm39.104.gtf.gz"
   ]
  },
  {
   "cell_type": "markdown",
   "metadata": {},
   "source": [
    "## Check directory on cluster for fastqs..."
   ]
  },
  {
   "cell_type": "code",
   "execution_count": null,
   "metadata": {},
   "outputs": [],
   "source": [
    "import os\n",
    "os.listdir(\"/rugpfs/fs0/tavz_lab/scratch/amillet/07_06_2022_Alon/fastqs\")"
   ]
  },
  {
   "cell_type": "markdown",
   "metadata": {},
   "source": [
    "## Generate h5ad file from 3' non-hashed samples"
   ]
  },
  {
   "cell_type": "code",
   "execution_count": null,
   "metadata": {
    "scrolled": true
   },
   "outputs": [],
   "source": [
    "%%time\n",
    "!kb count -i /rugpfs/fs0/tavz_lab/scratch/amillet/KB_notebook/index.idx \\\n",
    "-g /rugpfs/fs0/tavz_lab/scratch/amillet/KB_notebook/t2g.txt \\\n",
    "-x 10xv3 \\\n",
    "--workflow lamanno \\\n",
    "--h5ad \\\n",
    "-c1 /rugpfs/fs0/tavz_lab/scratch/amillet/KB_notebook/cdna_t2c.txt \\\n",
    "-c2 /rugpfs/fs0/tavz_lab/scratch/amillet/KB_notebook/intron_t2c.txt \\\n",
    "--verbose \\\n",
    "-o /rugpfs/fs0/tavz_lab/scratch/amillet/KB_notebook/output_1_h5ad/ \\\n",
    "-t 2 \\\n",
    "--overwrite \\\n",
    "/rugpfs/fs0/tavz_lab/scratch/amillet/E3E4_fastqs/1_S1_L001_R1_001.fastq.gz \\\n",
    "/rugpfs/fs0/tavz_lab/scratch/amillet/E3E4_fastqs/1_S1_L001_R2_001.fastq.gz \\\n",
    "/rugpfs/fs0/tavz_lab/scratch/amillet/E3E4_fastqs/1_S1_L002_R1_001.fastq.gz \\\n",
    "/rugpfs/fs0/tavz_lab/scratch/amillet/E3E4_fastqs/1_S1_L002_R2_001.fastq.gz \\\n",
    "/rugpfs/fs0/tavz_lab/scratch/amillet/E3E4_fastqs/1_S1_L003_R1_001.fastq.gz \\\n",
    "/rugpfs/fs0/tavz_lab/scratch/amillet/E3E4_fastqs/1_S1_L003_R2_001.fastq.gz \\\n",
    "/rugpfs/fs0/tavz_lab/scratch/amillet/E3E4_fastqs/1_S1_L004_R1_001.fastq.gz \\\n",
    "/rugpfs/fs0/tavz_lab/scratch/amillet/E3E4_fastqs/1_S1_L004_R2_001.fastq.gz \\"
   ]
  },
  {
   "cell_type": "code",
   "execution_count": null,
   "metadata": {
    "scrolled": true
   },
   "outputs": [],
   "source": [
    "%%time\n",
    "!kb count -i /rugpfs/fs0/tavz_lab/scratch/amillet/KB_notebook/index.idx \\\n",
    "-g /rugpfs/fs0/tavz_lab/scratch/amillet/KB_notebook/t2g.txt \\\n",
    "-x 10xv3 \\\n",
    "--workflow lamanno \\\n",
    "--h5ad \\\n",
    "-c1 /rugpfs/fs0/tavz_lab/scratch/amillet/KB_notebook/cdna_t2c.txt \\\n",
    "-c2 /rugpfs/fs0/tavz_lab/scratch/amillet/KB_notebook/intron_t2c.txt \\\n",
    "--verbose \\\n",
    "-o /rugpfs/fs0/tavz_lab/scratch/amillet/KB_notebook/output_2_h5ad/ \\\n",
    "-t 2 \\\n",
    "--overwrite \\\n",
    "/rugpfs/fs0/tavz_lab/scratch/amillet/E3E4_fastqs/2_S2_L001_R1_001.fastq.gz \\\n",
    "/rugpfs/fs0/tavz_lab/scratch/amillet/E3E4_fastqs/2_S2_L001_R2_001.fastq.gz \\\n",
    "/rugpfs/fs0/tavz_lab/scratch/amillet/E3E4_fastqs/2_S2_L002_R1_001.fastq.gz \\\n",
    "/rugpfs/fs0/tavz_lab/scratch/amillet/E3E4_fastqs/2_S2_L002_R2_001.fastq.gz \\\n",
    "/rugpfs/fs0/tavz_lab/scratch/amillet/E3E4_fastqs/2_S2_L003_R1_001.fastq.gz \\\n",
    "/rugpfs/fs0/tavz_lab/scratch/amillet/E3E4_fastqs/2_S2_L003_R2_001.fastq.gz \\\n",
    "/rugpfs/fs0/tavz_lab/scratch/amillet/E3E4_fastqs/2_S2_L004_R1_001.fastq.gz \\\n",
    "/rugpfs/fs0/tavz_lab/scratch/amillet/E3E4_fastqs/2_S2_L004_R2_001.fastq.gz \\"
   ]
  },
  {
   "cell_type": "markdown",
   "metadata": {},
   "source": [
    "# Generate h5ad from 5' hashed samples"
   ]
  },
  {
   "cell_type": "code",
   "execution_count": null,
   "metadata": {},
   "outputs": [],
   "source": [
    "import os\n",
    "os.listdir(\"/rugpfs/fs0/tavz_lab/scratch/amillet/07_06_2022_Alon/fastqs\")"
   ]
  },
  {
   "cell_type": "code",
   "execution_count": null,
   "metadata": {
    "scrolled": false
   },
   "outputs": [],
   "source": [
    "%%time\n",
    "!kb count -i /rugpfs/fs0/tavz_lab/scratch/amillet/KB_notebook/index.idx \\\n",
    "-g /rugpfs/fs0/tavz_lab/scratch/amillet/KB_notebook/t2g.txt \\\n",
    "-x 10xv2 \\\n",
    "--workflow lamanno \\\n",
    "--h5ad \\\n",
    "-c1 /rugpfs/fs0/tavz_lab/scratch/amillet/KB_notebook/cdna_t2c.txt \\\n",
    "-c2 /rugpfs/fs0/tavz_lab/scratch/amillet/KB_notebook/intron_t2c.txt \\\n",
    "--verbose \\\n",
    "-o /rugpfs/fs0/tavz_lab/scratch/amillet/07_06_2022_Alon/kb_count/ \\\n",
    "--overwrite \\\n",
    "/rugpfs/fs0/tavz_lab/scratch/amillet/07_06_2022_Alon/fastqs/E2E3E4_10wk_Microglia_ex_S1_L001_R1_001.fastq.gz \\\n",
    "/rugpfs/fs0/tavz_lab/scratch/amillet/07_06_2022_Alon/fastqs/E2E3E4_10wk_Microglia_ex_S1_L001_R2_001.fastq.gz \\\n",
    "/rugpfs/fs0/tavz_lab/scratch/amillet/07_06_2022_Alon/fastqs/E2E3E4_10wk_Microglia_ex_S1_L002_R1_001.fastq.gz \\\n",
    "/rugpfs/fs0/tavz_lab/scratch/amillet/07_06_2022_Alon/fastqs/E2E3E4_10wk_Microglia_ex_S1_L002_R2_001.fastq.gz"
   ]
  },
  {
   "cell_type": "code",
   "execution_count": null,
   "metadata": {},
   "outputs": [],
   "source": [
    "!kb --list"
   ]
  }
 ],
 "metadata": {
  "kernelspec": {
   "display_name": "Python 3 (ipykernel)",
   "language": "python",
   "name": "python3"
  },
  "language_info": {
   "codemirror_mode": {
    "name": "ipython",
    "version": 3
   },
   "file_extension": ".py",
   "mimetype": "text/x-python",
   "name": "python",
   "nbconvert_exporter": "python",
   "pygments_lexer": "ipython3",
   "version": "3.8.11"
  }
 },
 "nbformat": 4,
 "nbformat_minor": 4
}
