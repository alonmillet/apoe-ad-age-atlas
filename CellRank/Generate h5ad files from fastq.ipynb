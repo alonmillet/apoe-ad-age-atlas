{
 "cells": [
  {
   "cell_type": "markdown",
   "metadata": {},
   "source": [
    "## Build Index"
   ]
  },
  {
   "cell_type": "code",
   "execution_count": 1,
   "metadata": {},
   "outputs": [
    {
     "name": "stdout",
     "output_type": "stream",
     "text": [
      "--2021-06-22 21:54:41--  ftp://ftp.ensembl.org/pub/release-104/fasta/mus_musculus/dna/Mus_musculus.GRCm39.dna.primary_assembly.fa.gz\n",
      "           => ‘Mus_musculus.GRCm39.dna.primary_assembly.fa.gz’\n",
      "Resolving ftp.ensembl.org (ftp.ensembl.org)... 193.62.197.76\n",
      "Connecting to ftp.ensembl.org (ftp.ensembl.org)|193.62.197.76|:21... connected.\n",
      "Logging in as anonymous ... Logged in!\n",
      "==> SYST ... done.    ==> PWD ... done.\n",
      "==> TYPE I ... done.  ==> CWD (1) /pub/release-104/fasta/mus_musculus/dna ... done.\n",
      "==> SIZE Mus_musculus.GRCm39.dna.primary_assembly.fa.gz ... 806418890\n",
      "==> PASV ... done.    ==> RETR Mus_musculus.GRCm39.dna.primary_assembly.fa.gz ... done.\n",
      "Length: 806418890 (769M) (unauthoritative)\n",
      "\n",
      "100%[======================================>] 806,418,890 39.2MB/s   in 26s    \n",
      "\n",
      "2021-06-22 21:55:08 (29.6 MB/s) - ‘Mus_musculus.GRCm39.dna.primary_assembly.fa.gz’ saved [806418890]\n",
      "\n",
      "--2021-06-22 21:55:08--  ftp://ftp.ensembl.org/pub/release-104/gtf/mus_musculus/Mus_musculus.GRCm39.104.gtf.gz\n",
      "           => ‘Mus_musculus.GRCm39.104.gtf.gz’\n",
      "Resolving ftp.ensembl.org (ftp.ensembl.org)... 193.62.197.76\n",
      "Connecting to ftp.ensembl.org (ftp.ensembl.org)|193.62.197.76|:21... connected.\n",
      "Logging in as anonymous ... Logged in!\n",
      "==> SYST ... done.    ==> PWD ... done.\n",
      "==> TYPE I ... done.  ==> CWD (1) /pub/release-104/gtf/mus_musculus ... done.\n",
      "==> SIZE Mus_musculus.GRCm39.104.gtf.gz ... 31331443\n",
      "==> PASV ... done.    ==> RETR Mus_musculus.GRCm39.104.gtf.gz ... done.\n",
      "Length: 31331443 (30M) (unauthoritative)\n",
      "\n",
      "100%[======================================>] 31,331,443  14.7MB/s   in 2.0s   \n",
      "\n",
      "2021-06-22 21:55:11 (14.7 MB/s) - ‘Mus_musculus.GRCm39.104.gtf.gz’ saved [31331443]\n",
      "\n",
      "CPU times: user 763 ms, sys: 170 ms, total: 933 ms\n",
      "Wall time: 30.1 s\n"
     ]
    }
   ],
   "source": [
    "%%time\n",
    "!wget ftp://ftp.ensembl.org/pub/release-104/fasta/mus_musculus/dna/Mus_musculus.GRCm39.dna.primary_assembly.fa.gz\n",
    "!wget ftp://ftp.ensembl.org/pub/release-104/gtf/mus_musculus/Mus_musculus.GRCm39.104.gtf.gz"
   ]
  },
  {
   "cell_type": "code",
   "execution_count": 5,
   "metadata": {
    "scrolled": false
   },
   "outputs": [
    {
     "name": "stdout",
     "output_type": "stream",
     "text": [
      "[2021-06-22 22:54:17,354]   DEBUG [main] Printing verbose output\n",
      "[2021-06-22 22:54:17,360]   DEBUG [main] kallisto binary located at /ru-auth/local/home/amillet/.local/lib/python3.7/site-packages/kb_python/bins/linux/kallisto/kallisto\n",
      "[2021-06-22 22:54:17,361]   DEBUG [main] bustools binary located at /ru-auth/local/home/amillet/.local/lib/python3.7/site-packages/kb_python/bins/linux/bustools/bustools\n",
      "[2021-06-22 22:54:17,361]   DEBUG [main] Creating `tmp` directory\n",
      "[2021-06-22 22:54:17,362]   DEBUG [main] Namespace(bustools='/ru-auth/local/home/amillet/.local/lib/python3.7/site-packages/kb_python/bins/linux/bustools/bustools', c1='cdna_t2c.txt', c2='intron_t2c.txt', command='ref', d=None, f1='cdna.fa', f2='intron.fa', fasta='Mus_musculus.GRCm39.dna.primary_assembly.fa.gz', feature=None, flank=None, g='t2g.txt', gtf='Mus_musculus.GRCm39.104.gtf.gz', i='index.idx', k=None, kallisto='/ru-auth/local/home/amillet/.local/lib/python3.7/site-packages/kb_python/bins/linux/kallisto/kallisto', keep_tmp=False, list=False, n=1, no_mismatches=False, overwrite=False, tmp=None, verbose=True, workflow='lamanno')\n",
      "[2021-06-22 22:54:17,362]    INFO [ref_lamanno] Preparing Mus_musculus.GRCm39.dna.primary_assembly.fa.gz, Mus_musculus.GRCm39.104.gtf.gz\n",
      "[2021-06-22 22:55:15,531]    INFO [ref_lamanno] Splitting genome Mus_musculus.GRCm39.dna.primary_assembly.fa.gz into cDNA at /rugpfs/fs0/home/amillet/tmp/tmpifprghph\n",
      "[2021-06-22 22:56:55,631]    INFO [ref_lamanno] Creating cDNA transcripts-to-capture at /rugpfs/fs0/home/amillet/tmp/tmprzc4dq3w\n",
      "[2021-06-22 22:56:56,575]    INFO [ref_lamanno] Splitting genome into introns at /rugpfs/fs0/home/amillet/tmp/tmpr19vmoxh\n",
      "[2021-06-22 23:01:09,570]    INFO [ref_lamanno] Creating intron transcripts-to-capture at /rugpfs/fs0/home/amillet/tmp/tmpvvavy1ce\n",
      "[2021-06-22 23:01:17,628]    INFO [ref_lamanno] Concatenating 1 cDNA FASTAs to cdna.fa\n",
      "[2021-06-22 23:01:19,157]    INFO [ref_lamanno] Concatenating 1 cDNA transcripts-to-captures to cdna_t2c.txt\n",
      "[2021-06-22 23:01:19,350]    INFO [ref_lamanno] Concatenating 1 intron FASTAs to intron.fa\n",
      "[2021-06-22 23:01:44,390]    INFO [ref_lamanno] Concatenating 1 intron transcripts-to-captures to intron_t2c.txt\n",
      "[2021-06-22 23:01:45,090]    INFO [ref_lamanno] Concatenating cDNA and intron FASTAs to /rugpfs/fs0/home/amillet/tmp/tmpm253x6t6\n",
      "[2021-06-22 23:02:02,841]    INFO [ref_lamanno] Creating transcript-to-gene mapping at t2g.txt\n",
      "[2021-06-22 23:02:22,084]    INFO [ref_lamanno] Indexing /rugpfs/fs0/home/amillet/tmp/tmpm253x6t6 to index.idx\n",
      "[2021-06-22 23:02:22,084]   DEBUG [ref_lamanno] kallisto index -i index.idx -k 31 /rugpfs/fs0/home/amillet/tmp/tmpm253x6t6\n",
      "[2021-06-22 23:59:39,504]   DEBUG [ref_lamanno] \n",
      "[2021-06-22 23:59:39,504]   DEBUG [ref_lamanno] [build] loading fasta file /rugpfs/fs0/home/amillet/tmp/tmpm253x6t6\n",
      "[2021-06-22 23:59:39,504]   DEBUG [ref_lamanno] [build] k-mer length: 31\n",
      "[2021-06-22 23:59:39,504]   DEBUG [ref_lamanno] [build] warning: clipped off poly-A tail (longer than 10)\n",
      "[2021-06-22 23:59:39,505]   DEBUG [ref_lamanno] from 776 target sequences\n",
      "[2021-06-22 23:59:39,505]   DEBUG [ref_lamanno] [build] warning: replaced 1954197 non-ACGUT characters in the input sequence\n",
      "[2021-06-22 23:59:39,505]   DEBUG [ref_lamanno] with pseudorandom nucleotides\n",
      "[2021-06-22 23:59:39,505]   DEBUG [ref_lamanno] [build] counting k-mers ... done.\n",
      "[2021-06-22 23:59:39,505]   DEBUG [ref_lamanno] [build] building target de Bruijn graph ...  done\n",
      "[2021-06-22 23:59:39,505]   DEBUG [ref_lamanno] [build] creating equivalence classes ...  done\n",
      "[2021-06-22 23:59:39,505]   DEBUG [ref_lamanno] [build] target de Bruijn graph has 9874281 contigs and contains 1110366064 k-mers\n",
      "[2021-06-22 23:59:39,505]   DEBUG [ref_lamanno] \n",
      "[2021-06-22 23:59:40,600]   DEBUG [main] Removing `tmp` directory\n",
      "CPU times: user 1min 11s, sys: 11.5 s, total: 1min 22s\n",
      "Wall time: 1h 5min 54s\n"
     ]
    }
   ],
   "source": [
    "%%time\n",
    "!kb ref -i index.idx -g t2g.txt -f1 cdna.fa -f2 intron.fa -c1 cdna_t2c.txt -c2 intron_t2c.txt --workflow lamanno --verbose \\\n",
    "Mus_musculus.GRCm39.dna.primary_assembly.fa.gz \\\n",
    "Mus_musculus.GRCm39.104.gtf.gz"
   ]
  },
  {
   "cell_type": "markdown",
   "metadata": {},
   "source": [
    "## Check directory on cluster for fastqs..."
   ]
  },
  {
   "cell_type": "code",
   "execution_count": 2,
   "metadata": {},
   "outputs": [
    {
     "data": {
      "text/plain": [
       "['E2E3E4_10wk_Microglia_HTO_S2_L002_R2_001.fastq.gz',\n",
       " 'E2E3E4_10wk_Microglia_ex_S1_L002_I1_001.fastq.gz',\n",
       " 'E2E3E4_10wk_Microglia_ex_S1_L002_I2_001.fastq.gz',\n",
       " 'E2E3E4_10wk_Microglia_HTO_S2_L001_I1_001.fastq.gz',\n",
       " 'E2E3E4_10wk_Microglia_HTO_S2_L002_I1_001.fastq.gz',\n",
       " 'E2E3E4_10wk_Microglia_HTO_S2_L002_R1_001.fastq.gz',\n",
       " 'E2E3E4_10wk_Microglia_ex_S1_L001_R2_001.fastq.gz',\n",
       " 'E2E3E4_10wk_Microglia_HTO_S2_L002_I2_001.fastq.gz',\n",
       " 'E2E3E4_10wk_Microglia_ex_S1_L001_I1_001.fastq.gz',\n",
       " 'E2E3E4_10wk_Microglia_HTO_S2_L001_I2_001.fastq.gz',\n",
       " 'E2E3E4_10wk_Microglia_HTO_S2_L001_R1_001.fastq.gz',\n",
       " 'E2E3E4_10wk_Microglia_HTO_S2_L001_R2_001.fastq.gz',\n",
       " '220706_A00815_0405_BH72FNDRX2.md5',\n",
       " 'E2E3E4_10wk_Microglia_ex_S1_L002_R2_001.fastq.gz',\n",
       " 'E2E3E4_10wk_Microglia_ex_S1_L002_R1_001.fastq.gz',\n",
       " 'E2E3E4_10wk_Microglia_ex_S1_L001_I2_001.fastq.gz',\n",
       " 'E2E3E4_10wk_Microglia_ex_S1_L001_R1_001.fastq.gz']"
      ]
     },
     "execution_count": 2,
     "metadata": {},
     "output_type": "execute_result"
    }
   ],
   "source": [
    "import os\n",
    "os.listdir(\"/rugpfs/fs0/tavz_lab/scratch/amillet/07_06_2022_Alon/fastqs\")"
   ]
  },
  {
   "cell_type": "markdown",
   "metadata": {},
   "source": [
    "## Generate h5ad file from 3' non-hashed samples"
   ]
  },
  {
   "cell_type": "code",
   "execution_count": 4,
   "metadata": {
    "scrolled": true
   },
   "outputs": [
    {
     "name": "stdout",
     "output_type": "stream",
     "text": [
      "[2021-06-23 20:54:17,995]   DEBUG [main] Printing verbose output\n",
      "[2021-06-23 20:54:18,002]   DEBUG [main] kallisto binary located at /ru-auth/local/home/amillet/.local/lib/python3.7/site-packages/kb_python/bins/linux/kallisto/kallisto\n",
      "[2021-06-23 20:54:18,002]   DEBUG [main] bustools binary located at /ru-auth/local/home/amillet/.local/lib/python3.7/site-packages/kb_python/bins/linux/bustools/bustools\n",
      "[2021-06-23 20:54:18,008]   DEBUG [main] Creating `/rugpfs/fs0/tavz_lab/scratch/amillet/KB_notebook/output_1_h5ad/tmp` directory\n",
      "[2021-06-23 20:54:18,010]   DEBUG [main] Namespace(bustools='/ru-auth/local/home/amillet/.local/lib/python3.7/site-packages/kb_python/bins/linux/bustools/bustools', c1='/rugpfs/fs0/tavz_lab/scratch/amillet/KB_notebook/cdna_t2c.txt', c2='/rugpfs/fs0/tavz_lab/scratch/amillet/KB_notebook/intron_t2c.txt', cellranger=False, command='count', dry_run=False, fastqs=['/rugpfs/fs0/tavz_lab/scratch/amillet/E3E4_fastqs/1_S1_L001_R1_001.fastq.gz', '/rugpfs/fs0/tavz_lab/scratch/amillet/E3E4_fastqs/1_S1_L001_R2_001.fastq.gz', '/rugpfs/fs0/tavz_lab/scratch/amillet/E3E4_fastqs/1_S1_L002_R1_001.fastq.gz', '/rugpfs/fs0/tavz_lab/scratch/amillet/E3E4_fastqs/1_S1_L002_R2_001.fastq.gz', '/rugpfs/fs0/tavz_lab/scratch/amillet/E3E4_fastqs/1_S1_L003_R1_001.fastq.gz', '/rugpfs/fs0/tavz_lab/scratch/amillet/E3E4_fastqs/1_S1_L003_R2_001.fastq.gz', '/rugpfs/fs0/tavz_lab/scratch/amillet/E3E4_fastqs/1_S1_L004_R1_001.fastq.gz', '/rugpfs/fs0/tavz_lab/scratch/amillet/E3E4_fastqs/1_S1_L004_R2_001.fastq.gz'], filter=None, g='/rugpfs/fs0/tavz_lab/scratch/amillet/KB_notebook/t2g.txt', h5ad=True, i='/rugpfs/fs0/tavz_lab/scratch/amillet/KB_notebook/index.idx', kallisto='/ru-auth/local/home/amillet/.local/lib/python3.7/site-packages/kb_python/bins/linux/kallisto/kallisto', keep_tmp=False, list=False, loom=False, m='4G', mm=False, no_inspect=False, no_validate=False, o='/rugpfs/fs0/tavz_lab/scratch/amillet/KB_notebook/output_1_h5ad/', overwrite=True, report=False, t=2, tcc=False, tmp=None, verbose=True, w=None, workflow='lamanno', x='10xv3')\n",
      "[2021-06-23 20:54:18,131]    INFO [count_lamanno] Using index /rugpfs/fs0/tavz_lab/scratch/amillet/KB_notebook/index.idx to generate BUS file to /rugpfs/fs0/tavz_lab/scratch/amillet/KB_notebook/output_1_h5ad/ from\n",
      "[2021-06-23 20:54:18,131]    INFO [count_lamanno]         /rugpfs/fs0/tavz_lab/scratch/amillet/E3E4_fastqs/1_S1_L001_R1_001.fastq.gz\n",
      "[2021-06-23 20:54:18,131]    INFO [count_lamanno]         /rugpfs/fs0/tavz_lab/scratch/amillet/E3E4_fastqs/1_S1_L001_R2_001.fastq.gz\n",
      "[2021-06-23 20:54:18,131]    INFO [count_lamanno]         /rugpfs/fs0/tavz_lab/scratch/amillet/E3E4_fastqs/1_S1_L002_R1_001.fastq.gz\n",
      "[2021-06-23 20:54:18,131]    INFO [count_lamanno]         /rugpfs/fs0/tavz_lab/scratch/amillet/E3E4_fastqs/1_S1_L002_R2_001.fastq.gz\n",
      "[2021-06-23 20:54:18,131]    INFO [count_lamanno]         /rugpfs/fs0/tavz_lab/scratch/amillet/E3E4_fastqs/1_S1_L003_R1_001.fastq.gz\n",
      "[2021-06-23 20:54:18,131]    INFO [count_lamanno]         /rugpfs/fs0/tavz_lab/scratch/amillet/E3E4_fastqs/1_S1_L003_R2_001.fastq.gz\n",
      "[2021-06-23 20:54:18,131]    INFO [count_lamanno]         /rugpfs/fs0/tavz_lab/scratch/amillet/E3E4_fastqs/1_S1_L004_R1_001.fastq.gz\n",
      "[2021-06-23 20:54:18,131]    INFO [count_lamanno]         /rugpfs/fs0/tavz_lab/scratch/amillet/E3E4_fastqs/1_S1_L004_R2_001.fastq.gz\n",
      "[2021-06-23 20:54:18,131]   DEBUG [count_lamanno] kallisto bus -i /rugpfs/fs0/tavz_lab/scratch/amillet/KB_notebook/index.idx -o /rugpfs/fs0/tavz_lab/scratch/amillet/KB_notebook/output_1_h5ad/ -x 10xv3 -t 2 /rugpfs/fs0/tavz_lab/scratch/amillet/E3E4_fastqs/1_S1_L001_R1_001.fastq.gz /rugpfs/fs0/tavz_lab/scratch/amillet/E3E4_fastqs/1_S1_L001_R2_001.fastq.gz /rugpfs/fs0/tavz_lab/scratch/amillet/E3E4_fastqs/1_S1_L002_R1_001.fastq.gz /rugpfs/fs0/tavz_lab/scratch/amillet/E3E4_fastqs/1_S1_L002_R2_001.fastq.gz /rugpfs/fs0/tavz_lab/scratch/amillet/E3E4_fastqs/1_S1_L003_R1_001.fastq.gz /rugpfs/fs0/tavz_lab/scratch/amillet/E3E4_fastqs/1_S1_L003_R2_001.fastq.gz /rugpfs/fs0/tavz_lab/scratch/amillet/E3E4_fastqs/1_S1_L004_R1_001.fastq.gz /rugpfs/fs0/tavz_lab/scratch/amillet/E3E4_fastqs/1_S1_L004_R2_001.fastq.gz\n",
      "[2021-06-23 21:55:16,144]   DEBUG [count_lamanno] \n",
      "[2021-06-23 21:55:16,145]   DEBUG [count_lamanno] [index] k-mer length: 31\n",
      "[2021-06-23 21:55:16,145]   DEBUG [count_lamanno] [index] number of targets: 790,624\n",
      "[2021-06-23 21:55:16,145]   DEBUG [count_lamanno] [index] number of k-mers: 1,110,366,064\n",
      "[2021-06-23 21:55:16,145]   DEBUG [count_lamanno] [index] number of equivalence classes: 5,483,839\n",
      "[2021-06-23 21:55:16,145]   DEBUG [count_lamanno] [quant] will process sample 1: /rugpfs/fs0/tavz_lab/scratch/amillet/E3E4_fastqs/1_S1_L001_R1_001.fastq.gz\n",
      "[2021-06-23 21:55:16,145]   DEBUG [count_lamanno] /rugpfs/fs0/tavz_lab/scratch/amillet/E3E4_fastqs/1_S1_L001_R2_001.fastq.gz\n",
      "[2021-06-23 21:55:16,145]   DEBUG [count_lamanno] [quant] will process sample 2: /rugpfs/fs0/tavz_lab/scratch/amillet/E3E4_fastqs/1_S1_L002_R1_001.fastq.gz\n",
      "[2021-06-23 21:55:16,145]   DEBUG [count_lamanno] /rugpfs/fs0/tavz_lab/scratch/amillet/E3E4_fastqs/1_S1_L002_R2_001.fastq.gz\n",
      "[2021-06-23 21:55:16,145]   DEBUG [count_lamanno] [quant] will process sample 3: /rugpfs/fs0/tavz_lab/scratch/amillet/E3E4_fastqs/1_S1_L003_R1_001.fastq.gz\n",
      "[2021-06-23 21:55:16,146]   DEBUG [count_lamanno] /rugpfs/fs0/tavz_lab/scratch/amillet/E3E4_fastqs/1_S1_L003_R2_001.fastq.gz\n",
      "[2021-06-23 21:55:16,146]   DEBUG [count_lamanno] [quant] will process sample 4: /rugpfs/fs0/tavz_lab/scratch/amillet/E3E4_fastqs/1_S1_L004_R1_001.fastq.gz\n",
      "[2021-06-23 21:55:16,146]   DEBUG [count_lamanno] /rugpfs/fs0/tavz_lab/scratch/amillet/E3E4_fastqs/1_S1_L004_R2_001.fastq.gz\n",
      "[2021-06-23 21:55:16,146]   DEBUG [count_lamanno] [quant] finding pseudoalignments for the reads ... done\n",
      "[2021-06-23 21:55:16,146]   DEBUG [count_lamanno] [quant] processed 229,782,971 reads, 191,990,267 reads pseudoaligned\n",
      "[2021-06-23 21:56:02,429]   DEBUG [count_lamanno] /rugpfs/fs0/tavz_lab/scratch/amillet/KB_notebook/output_1_h5ad/output.bus passed validation\n",
      "[2021-06-23 21:56:02,432]    INFO [count_lamanno] Sorting BUS file /rugpfs/fs0/tavz_lab/scratch/amillet/KB_notebook/output_1_h5ad/output.bus to /rugpfs/fs0/tavz_lab/scratch/amillet/KB_notebook/output_1_h5ad/tmp/output.s.bus\n",
      "[2021-06-23 21:56:02,433]   DEBUG [count_lamanno] bustools sort -o /rugpfs/fs0/tavz_lab/scratch/amillet/KB_notebook/output_1_h5ad/tmp/output.s.bus -T /rugpfs/fs0/tavz_lab/scratch/amillet/KB_notebook/output_1_h5ad/tmp -t 2 -m 4G /rugpfs/fs0/tavz_lab/scratch/amillet/KB_notebook/output_1_h5ad/output.bus\n",
      "[2021-06-23 21:57:08,766]   DEBUG [count_lamanno] Read in 191990267 BUS records\n",
      "[2021-06-23 21:57:24,273]   DEBUG [count_lamanno] /rugpfs/fs0/tavz_lab/scratch/amillet/KB_notebook/output_1_h5ad/tmp/output.s.bus passed validation\n",
      "[2021-06-23 21:57:24,274]    INFO [count_lamanno] Whitelist not provided\n",
      "[2021-06-23 21:57:24,274]    INFO [count_lamanno] Copying pre-packaged 10XV3 whitelist to /rugpfs/fs0/tavz_lab/scratch/amillet/KB_notebook/output_1_h5ad/\n",
      "[2021-06-23 21:57:25,071]    INFO [count_lamanno] Inspecting BUS file /rugpfs/fs0/tavz_lab/scratch/amillet/KB_notebook/output_1_h5ad/tmp/output.s.bus\n",
      "[2021-06-23 21:57:25,071]   DEBUG [count_lamanno] bustools inspect -o /rugpfs/fs0/tavz_lab/scratch/amillet/KB_notebook/output_1_h5ad/inspect.json -w /rugpfs/fs0/tavz_lab/scratch/amillet/KB_notebook/output_1_h5ad/10x_version3_whitelist.txt -e /rugpfs/fs0/tavz_lab/scratch/amillet/KB_notebook/output_1_h5ad/matrix.ec /rugpfs/fs0/tavz_lab/scratch/amillet/KB_notebook/output_1_h5ad/tmp/output.s.bus\n",
      "[2021-06-23 21:58:47,580]    INFO [count_lamanno] Correcting BUS records in /rugpfs/fs0/tavz_lab/scratch/amillet/KB_notebook/output_1_h5ad/tmp/output.s.bus to /rugpfs/fs0/tavz_lab/scratch/amillet/KB_notebook/output_1_h5ad/tmp/output.s.c.bus with whitelist /rugpfs/fs0/tavz_lab/scratch/amillet/KB_notebook/output_1_h5ad/10x_version3_whitelist.txt\n",
      "[2021-06-23 21:58:47,580]   DEBUG [count_lamanno] bustools correct -o /rugpfs/fs0/tavz_lab/scratch/amillet/KB_notebook/output_1_h5ad/tmp/output.s.c.bus -w /rugpfs/fs0/tavz_lab/scratch/amillet/KB_notebook/output_1_h5ad/10x_version3_whitelist.txt /rugpfs/fs0/tavz_lab/scratch/amillet/KB_notebook/output_1_h5ad/tmp/output.s.bus\n"
     ]
    },
    {
     "name": "stdout",
     "output_type": "stream",
     "text": [
      "[2021-06-23 21:59:06,174]   DEBUG [count_lamanno] Found 6794880 barcodes in the whitelist\n",
      "[2021-06-23 21:59:06,174]   DEBUG [count_lamanno] Processed 91533967 BUS records\n",
      "[2021-06-23 21:59:06,174]   DEBUG [count_lamanno] In whitelist = 85970000\n",
      "[2021-06-23 21:59:06,174]   DEBUG [count_lamanno] Corrected    = 611633\n",
      "[2021-06-23 21:59:06,174]   DEBUG [count_lamanno] Uncorrected  = 4952334\n",
      "[2021-06-23 21:59:20,481]   DEBUG [count_lamanno] /rugpfs/fs0/tavz_lab/scratch/amillet/KB_notebook/output_1_h5ad/tmp/output.s.c.bus passed validation\n",
      "[2021-06-23 21:59:20,481]    INFO [count_lamanno] Sorting BUS file /rugpfs/fs0/tavz_lab/scratch/amillet/KB_notebook/output_1_h5ad/tmp/output.s.c.bus to /rugpfs/fs0/tavz_lab/scratch/amillet/KB_notebook/output_1_h5ad/output.unfiltered.bus\n",
      "[2021-06-23 21:59:20,481]   DEBUG [count_lamanno] bustools sort -o /rugpfs/fs0/tavz_lab/scratch/amillet/KB_notebook/output_1_h5ad/output.unfiltered.bus -T /rugpfs/fs0/tavz_lab/scratch/amillet/KB_notebook/output_1_h5ad/tmp -t 2 -m 4G /rugpfs/fs0/tavz_lab/scratch/amillet/KB_notebook/output_1_h5ad/tmp/output.s.c.bus\n",
      "[2021-06-23 21:59:44,354]   DEBUG [count_lamanno] Read in 86581633 BUS records\n",
      "[2021-06-23 21:59:58,356]   DEBUG [count_lamanno] /rugpfs/fs0/tavz_lab/scratch/amillet/KB_notebook/output_1_h5ad/output.unfiltered.bus passed validation\n",
      "[2021-06-23 21:59:58,357]    INFO [count_lamanno] Capturing records from BUS file /rugpfs/fs0/tavz_lab/scratch/amillet/KB_notebook/output_1_h5ad/output.unfiltered.bus to /rugpfs/fs0/tavz_lab/scratch/amillet/KB_notebook/output_1_h5ad/tmp/spliced.bus with capture list /rugpfs/fs0/tavz_lab/scratch/amillet/KB_notebook/intron_t2c.txt\n",
      "[2021-06-23 21:59:58,357]   DEBUG [count_lamanno] bustools capture -o /rugpfs/fs0/tavz_lab/scratch/amillet/KB_notebook/output_1_h5ad/tmp/spliced.bus -c /rugpfs/fs0/tavz_lab/scratch/amillet/KB_notebook/intron_t2c.txt -e /rugpfs/fs0/tavz_lab/scratch/amillet/KB_notebook/output_1_h5ad/matrix.ec -t /rugpfs/fs0/tavz_lab/scratch/amillet/KB_notebook/output_1_h5ad/transcripts.txt --complement --transcripts /rugpfs/fs0/tavz_lab/scratch/amillet/KB_notebook/output_1_h5ad/output.unfiltered.bus\n",
      "[2021-06-23 22:00:48,416]   DEBUG [count_lamanno] Parsing transcripts .. done\n",
      "[2021-06-23 22:00:48,416]   DEBUG [count_lamanno] Parsing ECs .. done\n",
      "[2021-06-23 22:00:48,416]   DEBUG [count_lamanno] Parsing capture list .. done\n",
      "[2021-06-23 22:00:48,416]   DEBUG [count_lamanno] Read in 86267137 BUS records, wrote 36179297 BUS records\n",
      "[2021-06-23 22:00:57,644]   DEBUG [count_lamanno] /rugpfs/fs0/tavz_lab/scratch/amillet/KB_notebook/output_1_h5ad/tmp/spliced.bus passed validation\n",
      "[2021-06-23 22:00:57,644]    INFO [count_lamanno] Sorting BUS file /rugpfs/fs0/tavz_lab/scratch/amillet/KB_notebook/output_1_h5ad/tmp/spliced.bus to /rugpfs/fs0/tavz_lab/scratch/amillet/KB_notebook/output_1_h5ad/spliced.unfiltered.bus\n",
      "[2021-06-23 22:00:57,645]   DEBUG [count_lamanno] bustools sort -o /rugpfs/fs0/tavz_lab/scratch/amillet/KB_notebook/output_1_h5ad/spliced.unfiltered.bus -T /rugpfs/fs0/tavz_lab/scratch/amillet/KB_notebook/output_1_h5ad/tmp -t 2 -m 4G /rugpfs/fs0/tavz_lab/scratch/amillet/KB_notebook/output_1_h5ad/tmp/spliced.bus\n",
      "[2021-06-23 22:01:06,725]   DEBUG [count_lamanno] Read in 36179297 BUS records\n",
      "[2021-06-23 22:01:16,521]   DEBUG [count_lamanno] /rugpfs/fs0/tavz_lab/scratch/amillet/KB_notebook/output_1_h5ad/spliced.unfiltered.bus passed validation\n",
      "[2021-06-23 22:01:16,521]    INFO [count_lamanno] Inspecting BUS file /rugpfs/fs0/tavz_lab/scratch/amillet/KB_notebook/output_1_h5ad/spliced.unfiltered.bus\n",
      "[2021-06-23 22:01:16,521]   DEBUG [count_lamanno] bustools inspect -o /rugpfs/fs0/tavz_lab/scratch/amillet/KB_notebook/output_1_h5ad/inspect.spliced.json -w /rugpfs/fs0/tavz_lab/scratch/amillet/KB_notebook/output_1_h5ad/10x_version3_whitelist.txt -e /rugpfs/fs0/tavz_lab/scratch/amillet/KB_notebook/output_1_h5ad/matrix.ec /rugpfs/fs0/tavz_lab/scratch/amillet/KB_notebook/output_1_h5ad/spliced.unfiltered.bus\n",
      "[2021-06-23 22:01:56,939]    INFO [count_lamanno] Generating count matrix /rugpfs/fs0/tavz_lab/scratch/amillet/KB_notebook/output_1_h5ad/counts_unfiltered/spliced from BUS file /rugpfs/fs0/tavz_lab/scratch/amillet/KB_notebook/output_1_h5ad/spliced.unfiltered.bus\n",
      "[2021-06-23 22:01:56,939]   DEBUG [count_lamanno] bustools count -o /rugpfs/fs0/tavz_lab/scratch/amillet/KB_notebook/output_1_h5ad/counts_unfiltered/spliced -g /rugpfs/fs0/tavz_lab/scratch/amillet/KB_notebook/t2g.txt -e /rugpfs/fs0/tavz_lab/scratch/amillet/KB_notebook/output_1_h5ad/matrix.ec -t /rugpfs/fs0/tavz_lab/scratch/amillet/KB_notebook/output_1_h5ad/transcripts.txt --genecounts /rugpfs/fs0/tavz_lab/scratch/amillet/KB_notebook/output_1_h5ad/spliced.unfiltered.bus\n",
      "[2021-06-23 22:03:02,004]   DEBUG [count_lamanno] /rugpfs/fs0/tavz_lab/scratch/amillet/KB_notebook/output_1_h5ad/counts_unfiltered/spliced.mtx passed validation\n",
      "[2021-06-23 22:03:02,005]    INFO [count_lamanno] Capturing records from BUS file /rugpfs/fs0/tavz_lab/scratch/amillet/KB_notebook/output_1_h5ad/output.unfiltered.bus to /rugpfs/fs0/tavz_lab/scratch/amillet/KB_notebook/output_1_h5ad/tmp/unspliced.bus with capture list /rugpfs/fs0/tavz_lab/scratch/amillet/KB_notebook/cdna_t2c.txt\n",
      "[2021-06-23 22:03:02,005]   DEBUG [count_lamanno] bustools capture -o /rugpfs/fs0/tavz_lab/scratch/amillet/KB_notebook/output_1_h5ad/tmp/unspliced.bus -c /rugpfs/fs0/tavz_lab/scratch/amillet/KB_notebook/cdna_t2c.txt -e /rugpfs/fs0/tavz_lab/scratch/amillet/KB_notebook/output_1_h5ad/matrix.ec -t /rugpfs/fs0/tavz_lab/scratch/amillet/KB_notebook/output_1_h5ad/transcripts.txt --complement --transcripts /rugpfs/fs0/tavz_lab/scratch/amillet/KB_notebook/output_1_h5ad/output.unfiltered.bus\n",
      "[2021-06-23 22:03:49,759]   DEBUG [count_lamanno] Parsing transcripts .. done\n",
      "[2021-06-23 22:03:49,760]   DEBUG [count_lamanno] Parsing ECs .. done\n",
      "[2021-06-23 22:03:49,760]   DEBUG [count_lamanno] Parsing capture list .. done\n",
      "[2021-06-23 22:03:49,760]   DEBUG [count_lamanno] Read in 86267137 BUS records, wrote 29093553 BUS records\n",
      "[2021-06-23 22:03:58,785]   DEBUG [count_lamanno] /rugpfs/fs0/tavz_lab/scratch/amillet/KB_notebook/output_1_h5ad/tmp/unspliced.bus passed validation\n",
      "[2021-06-23 22:03:58,785]    INFO [count_lamanno] Sorting BUS file /rugpfs/fs0/tavz_lab/scratch/amillet/KB_notebook/output_1_h5ad/tmp/unspliced.bus to /rugpfs/fs0/tavz_lab/scratch/amillet/KB_notebook/output_1_h5ad/unspliced.unfiltered.bus\n",
      "[2021-06-23 22:03:58,786]   DEBUG [count_lamanno] bustools sort -o /rugpfs/fs0/tavz_lab/scratch/amillet/KB_notebook/output_1_h5ad/unspliced.unfiltered.bus -T /rugpfs/fs0/tavz_lab/scratch/amillet/KB_notebook/output_1_h5ad/tmp -t 2 -m 4G /rugpfs/fs0/tavz_lab/scratch/amillet/KB_notebook/output_1_h5ad/tmp/unspliced.bus\n",
      "[2021-06-23 22:04:06,940]   DEBUG [count_lamanno] Read in 29093553 BUS records\n",
      "[2021-06-23 22:04:16,086]   DEBUG [count_lamanno] /rugpfs/fs0/tavz_lab/scratch/amillet/KB_notebook/output_1_h5ad/unspliced.unfiltered.bus passed validation\n",
      "[2021-06-23 22:04:16,086]    INFO [count_lamanno] Inspecting BUS file /rugpfs/fs0/tavz_lab/scratch/amillet/KB_notebook/output_1_h5ad/unspliced.unfiltered.bus\n",
      "[2021-06-23 22:04:16,086]   DEBUG [count_lamanno] bustools inspect -o /rugpfs/fs0/tavz_lab/scratch/amillet/KB_notebook/output_1_h5ad/inspect.unspliced.json -w /rugpfs/fs0/tavz_lab/scratch/amillet/KB_notebook/output_1_h5ad/10x_version3_whitelist.txt -e /rugpfs/fs0/tavz_lab/scratch/amillet/KB_notebook/output_1_h5ad/matrix.ec /rugpfs/fs0/tavz_lab/scratch/amillet/KB_notebook/output_1_h5ad/unspliced.unfiltered.bus\n",
      "[2021-06-23 22:04:56,736]    INFO [count_lamanno] Generating count matrix /rugpfs/fs0/tavz_lab/scratch/amillet/KB_notebook/output_1_h5ad/counts_unfiltered/unspliced from BUS file /rugpfs/fs0/tavz_lab/scratch/amillet/KB_notebook/output_1_h5ad/unspliced.unfiltered.bus\n",
      "[2021-06-23 22:04:56,737]   DEBUG [count_lamanno] bustools count -o /rugpfs/fs0/tavz_lab/scratch/amillet/KB_notebook/output_1_h5ad/counts_unfiltered/unspliced -g /rugpfs/fs0/tavz_lab/scratch/amillet/KB_notebook/t2g.txt -e /rugpfs/fs0/tavz_lab/scratch/amillet/KB_notebook/output_1_h5ad/matrix.ec -t /rugpfs/fs0/tavz_lab/scratch/amillet/KB_notebook/output_1_h5ad/transcripts.txt --genecounts /rugpfs/fs0/tavz_lab/scratch/amillet/KB_notebook/output_1_h5ad/unspliced.unfiltered.bus\n"
     ]
    },
    {
     "name": "stdout",
     "output_type": "stream",
     "text": [
      "[2021-06-23 22:06:06,147]   DEBUG [count_lamanno] /rugpfs/fs0/tavz_lab/scratch/amillet/KB_notebook/output_1_h5ad/counts_unfiltered/unspliced.mtx passed validation\n",
      "[2021-06-23 22:06:06,150]    INFO [count_lamanno] Reading matrix /rugpfs/fs0/tavz_lab/scratch/amillet/KB_notebook/output_1_h5ad/counts_unfiltered/spliced.mtx\n",
      "[2021-06-23 22:06:30,026]    INFO [count_lamanno] Reading matrix /rugpfs/fs0/tavz_lab/scratch/amillet/KB_notebook/output_1_h5ad/counts_unfiltered/unspliced.mtx\n",
      "[2021-06-23 22:06:51,163]    INFO [count_lamanno] Combining matrices\n",
      "[2021-06-23 22:06:52,093]    INFO [count_lamanno] Writing matrices to h5ad /rugpfs/fs0/tavz_lab/scratch/amillet/KB_notebook/output_1_h5ad/counts_unfiltered/adata.h5ad\n",
      "... storing 'gene_name' as categorical\n",
      "[2021-06-23 22:06:53,550]   DEBUG [main] Removing `/rugpfs/fs0/tavz_lab/scratch/amillet/KB_notebook/output_1_h5ad/tmp` directory\n",
      "CPU times: user 1min 26s, sys: 14 s, total: 1min 40s\n",
      "Wall time: 1h 13min 6s\n"
     ]
    }
   ],
   "source": [
    "%%time\n",
    "!kb count -i /rugpfs/fs0/tavz_lab/scratch/amillet/KB_notebook/index.idx \\\n",
    "-g /rugpfs/fs0/tavz_lab/scratch/amillet/KB_notebook/t2g.txt \\\n",
    "-x 10xv3 \\\n",
    "--workflow lamanno \\\n",
    "--h5ad \\\n",
    "-c1 /rugpfs/fs0/tavz_lab/scratch/amillet/KB_notebook/cdna_t2c.txt \\\n",
    "-c2 /rugpfs/fs0/tavz_lab/scratch/amillet/KB_notebook/intron_t2c.txt \\\n",
    "--verbose \\\n",
    "-o /rugpfs/fs0/tavz_lab/scratch/amillet/KB_notebook/output_1_h5ad/ \\\n",
    "-t 2 \\\n",
    "--overwrite \\\n",
    "/rugpfs/fs0/tavz_lab/scratch/amillet/E3E4_fastqs/1_S1_L001_R1_001.fastq.gz \\\n",
    "/rugpfs/fs0/tavz_lab/scratch/amillet/E3E4_fastqs/1_S1_L001_R2_001.fastq.gz \\\n",
    "/rugpfs/fs0/tavz_lab/scratch/amillet/E3E4_fastqs/1_S1_L002_R1_001.fastq.gz \\\n",
    "/rugpfs/fs0/tavz_lab/scratch/amillet/E3E4_fastqs/1_S1_L002_R2_001.fastq.gz \\\n",
    "/rugpfs/fs0/tavz_lab/scratch/amillet/E3E4_fastqs/1_S1_L003_R1_001.fastq.gz \\\n",
    "/rugpfs/fs0/tavz_lab/scratch/amillet/E3E4_fastqs/1_S1_L003_R2_001.fastq.gz \\\n",
    "/rugpfs/fs0/tavz_lab/scratch/amillet/E3E4_fastqs/1_S1_L004_R1_001.fastq.gz \\\n",
    "/rugpfs/fs0/tavz_lab/scratch/amillet/E3E4_fastqs/1_S1_L004_R2_001.fastq.gz \\"
   ]
  },
  {
   "cell_type": "code",
   "execution_count": 5,
   "metadata": {
    "scrolled": true
   },
   "outputs": [
    {
     "name": "stdout",
     "output_type": "stream",
     "text": [
      "[2021-06-23 22:15:00,300]   DEBUG [main] Printing verbose output\n",
      "[2021-06-23 22:15:00,305]   DEBUG [main] kallisto binary located at /ru-auth/local/home/amillet/.local/lib/python3.7/site-packages/kb_python/bins/linux/kallisto/kallisto\n",
      "[2021-06-23 22:15:00,305]   DEBUG [main] bustools binary located at /ru-auth/local/home/amillet/.local/lib/python3.7/site-packages/kb_python/bins/linux/bustools/bustools\n",
      "[2021-06-23 22:15:00,311]   DEBUG [main] Creating `/rugpfs/fs0/tavz_lab/scratch/amillet/KB_notebook/output_2_h5ad/tmp` directory\n",
      "[2021-06-23 22:15:00,313]   DEBUG [main] Namespace(bustools='/ru-auth/local/home/amillet/.local/lib/python3.7/site-packages/kb_python/bins/linux/bustools/bustools', c1='/rugpfs/fs0/tavz_lab/scratch/amillet/KB_notebook/cdna_t2c.txt', c2='/rugpfs/fs0/tavz_lab/scratch/amillet/KB_notebook/intron_t2c.txt', cellranger=False, command='count', dry_run=False, fastqs=['/rugpfs/fs0/tavz_lab/scratch/amillet/E3E4_fastqs/2_S2_L001_R1_001.fastq.gz', '/rugpfs/fs0/tavz_lab/scratch/amillet/E3E4_fastqs/2_S2_L001_R2_001.fastq.gz', '/rugpfs/fs0/tavz_lab/scratch/amillet/E3E4_fastqs/2_S2_L002_R1_001.fastq.gz', '/rugpfs/fs0/tavz_lab/scratch/amillet/E3E4_fastqs/2_S2_L002_R2_001.fastq.gz', '/rugpfs/fs0/tavz_lab/scratch/amillet/E3E4_fastqs/2_S2_L003_R1_001.fastq.gz', '/rugpfs/fs0/tavz_lab/scratch/amillet/E3E4_fastqs/2_S2_L003_R2_001.fastq.gz', '/rugpfs/fs0/tavz_lab/scratch/amillet/E3E4_fastqs/2_S2_L004_R1_001.fastq.gz', '/rugpfs/fs0/tavz_lab/scratch/amillet/E3E4_fastqs/2_S2_L004_R2_001.fastq.gz'], filter=None, g='/rugpfs/fs0/tavz_lab/scratch/amillet/KB_notebook/t2g.txt', h5ad=True, i='/rugpfs/fs0/tavz_lab/scratch/amillet/KB_notebook/index.idx', kallisto='/ru-auth/local/home/amillet/.local/lib/python3.7/site-packages/kb_python/bins/linux/kallisto/kallisto', keep_tmp=False, list=False, loom=False, m='4G', mm=False, no_inspect=False, no_validate=False, o='/rugpfs/fs0/tavz_lab/scratch/amillet/KB_notebook/output_2_h5ad/', overwrite=True, report=False, t=2, tcc=False, tmp=None, verbose=True, w=None, workflow='lamanno', x='10xv3')\n",
      "[2021-06-23 22:15:00,415]    INFO [count_lamanno] Using index /rugpfs/fs0/tavz_lab/scratch/amillet/KB_notebook/index.idx to generate BUS file to /rugpfs/fs0/tavz_lab/scratch/amillet/KB_notebook/output_2_h5ad/ from\n",
      "[2021-06-23 22:15:00,415]    INFO [count_lamanno]         /rugpfs/fs0/tavz_lab/scratch/amillet/E3E4_fastqs/2_S2_L001_R1_001.fastq.gz\n",
      "[2021-06-23 22:15:00,415]    INFO [count_lamanno]         /rugpfs/fs0/tavz_lab/scratch/amillet/E3E4_fastqs/2_S2_L001_R2_001.fastq.gz\n",
      "[2021-06-23 22:15:00,415]    INFO [count_lamanno]         /rugpfs/fs0/tavz_lab/scratch/amillet/E3E4_fastqs/2_S2_L002_R1_001.fastq.gz\n",
      "[2021-06-23 22:15:00,415]    INFO [count_lamanno]         /rugpfs/fs0/tavz_lab/scratch/amillet/E3E4_fastqs/2_S2_L002_R2_001.fastq.gz\n",
      "[2021-06-23 22:15:00,416]    INFO [count_lamanno]         /rugpfs/fs0/tavz_lab/scratch/amillet/E3E4_fastqs/2_S2_L003_R1_001.fastq.gz\n",
      "[2021-06-23 22:15:00,416]    INFO [count_lamanno]         /rugpfs/fs0/tavz_lab/scratch/amillet/E3E4_fastqs/2_S2_L003_R2_001.fastq.gz\n",
      "[2021-06-23 22:15:00,416]    INFO [count_lamanno]         /rugpfs/fs0/tavz_lab/scratch/amillet/E3E4_fastqs/2_S2_L004_R1_001.fastq.gz\n",
      "[2021-06-23 22:15:00,416]    INFO [count_lamanno]         /rugpfs/fs0/tavz_lab/scratch/amillet/E3E4_fastqs/2_S2_L004_R2_001.fastq.gz\n",
      "[2021-06-23 22:15:00,416]   DEBUG [count_lamanno] kallisto bus -i /rugpfs/fs0/tavz_lab/scratch/amillet/KB_notebook/index.idx -o /rugpfs/fs0/tavz_lab/scratch/amillet/KB_notebook/output_2_h5ad/ -x 10xv3 -t 2 /rugpfs/fs0/tavz_lab/scratch/amillet/E3E4_fastqs/2_S2_L001_R1_001.fastq.gz /rugpfs/fs0/tavz_lab/scratch/amillet/E3E4_fastqs/2_S2_L001_R2_001.fastq.gz /rugpfs/fs0/tavz_lab/scratch/amillet/E3E4_fastqs/2_S2_L002_R1_001.fastq.gz /rugpfs/fs0/tavz_lab/scratch/amillet/E3E4_fastqs/2_S2_L002_R2_001.fastq.gz /rugpfs/fs0/tavz_lab/scratch/amillet/E3E4_fastqs/2_S2_L003_R1_001.fastq.gz /rugpfs/fs0/tavz_lab/scratch/amillet/E3E4_fastqs/2_S2_L003_R2_001.fastq.gz /rugpfs/fs0/tavz_lab/scratch/amillet/E3E4_fastqs/2_S2_L004_R1_001.fastq.gz /rugpfs/fs0/tavz_lab/scratch/amillet/E3E4_fastqs/2_S2_L004_R2_001.fastq.gz\n",
      "[2021-06-23 23:12:06,532]   DEBUG [count_lamanno] \n",
      "[2021-06-23 23:12:06,532]   DEBUG [count_lamanno] [index] k-mer length: 31\n",
      "[2021-06-23 23:12:06,532]   DEBUG [count_lamanno] [index] number of targets: 790,624\n",
      "[2021-06-23 23:12:06,532]   DEBUG [count_lamanno] [index] number of k-mers: 1,110,366,064\n",
      "[2021-06-23 23:12:06,532]   DEBUG [count_lamanno] [index] number of equivalence classes: 5,483,839\n",
      "[2021-06-23 23:12:06,532]   DEBUG [count_lamanno] [quant] will process sample 1: /rugpfs/fs0/tavz_lab/scratch/amillet/E3E4_fastqs/2_S2_L001_R1_001.fastq.gz\n",
      "[2021-06-23 23:12:06,532]   DEBUG [count_lamanno] /rugpfs/fs0/tavz_lab/scratch/amillet/E3E4_fastqs/2_S2_L001_R2_001.fastq.gz\n",
      "[2021-06-23 23:12:06,532]   DEBUG [count_lamanno] [quant] will process sample 2: /rugpfs/fs0/tavz_lab/scratch/amillet/E3E4_fastqs/2_S2_L002_R1_001.fastq.gz\n",
      "[2021-06-23 23:12:06,533]   DEBUG [count_lamanno] /rugpfs/fs0/tavz_lab/scratch/amillet/E3E4_fastqs/2_S2_L002_R2_001.fastq.gz\n",
      "[2021-06-23 23:12:06,533]   DEBUG [count_lamanno] [quant] will process sample 3: /rugpfs/fs0/tavz_lab/scratch/amillet/E3E4_fastqs/2_S2_L003_R1_001.fastq.gz\n",
      "[2021-06-23 23:12:06,533]   DEBUG [count_lamanno] /rugpfs/fs0/tavz_lab/scratch/amillet/E3E4_fastqs/2_S2_L003_R2_001.fastq.gz\n",
      "[2021-06-23 23:12:06,533]   DEBUG [count_lamanno] [quant] will process sample 4: /rugpfs/fs0/tavz_lab/scratch/amillet/E3E4_fastqs/2_S2_L004_R1_001.fastq.gz\n",
      "[2021-06-23 23:12:06,533]   DEBUG [count_lamanno] /rugpfs/fs0/tavz_lab/scratch/amillet/E3E4_fastqs/2_S2_L004_R2_001.fastq.gz\n",
      "[2021-06-23 23:12:06,533]   DEBUG [count_lamanno] [quant] finding pseudoalignments for the reads ... done\n",
      "[2021-06-23 23:12:06,533]   DEBUG [count_lamanno] [quant] processed 234,190,769 reads, 193,360,533 reads pseudoaligned\n",
      "[2021-06-23 23:12:56,227]   DEBUG [count_lamanno] /rugpfs/fs0/tavz_lab/scratch/amillet/KB_notebook/output_2_h5ad/output.bus passed validation\n",
      "[2021-06-23 23:12:56,229]    INFO [count_lamanno] Sorting BUS file /rugpfs/fs0/tavz_lab/scratch/amillet/KB_notebook/output_2_h5ad/output.bus to /rugpfs/fs0/tavz_lab/scratch/amillet/KB_notebook/output_2_h5ad/tmp/output.s.bus\n",
      "[2021-06-23 23:12:56,229]   DEBUG [count_lamanno] bustools sort -o /rugpfs/fs0/tavz_lab/scratch/amillet/KB_notebook/output_2_h5ad/tmp/output.s.bus -T /rugpfs/fs0/tavz_lab/scratch/amillet/KB_notebook/output_2_h5ad/tmp -t 2 -m 4G /rugpfs/fs0/tavz_lab/scratch/amillet/KB_notebook/output_2_h5ad/output.bus\n",
      "[2021-06-23 23:14:12,226]   DEBUG [count_lamanno] Read in 193360533 BUS records\n",
      "[2021-06-23 23:14:30,198]   DEBUG [count_lamanno] /rugpfs/fs0/tavz_lab/scratch/amillet/KB_notebook/output_2_h5ad/tmp/output.s.bus passed validation\n",
      "[2021-06-23 23:14:30,199]    INFO [count_lamanno] Whitelist not provided\n",
      "[2021-06-23 23:14:30,199]    INFO [count_lamanno] Copying pre-packaged 10XV3 whitelist to /rugpfs/fs0/tavz_lab/scratch/amillet/KB_notebook/output_2_h5ad/\n",
      "[2021-06-23 23:14:31,597]    INFO [count_lamanno] Inspecting BUS file /rugpfs/fs0/tavz_lab/scratch/amillet/KB_notebook/output_2_h5ad/tmp/output.s.bus\n",
      "[2021-06-23 23:14:31,597]   DEBUG [count_lamanno] bustools inspect -o /rugpfs/fs0/tavz_lab/scratch/amillet/KB_notebook/output_2_h5ad/inspect.json -w /rugpfs/fs0/tavz_lab/scratch/amillet/KB_notebook/output_2_h5ad/10x_version3_whitelist.txt -e /rugpfs/fs0/tavz_lab/scratch/amillet/KB_notebook/output_2_h5ad/matrix.ec /rugpfs/fs0/tavz_lab/scratch/amillet/KB_notebook/output_2_h5ad/tmp/output.s.bus\n",
      "[2021-06-23 23:15:55,140]    INFO [count_lamanno] Correcting BUS records in /rugpfs/fs0/tavz_lab/scratch/amillet/KB_notebook/output_2_h5ad/tmp/output.s.bus to /rugpfs/fs0/tavz_lab/scratch/amillet/KB_notebook/output_2_h5ad/tmp/output.s.c.bus with whitelist /rugpfs/fs0/tavz_lab/scratch/amillet/KB_notebook/output_2_h5ad/10x_version3_whitelist.txt\n",
      "[2021-06-23 23:15:55,140]   DEBUG [count_lamanno] bustools correct -o /rugpfs/fs0/tavz_lab/scratch/amillet/KB_notebook/output_2_h5ad/tmp/output.s.c.bus -w /rugpfs/fs0/tavz_lab/scratch/amillet/KB_notebook/output_2_h5ad/10x_version3_whitelist.txt /rugpfs/fs0/tavz_lab/scratch/amillet/KB_notebook/output_2_h5ad/tmp/output.s.bus\n"
     ]
    },
    {
     "name": "stdout",
     "output_type": "stream",
     "text": [
      "[2021-06-23 23:16:15,537]   DEBUG [count_lamanno] Found 6794880 barcodes in the whitelist\n",
      "[2021-06-23 23:16:15,538]   DEBUG [count_lamanno] Processed 78735984 BUS records\n",
      "[2021-06-23 23:16:15,538]   DEBUG [count_lamanno] In whitelist = 73309827\n",
      "[2021-06-23 23:16:15,538]   DEBUG [count_lamanno] Corrected    = 613010\n",
      "[2021-06-23 23:16:15,538]   DEBUG [count_lamanno] Uncorrected  = 4813147\n",
      "[2021-06-23 23:16:29,303]   DEBUG [count_lamanno] /rugpfs/fs0/tavz_lab/scratch/amillet/KB_notebook/output_2_h5ad/tmp/output.s.c.bus passed validation\n",
      "[2021-06-23 23:16:29,303]    INFO [count_lamanno] Sorting BUS file /rugpfs/fs0/tavz_lab/scratch/amillet/KB_notebook/output_2_h5ad/tmp/output.s.c.bus to /rugpfs/fs0/tavz_lab/scratch/amillet/KB_notebook/output_2_h5ad/output.unfiltered.bus\n",
      "[2021-06-23 23:16:29,303]   DEBUG [count_lamanno] bustools sort -o /rugpfs/fs0/tavz_lab/scratch/amillet/KB_notebook/output_2_h5ad/output.unfiltered.bus -T /rugpfs/fs0/tavz_lab/scratch/amillet/KB_notebook/output_2_h5ad/tmp -t 2 -m 4G /rugpfs/fs0/tavz_lab/scratch/amillet/KB_notebook/output_2_h5ad/tmp/output.s.c.bus\n",
      "[2021-06-23 23:16:51,347]   DEBUG [count_lamanno] Read in 73922837 BUS records\n",
      "[2021-06-23 23:17:04,850]   DEBUG [count_lamanno] /rugpfs/fs0/tavz_lab/scratch/amillet/KB_notebook/output_2_h5ad/output.unfiltered.bus passed validation\n",
      "[2021-06-23 23:17:04,851]    INFO [count_lamanno] Capturing records from BUS file /rugpfs/fs0/tavz_lab/scratch/amillet/KB_notebook/output_2_h5ad/output.unfiltered.bus to /rugpfs/fs0/tavz_lab/scratch/amillet/KB_notebook/output_2_h5ad/tmp/spliced.bus with capture list /rugpfs/fs0/tavz_lab/scratch/amillet/KB_notebook/intron_t2c.txt\n",
      "[2021-06-23 23:17:04,851]   DEBUG [count_lamanno] bustools capture -o /rugpfs/fs0/tavz_lab/scratch/amillet/KB_notebook/output_2_h5ad/tmp/spliced.bus -c /rugpfs/fs0/tavz_lab/scratch/amillet/KB_notebook/intron_t2c.txt -e /rugpfs/fs0/tavz_lab/scratch/amillet/KB_notebook/output_2_h5ad/matrix.ec -t /rugpfs/fs0/tavz_lab/scratch/amillet/KB_notebook/output_2_h5ad/transcripts.txt --complement --transcripts /rugpfs/fs0/tavz_lab/scratch/amillet/KB_notebook/output_2_h5ad/output.unfiltered.bus\n",
      "[2021-06-23 23:17:57,999]   DEBUG [count_lamanno] Parsing transcripts .. done\n",
      "[2021-06-23 23:17:58,000]   DEBUG [count_lamanno] Parsing ECs .. done\n",
      "[2021-06-23 23:17:58,000]   DEBUG [count_lamanno] Parsing capture list .. done\n",
      "[2021-06-23 23:17:58,000]   DEBUG [count_lamanno] Read in 73583949 BUS records, wrote 31272056 BUS records\n",
      "[2021-06-23 23:18:07,049]   DEBUG [count_lamanno] /rugpfs/fs0/tavz_lab/scratch/amillet/KB_notebook/output_2_h5ad/tmp/spliced.bus passed validation\n",
      "[2021-06-23 23:18:07,050]    INFO [count_lamanno] Sorting BUS file /rugpfs/fs0/tavz_lab/scratch/amillet/KB_notebook/output_2_h5ad/tmp/spliced.bus to /rugpfs/fs0/tavz_lab/scratch/amillet/KB_notebook/output_2_h5ad/spliced.unfiltered.bus\n",
      "[2021-06-23 23:18:07,050]   DEBUG [count_lamanno] bustools sort -o /rugpfs/fs0/tavz_lab/scratch/amillet/KB_notebook/output_2_h5ad/spliced.unfiltered.bus -T /rugpfs/fs0/tavz_lab/scratch/amillet/KB_notebook/output_2_h5ad/tmp -t 2 -m 4G /rugpfs/fs0/tavz_lab/scratch/amillet/KB_notebook/output_2_h5ad/tmp/spliced.bus\n",
      "[2021-06-23 23:18:16,067]   DEBUG [count_lamanno] Read in 31272056 BUS records\n",
      "[2021-06-23 23:18:25,057]   DEBUG [count_lamanno] /rugpfs/fs0/tavz_lab/scratch/amillet/KB_notebook/output_2_h5ad/spliced.unfiltered.bus passed validation\n",
      "[2021-06-23 23:18:25,058]    INFO [count_lamanno] Inspecting BUS file /rugpfs/fs0/tavz_lab/scratch/amillet/KB_notebook/output_2_h5ad/spliced.unfiltered.bus\n",
      "[2021-06-23 23:18:25,058]   DEBUG [count_lamanno] bustools inspect -o /rugpfs/fs0/tavz_lab/scratch/amillet/KB_notebook/output_2_h5ad/inspect.spliced.json -w /rugpfs/fs0/tavz_lab/scratch/amillet/KB_notebook/output_2_h5ad/10x_version3_whitelist.txt -e /rugpfs/fs0/tavz_lab/scratch/amillet/KB_notebook/output_2_h5ad/matrix.ec /rugpfs/fs0/tavz_lab/scratch/amillet/KB_notebook/output_2_h5ad/spliced.unfiltered.bus\n",
      "[2021-06-23 23:19:08,179]    INFO [count_lamanno] Generating count matrix /rugpfs/fs0/tavz_lab/scratch/amillet/KB_notebook/output_2_h5ad/counts_unfiltered/spliced from BUS file /rugpfs/fs0/tavz_lab/scratch/amillet/KB_notebook/output_2_h5ad/spliced.unfiltered.bus\n",
      "[2021-06-23 23:19:08,180]   DEBUG [count_lamanno] bustools count -o /rugpfs/fs0/tavz_lab/scratch/amillet/KB_notebook/output_2_h5ad/counts_unfiltered/spliced -g /rugpfs/fs0/tavz_lab/scratch/amillet/KB_notebook/t2g.txt -e /rugpfs/fs0/tavz_lab/scratch/amillet/KB_notebook/output_2_h5ad/matrix.ec -t /rugpfs/fs0/tavz_lab/scratch/amillet/KB_notebook/output_2_h5ad/transcripts.txt --genecounts /rugpfs/fs0/tavz_lab/scratch/amillet/KB_notebook/output_2_h5ad/spliced.unfiltered.bus\n",
      "[2021-06-23 23:20:17,905]   DEBUG [count_lamanno] /rugpfs/fs0/tavz_lab/scratch/amillet/KB_notebook/output_2_h5ad/counts_unfiltered/spliced.mtx passed validation\n",
      "[2021-06-23 23:20:17,908]    INFO [count_lamanno] Capturing records from BUS file /rugpfs/fs0/tavz_lab/scratch/amillet/KB_notebook/output_2_h5ad/output.unfiltered.bus to /rugpfs/fs0/tavz_lab/scratch/amillet/KB_notebook/output_2_h5ad/tmp/unspliced.bus with capture list /rugpfs/fs0/tavz_lab/scratch/amillet/KB_notebook/cdna_t2c.txt\n",
      "[2021-06-23 23:20:17,908]   DEBUG [count_lamanno] bustools capture -o /rugpfs/fs0/tavz_lab/scratch/amillet/KB_notebook/output_2_h5ad/tmp/unspliced.bus -c /rugpfs/fs0/tavz_lab/scratch/amillet/KB_notebook/cdna_t2c.txt -e /rugpfs/fs0/tavz_lab/scratch/amillet/KB_notebook/output_2_h5ad/matrix.ec -t /rugpfs/fs0/tavz_lab/scratch/amillet/KB_notebook/output_2_h5ad/transcripts.txt --complement --transcripts /rugpfs/fs0/tavz_lab/scratch/amillet/KB_notebook/output_2_h5ad/output.unfiltered.bus\n",
      "[2021-06-23 23:21:05,811]   DEBUG [count_lamanno] Parsing transcripts .. done\n",
      "[2021-06-23 23:21:05,811]   DEBUG [count_lamanno] Parsing ECs .. done\n",
      "[2021-06-23 23:21:05,811]   DEBUG [count_lamanno] Parsing capture list .. done\n",
      "[2021-06-23 23:21:05,811]   DEBUG [count_lamanno] Read in 73583949 BUS records, wrote 22539499 BUS records\n",
      "[2021-06-23 23:21:14,374]   DEBUG [count_lamanno] /rugpfs/fs0/tavz_lab/scratch/amillet/KB_notebook/output_2_h5ad/tmp/unspliced.bus passed validation\n",
      "[2021-06-23 23:21:14,374]    INFO [count_lamanno] Sorting BUS file /rugpfs/fs0/tavz_lab/scratch/amillet/KB_notebook/output_2_h5ad/tmp/unspliced.bus to /rugpfs/fs0/tavz_lab/scratch/amillet/KB_notebook/output_2_h5ad/unspliced.unfiltered.bus\n",
      "[2021-06-23 23:21:14,374]   DEBUG [count_lamanno] bustools sort -o /rugpfs/fs0/tavz_lab/scratch/amillet/KB_notebook/output_2_h5ad/unspliced.unfiltered.bus -T /rugpfs/fs0/tavz_lab/scratch/amillet/KB_notebook/output_2_h5ad/tmp -t 2 -m 4G /rugpfs/fs0/tavz_lab/scratch/amillet/KB_notebook/output_2_h5ad/tmp/unspliced.bus\n",
      "[2021-06-23 23:21:20,868]   DEBUG [count_lamanno] Read in 22539499 BUS records\n",
      "[2021-06-23 23:21:29,187]   DEBUG [count_lamanno] /rugpfs/fs0/tavz_lab/scratch/amillet/KB_notebook/output_2_h5ad/unspliced.unfiltered.bus passed validation\n",
      "[2021-06-23 23:21:29,187]    INFO [count_lamanno] Inspecting BUS file /rugpfs/fs0/tavz_lab/scratch/amillet/KB_notebook/output_2_h5ad/unspliced.unfiltered.bus\n",
      "[2021-06-23 23:21:29,187]   DEBUG [count_lamanno] bustools inspect -o /rugpfs/fs0/tavz_lab/scratch/amillet/KB_notebook/output_2_h5ad/inspect.unspliced.json -w /rugpfs/fs0/tavz_lab/scratch/amillet/KB_notebook/output_2_h5ad/10x_version3_whitelist.txt -e /rugpfs/fs0/tavz_lab/scratch/amillet/KB_notebook/output_2_h5ad/matrix.ec /rugpfs/fs0/tavz_lab/scratch/amillet/KB_notebook/output_2_h5ad/unspliced.unfiltered.bus\n",
      "[2021-06-23 23:22:10,023]    INFO [count_lamanno] Generating count matrix /rugpfs/fs0/tavz_lab/scratch/amillet/KB_notebook/output_2_h5ad/counts_unfiltered/unspliced from BUS file /rugpfs/fs0/tavz_lab/scratch/amillet/KB_notebook/output_2_h5ad/unspliced.unfiltered.bus\n",
      "[2021-06-23 23:22:10,024]   DEBUG [count_lamanno] bustools count -o /rugpfs/fs0/tavz_lab/scratch/amillet/KB_notebook/output_2_h5ad/counts_unfiltered/unspliced -g /rugpfs/fs0/tavz_lab/scratch/amillet/KB_notebook/t2g.txt -e /rugpfs/fs0/tavz_lab/scratch/amillet/KB_notebook/output_2_h5ad/matrix.ec -t /rugpfs/fs0/tavz_lab/scratch/amillet/KB_notebook/output_2_h5ad/transcripts.txt --genecounts /rugpfs/fs0/tavz_lab/scratch/amillet/KB_notebook/output_2_h5ad/unspliced.unfiltered.bus\n"
     ]
    },
    {
     "name": "stdout",
     "output_type": "stream",
     "text": [
      "[2021-06-23 23:23:16,495]   DEBUG [count_lamanno] /rugpfs/fs0/tavz_lab/scratch/amillet/KB_notebook/output_2_h5ad/counts_unfiltered/unspliced.mtx passed validation\n",
      "[2021-06-23 23:23:16,498]    INFO [count_lamanno] Reading matrix /rugpfs/fs0/tavz_lab/scratch/amillet/KB_notebook/output_2_h5ad/counts_unfiltered/spliced.mtx\n",
      "[2021-06-23 23:23:41,801]    INFO [count_lamanno] Reading matrix /rugpfs/fs0/tavz_lab/scratch/amillet/KB_notebook/output_2_h5ad/counts_unfiltered/unspliced.mtx\n",
      "[2021-06-23 23:24:04,410]    INFO [count_lamanno] Combining matrices\n",
      "[2021-06-23 23:24:05,298]    INFO [count_lamanno] Writing matrices to h5ad /rugpfs/fs0/tavz_lab/scratch/amillet/KB_notebook/output_2_h5ad/counts_unfiltered/adata.h5ad\n",
      "... storing 'gene_name' as categorical\n",
      "[2021-06-23 23:24:06,952]   DEBUG [main] Removing `/rugpfs/fs0/tavz_lab/scratch/amillet/KB_notebook/output_2_h5ad/tmp` directory\n",
      "CPU times: user 1min 22s, sys: 12.6 s, total: 1min 35s\n",
      "Wall time: 1h 9min 33s\n"
     ]
    }
   ],
   "source": [
    "%%time\n",
    "!kb count -i /rugpfs/fs0/tavz_lab/scratch/amillet/KB_notebook/index.idx \\\n",
    "-g /rugpfs/fs0/tavz_lab/scratch/amillet/KB_notebook/t2g.txt \\\n",
    "-x 10xv3 \\\n",
    "--workflow lamanno \\\n",
    "--h5ad \\\n",
    "-c1 /rugpfs/fs0/tavz_lab/scratch/amillet/KB_notebook/cdna_t2c.txt \\\n",
    "-c2 /rugpfs/fs0/tavz_lab/scratch/amillet/KB_notebook/intron_t2c.txt \\\n",
    "--verbose \\\n",
    "-o /rugpfs/fs0/tavz_lab/scratch/amillet/KB_notebook/output_2_h5ad/ \\\n",
    "-t 2 \\\n",
    "--overwrite \\\n",
    "/rugpfs/fs0/tavz_lab/scratch/amillet/E3E4_fastqs/2_S2_L001_R1_001.fastq.gz \\\n",
    "/rugpfs/fs0/tavz_lab/scratch/amillet/E3E4_fastqs/2_S2_L001_R2_001.fastq.gz \\\n",
    "/rugpfs/fs0/tavz_lab/scratch/amillet/E3E4_fastqs/2_S2_L002_R1_001.fastq.gz \\\n",
    "/rugpfs/fs0/tavz_lab/scratch/amillet/E3E4_fastqs/2_S2_L002_R2_001.fastq.gz \\\n",
    "/rugpfs/fs0/tavz_lab/scratch/amillet/E3E4_fastqs/2_S2_L003_R1_001.fastq.gz \\\n",
    "/rugpfs/fs0/tavz_lab/scratch/amillet/E3E4_fastqs/2_S2_L003_R2_001.fastq.gz \\\n",
    "/rugpfs/fs0/tavz_lab/scratch/amillet/E3E4_fastqs/2_S2_L004_R1_001.fastq.gz \\\n",
    "/rugpfs/fs0/tavz_lab/scratch/amillet/E3E4_fastqs/2_S2_L004_R2_001.fastq.gz \\"
   ]
  },
  {
   "cell_type": "markdown",
   "metadata": {},
   "source": [
    "# Generate h5ad from 5' hashed samples"
   ]
  },
  {
   "cell_type": "code",
   "execution_count": 5,
   "metadata": {},
   "outputs": [
    {
     "data": {
      "text/plain": [
       "['E2E3E4_10wk_Microglia_HTO_S2_L002_R2_001.fastq.gz',\n",
       " 'E2E3E4_10wk_Microglia_ex_S1_L002_I1_001.fastq.gz',\n",
       " 'E2E3E4_10wk_Microglia_ex_S1_L002_I2_001.fastq.gz',\n",
       " 'E2E3E4_10wk_Microglia_HTO_S2_L001_I1_001.fastq.gz',\n",
       " 'E2E3E4_10wk_Microglia_HTO_S2_L002_I1_001.fastq.gz',\n",
       " 'E2E3E4_10wk_Microglia_HTO_S2_L002_R1_001.fastq.gz',\n",
       " 'E2E3E4_10wk_Microglia_ex_S1_L001_R2_001.fastq.gz',\n",
       " 'E2E3E4_10wk_Microglia_HTO_S2_L002_I2_001.fastq.gz',\n",
       " 'E2E3E4_10wk_Microglia_ex_S1_L001_I1_001.fastq.gz',\n",
       " 'E2E3E4_10wk_Microglia_HTO_S2_L001_I2_001.fastq.gz',\n",
       " 'E2E3E4_10wk_Microglia_HTO_S2_L001_R1_001.fastq.gz',\n",
       " 'E2E3E4_10wk_Microglia_HTO_S2_L001_R2_001.fastq.gz',\n",
       " '220706_A00815_0405_BH72FNDRX2.md5',\n",
       " 'E2E3E4_10wk_Microglia_ex_S1_L002_R2_001.fastq.gz',\n",
       " 'E2E3E4_10wk_Microglia_ex_S1_L002_R1_001.fastq.gz',\n",
       " 'E2E3E4_10wk_Microglia_ex_S1_L001_I2_001.fastq.gz',\n",
       " 'E2E3E4_10wk_Microglia_ex_S1_L001_R1_001.fastq.gz']"
      ]
     },
     "execution_count": 5,
     "metadata": {},
     "output_type": "execute_result"
    }
   ],
   "source": [
    "import os\n",
    "os.listdir(\"/rugpfs/fs0/tavz_lab/scratch/amillet/07_06_2022_Alon/fastqs\")"
   ]
  },
  {
   "cell_type": "code",
   "execution_count": 2,
   "metadata": {
    "scrolled": false
   },
   "outputs": [
    {
     "name": "stdout",
     "output_type": "stream",
     "text": [
      "[2022-07-13 16:33:44,321]   DEBUG [main] Printing verbose output\n",
      "[2022-07-13 16:33:46,547]   DEBUG [main] kallisto binary located at /rugpfs/fs0/home/amillet/miniconda3/envs/py38/lib/python3.8/site-packages/kb_python/bins/compiled/kallisto/kallisto\n",
      "[2022-07-13 16:33:46,548]   DEBUG [main] bustools binary located at /rugpfs/fs0/home/amillet/miniconda3/envs/py38/lib/python3.8/site-packages/kb_python/bins/compiled/bustools/bustools\n",
      "[2022-07-13 16:33:46,549]   DEBUG [main] Creating `/rugpfs/fs0/tavz_lab/scratch/amillet/07_06_2022_Alon/kb_count/tmp` directory\n",
      "[2022-07-13 16:33:46,550]   DEBUG [main] Namespace(bustools='/rugpfs/fs0/home/amillet/miniconda3/envs/py38/lib/python3.8/site-packages/kb_python/bins/compiled/bustools/bustools', c1='/rugpfs/fs0/tavz_lab/scratch/amillet/KB_notebook/cdna_t2c.txt', c2='/rugpfs/fs0/tavz_lab/scratch/amillet/KB_notebook/intron_t2c.txt', cellranger=False, command='count', dry_run=False, em=False, fastqs=['/rugpfs/fs0/tavz_lab/scratch/amillet/07_06_2022_Alon/fastqs/E2E3E4_10wk_Microglia_ex_S1_L001_R1_001.fastq.gz', '/rugpfs/fs0/tavz_lab/scratch/amillet/07_06_2022_Alon/fastqs/E2E3E4_10wk_Microglia_ex_S1_L001_R2_001.fastq.gz', '/rugpfs/fs0/tavz_lab/scratch/amillet/07_06_2022_Alon/fastqs/E2E3E4_10wk_Microglia_ex_S1_L002_R1_001.fastq.gz', '/rugpfs/fs0/tavz_lab/scratch/amillet/07_06_2022_Alon/fastqs/E2E3E4_10wk_Microglia_ex_S1_L002_R2_001.fastq.gz'], filter=None, filter_threshold=None, fragment_l=None, fragment_s=None, g='/rugpfs/fs0/tavz_lab/scratch/amillet/KB_notebook/t2g.txt', gene_names=False, h5ad=True, i='/rugpfs/fs0/tavz_lab/scratch/amillet/KB_notebook/index.idx', kallisto='/rugpfs/fs0/home/amillet/miniconda3/envs/py38/lib/python3.8/site-packages/kb_python/bins/compiled/kallisto/kallisto', keep_tmp=False, list=False, loom=False, m='4G', mm=False, no_inspect=False, no_validate=False, o='/rugpfs/fs0/tavz_lab/scratch/amillet/07_06_2022_Alon/kb_count/', overwrite=True, parity=None, report=False, strand=None, t=8, tcc=False, tmp=None, umi_gene=False, verbose=True, w=None, workflow='lamanno', x='10xv2')\n",
      "[2022-07-13 16:33:51,159]    INFO [count_lamanno] Using index /rugpfs/fs0/tavz_lab/scratch/amillet/KB_notebook/index.idx to generate BUS file to /rugpfs/fs0/tavz_lab/scratch/amillet/07_06_2022_Alon/kb_count/ from\n",
      "[2022-07-13 16:33:51,160]    INFO [count_lamanno]         /rugpfs/fs0/tavz_lab/scratch/amillet/07_06_2022_Alon/fastqs/E2E3E4_10wk_Microglia_ex_S1_L001_R1_001.fastq.gz\n",
      "[2022-07-13 16:33:51,160]    INFO [count_lamanno]         /rugpfs/fs0/tavz_lab/scratch/amillet/07_06_2022_Alon/fastqs/E2E3E4_10wk_Microglia_ex_S1_L001_R2_001.fastq.gz\n",
      "[2022-07-13 16:33:51,160]    INFO [count_lamanno]         /rugpfs/fs0/tavz_lab/scratch/amillet/07_06_2022_Alon/fastqs/E2E3E4_10wk_Microglia_ex_S1_L002_R1_001.fastq.gz\n",
      "[2022-07-13 16:33:51,160]    INFO [count_lamanno]         /rugpfs/fs0/tavz_lab/scratch/amillet/07_06_2022_Alon/fastqs/E2E3E4_10wk_Microglia_ex_S1_L002_R2_001.fastq.gz\n",
      "[2022-07-13 16:33:51,161]   DEBUG [count_lamanno] kallisto bus -i /rugpfs/fs0/tavz_lab/scratch/amillet/KB_notebook/index.idx -o /rugpfs/fs0/tavz_lab/scratch/amillet/07_06_2022_Alon/kb_count/ -x 10xv2 -t 8 /rugpfs/fs0/tavz_lab/scratch/amillet/07_06_2022_Alon/fastqs/E2E3E4_10wk_Microglia_ex_S1_L001_R1_001.fastq.gz /rugpfs/fs0/tavz_lab/scratch/amillet/07_06_2022_Alon/fastqs/E2E3E4_10wk_Microglia_ex_S1_L001_R2_001.fastq.gz /rugpfs/fs0/tavz_lab/scratch/amillet/07_06_2022_Alon/fastqs/E2E3E4_10wk_Microglia_ex_S1_L002_R1_001.fastq.gz /rugpfs/fs0/tavz_lab/scratch/amillet/07_06_2022_Alon/fastqs/E2E3E4_10wk_Microglia_ex_S1_L002_R2_001.fastq.gz\n",
      "[2022-07-13 16:33:51,272]   DEBUG [count_lamanno] \n",
      "[2022-07-13 16:33:51,273]   DEBUG [count_lamanno] [bus] Note: Strand option was not specified; setting it to --fr-stranded for specified technology\n",
      "[2022-07-13 16:33:51,574]   DEBUG [count_lamanno] [index] k-mer length: 31\n",
      "[2022-07-13 16:33:51,574]   DEBUG [count_lamanno] [index] number of targets: 790,624\n",
      "[2022-07-13 16:33:51,574]   DEBUG [count_lamanno] [index] number of k-mers: 1,110,366,064\n",
      "[2022-07-13 16:37:28,324]   DEBUG [count_lamanno] [index] number of equivalence classes: 5,483,839\n",
      "[2022-07-13 16:45:33,333]   DEBUG [count_lamanno] [quant] will process sample 1: /rugpfs/fs0/tavz_lab/scratch/amillet/07_06_2022_Alon/fastqs/E2E3E4_10wk_Microglia_ex_S1_L001_R1_001.fastq.gz\n",
      "[2022-07-13 16:45:33,403]   DEBUG [count_lamanno] /rugpfs/fs0/tavz_lab/scratch/amillet/07_06_2022_Alon/fastqs/E2E3E4_10wk_Microglia_ex_S1_L001_R2_001.fastq.gz\n",
      "[2022-07-13 16:45:33,408]   DEBUG [count_lamanno] [quant] will process sample 2: /rugpfs/fs0/tavz_lab/scratch/amillet/07_06_2022_Alon/fastqs/E2E3E4_10wk_Microglia_ex_S1_L002_R1_001.fastq.gz\n",
      "[2022-07-13 16:45:33,408]   DEBUG [count_lamanno] /rugpfs/fs0/tavz_lab/scratch/amillet/07_06_2022_Alon/fastqs/E2E3E4_10wk_Microglia_ex_S1_L002_R2_001.fastq.gz\n",
      "^C\n",
      "[2022-07-13 16:49:12,656]   DEBUG [main] Removing `/rugpfs/fs0/tavz_lab/scratch/amillet/07_06_2022_Alon/kb_count/tmp` directory\n",
      "Traceback (most recent call last):\n",
      "  File \"/rugpfs/fs0/home/amillet/miniconda3/envs/py38/bin/kb\", line 8, in <module>\n",
      "    sys.exit(main())\n",
      "  File \"/rugpfs/fs0/home/amillet/miniconda3/envs/py38/lib/python3.8/site-packages/ngs_tools/logging.py\", line 62, in inner\n",
      "    return func(*args, **kwargs)\n",
      "  File \"/rugpfs/fs0/home/amillet/miniconda3/envs/py38/lib/python3.8/site-packages/kb_python/main.py\", line 1305, in main\n",
      "    COMMAND_TO_FUNCTION[args.command](parser, args, temp_dir=temp_dir)\n",
      "  File \"/rugpfs/fs0/home/amillet/miniconda3/envs/py38/lib/python3.8/site-packages/kb_python/main.py\", line 491, in parse_count\n",
      "    count_velocity(\n",
      "  File \"/rugpfs/fs0/home/amillet/miniconda3/envs/py38/lib/python3.8/site-packages/ngs_tools/logging.py\", line 62, in inner\n",
      "    return func(*args, **kwargs)\n",
      "  File \"/rugpfs/fs0/home/amillet/miniconda3/envs/py38/lib/python3.8/site-packages/kb_python/count.py\", line 1593, in count_velocity\n",
      "    bus_result = kallisto_bus(\n",
      "  File \"/rugpfs/fs0/home/amillet/miniconda3/envs/py38/lib/python3.8/site-packages/kb_python/validate.py\", line 116, in inner\n",
      "    results = func(*args, **kwargs)\n",
      "  File \"/rugpfs/fs0/home/amillet/miniconda3/envs/py38/lib/python3.8/site-packages/kb_python/count.py\", line 150, in kallisto_bus\n",
      "    run_executable(command)\n",
      "  File \"/rugpfs/fs0/home/amillet/miniconda3/envs/py38/lib/python3.8/site-packages/kb_python/dry/__init__.py\", line 25, in inner\n",
      "CPU times: user 21.4 s, sys: 16.5 s, total: 37.9 s\n",
      "Wall time: 15min 32s\n"
     ]
    }
   ],
   "source": [
    "%%time\n",
    "!kb count -i /rugpfs/fs0/tavz_lab/scratch/amillet/KB_notebook/index.idx \\\n",
    "-g /rugpfs/fs0/tavz_lab/scratch/amillet/KB_notebook/t2g.txt \\\n",
    "-x 10xv2 \\\n",
    "--workflow lamanno \\\n",
    "--h5ad \\\n",
    "-c1 /rugpfs/fs0/tavz_lab/scratch/amillet/KB_notebook/cdna_t2c.txt \\\n",
    "-c2 /rugpfs/fs0/tavz_lab/scratch/amillet/KB_notebook/intron_t2c.txt \\\n",
    "--verbose \\\n",
    "-o /rugpfs/fs0/tavz_lab/scratch/amillet/07_06_2022_Alon/kb_count/ \\\n",
    "--overwrite \\\n",
    "/rugpfs/fs0/tavz_lab/scratch/amillet/07_06_2022_Alon/fastqs/E2E3E4_10wk_Microglia_ex_S1_L001_R1_001.fastq.gz \\\n",
    "/rugpfs/fs0/tavz_lab/scratch/amillet/07_06_2022_Alon/fastqs/E2E3E4_10wk_Microglia_ex_S1_L001_R2_001.fastq.gz \\\n",
    "/rugpfs/fs0/tavz_lab/scratch/amillet/07_06_2022_Alon/fastqs/E2E3E4_10wk_Microglia_ex_S1_L002_R1_001.fastq.gz \\\n",
    "/rugpfs/fs0/tavz_lab/scratch/amillet/07_06_2022_Alon/fastqs/E2E3E4_10wk_Microglia_ex_S1_L002_R2_001.fastq.gz"
   ]
  },
  {
   "cell_type": "code",
   "execution_count": 2,
   "metadata": {},
   "outputs": [
    {
     "name": "stdout",
     "output_type": "stream",
     "text": [
      "List of supported single-cell technologies\r\n",
      "\r\n",
      "Positions syntax: `input file index, start position, end position`\r\n",
      "When start & end positions are None, refers to the entire file\r\n",
      "Custom technologies may be defined by providing a kallisto-supported technology string\r\n",
      "(see https://pachterlab.github.io/kallisto/manual)\r\n",
      "\r\n",
      "name         whitelist    barcode                  umi        cDNA                       \r\n",
      "---------    ---------    ---------------------    -------    -----------------------    \r\n",
      "10XV1        yes          0,0,14                   1,0,10     2,None,None                \r\n",
      "10XV2        yes          0,0,16                   0,16,26    1,None,None                \r\n",
      "10XV3        yes          0,0,16                   0,16,28    1,None,None                \r\n",
      "CELSEQ                    0,0,8                    0,8,12     1,None,None                \r\n",
      "CELSEQ2                   0,6,12                   0,0,6      1,None,None                \r\n",
      "DROPSEQ                   0,0,12                   0,12,20    1,None,None                \r\n",
      "INDROPSV1                 0,0,11 0,30,38           0,42,48    1,None,None                \r\n",
      "INDROPSV2                 1,0,11 1,30,38           1,42,48    0,None,None                \r\n",
      "INDROPSV3    yes          0,0,8 1,0,8              1,8,14     2,None,None                \r\n",
      "SCRUBSEQ                  0,0,6                    0,6,16     1,None,None                \r\n",
      "SURECELL                  0,0,6 0,21,27 0,42,48    0,51,59    1,None,None                \r\n",
      "SMARTSEQ                                                      0,None,None 1,None,None    \r\n"
     ]
    }
   ],
   "source": [
    "!kb --list"
   ]
  }
 ],
 "metadata": {
  "kernelspec": {
   "display_name": "Python 3 (ipykernel)",
   "language": "python",
   "name": "python3"
  },
  "language_info": {
   "codemirror_mode": {
    "name": "ipython",
    "version": 3
   },
   "file_extension": ".py",
   "mimetype": "text/x-python",
   "name": "python",
   "nbconvert_exporter": "python",
   "pygments_lexer": "ipython3",
   "version": "3.8.11"
  }
 },
 "nbformat": 4,
 "nbformat_minor": 4
}
