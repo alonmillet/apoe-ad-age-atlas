{
 "cells": [
  {
   "cell_type": "code",
   "execution_count": null,
   "id": "faf3e68f-2b36-4655-b775-2e7657671187",
   "metadata": {},
   "outputs": [],
   "source": [
    "import numpy as np\n",
    "import pandas as pd\n",
    "import matplotlib.pyplot as plt\n",
    "import seaborn as sns\n",
    "import scanpy as sc\n",
    "import squidpy as sq"
   ]
  },
  {
   "cell_type": "markdown",
   "id": "c7195198-5718-427a-9c04-2ddb7a50344a",
   "metadata": {},
   "source": [
    "# Prepare merged anndata object"
   ]
  },
  {
   "cell_type": "code",
   "execution_count": null,
   "id": "9ceacd15-761e-4e70-bcfb-57044505b516",
   "metadata": {},
   "outputs": [],
   "source": [
    "from glob import glob\n",
    "dirs = glob('output*')\n",
    "samps = [\"3\",\"2\",\"1\",\"1\",\"2\",\"3\"]\n",
    "genos = ['E3','E3','E3','E4','E4','E4']"
   ]
  },
  {
   "cell_type": "code",
   "execution_count": null,
   "id": "7a90938d-c2e9-49a2-8f9a-a782dd967cc9",
   "metadata": {},
   "outputs": [],
   "source": [
    "adata_list = []\n",
    "for i in list(range(0,6)):\n",
    "    temp_adata = sc.read_10x_h5(dirs[i]+'/cell_feature_matrix.h5')\n",
    "    temp_df = pd.read_csv(dirs[i]+'/cells.csv.gz', compression = \"gzip\")\n",
    "    temp_df.set_index(temp_adata.obs_names, inplace=True)\n",
    "    temp_adata.obs = temp_df.copy()\n",
    "    temp_adata.obsm['spatial'] = temp_adata.obs[['x_centroid','y_centroid']].copy().to_numpy()\n",
    "    sc.pp.calculate_qc_metrics(temp_adata, percent_top=(10, 20, 50, 150), inplace=True)\n",
    "    sc.pp.filter_cells(temp_adata, min_counts=5)\n",
    "    sc.pp.filter_genes(temp_adata, min_cells=5)\n",
    "    temp_adata.obs['genotype'] = genos[i]\n",
    "    temp_adata.obs['sample'] = genos[i]+\"_\"+samps[i]\n",
    "    adata_list.append(temp_adata)"
   ]
  },
  {
   "cell_type": "code",
   "execution_count": null,
   "id": "90a22989-6ccb-4b47-80c4-2b026937dfe6",
   "metadata": {},
   "outputs": [],
   "source": [
    "import anndata as ad\n",
    "adata = ad.concat(adata_list)\n",
    "adata.obs_names_make_unique()"
   ]
  },
  {
   "cell_type": "code",
   "execution_count": null,
   "id": "e3a2a4fc-c765-4c21-ba11-45ca3dc50f9b",
   "metadata": {},
   "outputs": [],
   "source": [
    "adata.layers[\"counts\"] = adata.X.copy()\n",
    "sc.pp.normalize_total(adata, inplace=True)\n",
    "sc.pp.log1p(adata)\n",
    "sc.pp.pca(adata)\n",
    "sc.pp.neighbors(adata)\n",
    "sc.tl.umap(adata)"
   ]
  },
  {
   "cell_type": "code",
   "execution_count": null,
   "id": "c50d24c6-eab6-4c56-b0b8-981b6b2d7709",
   "metadata": {},
   "outputs": [],
   "source": [
    "sc.tl.leiden(adata, resolution = 0.3)"
   ]
  },
  {
   "cell_type": "code",
   "execution_count": null,
   "id": "4587beb7-902c-49db-910e-4437dc7a6e04",
   "metadata": {},
   "outputs": [],
   "source": [
    "sc.pl.umap(adata,color=[\"total_counts\",\"n_genes_by_counts\",\"leiden\",\"sample\",\"genotype\"],wspace=0.4)"
   ]
  },
  {
   "cell_type": "code",
   "execution_count": null,
   "id": "d015655a-5993-4187-9daa-d6b257355363",
   "metadata": {},
   "outputs": [],
   "source": [
    "sq.pl.spatial_scatter(adata, library_key = \"sample\", shape=None, color=[\"leiden\"],wspace=0.4)"
   ]
  },
  {
   "cell_type": "code",
   "execution_count": null,
   "id": "4f69e301-481e-4a53-9e9a-bb79734a97ae",
   "metadata": {},
   "outputs": [],
   "source": [
    "sq.gr.spatial_neighbors(adata, coord_type=\"generic\", delaunay=True, library_key = \"sample\")"
   ]
  },
  {
   "cell_type": "markdown",
   "id": "6b42200c-6c94-4d52-8640-8773d4745dcd",
   "metadata": {},
   "source": [
    "# Annotate"
   ]
  },
  {
   "cell_type": "code",
   "execution_count": null,
   "id": "bd51c527-f052-470d-bbb2-04e6f02013dc",
   "metadata": {},
   "outputs": [],
   "source": [
    "adata = sc.read_h5ad(\"merged_xenium.h5ad\")\n",
    "adata.uns['log1p'][\"base\"] = None # temporary fix for annoying bug"
   ]
  },
  {
   "cell_type": "code",
   "execution_count": null,
   "id": "a1d86dc9-d20e-4102-8bfa-760a45755647",
   "metadata": {
    "scrolled": true
   },
   "outputs": [],
   "source": [
    "sc.tl.rank_genes_groups(adata, 'leiden', method='t-test')\n",
    "sc.pl.rank_genes_groups(adata, n_genes=10, sharey=False)"
   ]
  },
  {
   "cell_type": "code",
   "execution_count": null,
   "id": "bf71981e-48e2-48c8-bcdf-271762bbb264",
   "metadata": {},
   "outputs": [],
   "source": [
    "# define superclusters\n",
    "superclusters = [\"Oligodendrocyte\",\"Neuron\",\"Astrocyte\",\"OPC\",\n",
    "                 \"Immune\",\"Neuron\",\"Astrocyte\",\"Immune\",\n",
    "                 \"Astrocyte\",\"Astrocyte\",\"Oligodendrocyte\",\"Astrocyte\",\n",
    "                 \"Astrocyte\",\"Oligodendrocyte\",\"Oligodendrocyte\",\"Oligodendrocyte\",\n",
    "                 \"Astrocyte\",\"Oligodendrocyte\",\"Oligodendrocyte\",\"Oligodendrocyte\",\n",
    "                \"Immune\",\"Immune\",\"Astrocyte\",\"OPC\",\n",
    "                \"Oligodendrocyte\",\"Astrocyte\",\"Neuron\",\"Neuron\",\n",
    "                \"Neuron\",\"Neuron\",\"Oligodendrocyte\",\"Oligodendrocyte\",\n",
    "                \"Astrocyte\",\"Astrocyte\",\"Astrocyte\",\"Immune\",\n",
    "                \"Neuron\",\"Neuron\",\"Immune\",\"Astrocyte\",\n",
    "                \"Astrocyte\",\"Neuron\",\"OPC\",\"Neuron\",\n",
    "                \"Astrocyte\",\"Astrocyte\",\"Neuron\",\"Oligodendrocyte\",\n",
    "                \"Neuron\",\"Neuron\",\"Immune\",\"Neuron\",\n",
    "                \"Oligodendrocyte\",\"Neuron\",\"OPC\",\"Immune\",\n",
    "                \"Astrocyte\",\"Oligodendrocyte\",\"Oligodendrocyte\",\"Oligodendrocyte\",\n",
    "                \"Neuron\"]"
   ]
  },
  {
   "cell_type": "code",
   "execution_count": null,
   "id": "75df614e-7ebc-4a54-9b96-69e74a5c78cd",
   "metadata": {},
   "outputs": [],
   "source": [
    "cluster_dict = dict(zip(list(range(0,61)),superclusters))"
   ]
  },
  {
   "cell_type": "code",
   "execution_count": null,
   "id": "e9c76804-b473-442d-a5cf-0f2d96ab206e",
   "metadata": {},
   "outputs": [],
   "source": [
    "adata.obs['supercluster'] = adata.obs['leiden'].astype(int).map(cluster_dict).astype('category')"
   ]
  },
  {
   "cell_type": "code",
   "execution_count": null,
   "id": "8696268b-3f6f-458c-a0a9-75fb73a46371",
   "metadata": {},
   "outputs": [],
   "source": [
    "from collections import Counter\n",
    "Counter(adata.obs['supercluster'])"
   ]
  },
  {
   "cell_type": "markdown",
   "id": "41c86398-77a8-4ad4-a18d-4edd22882357",
   "metadata": {},
   "source": [
    "## Subcluster microglia"
   ]
  },
  {
   "cell_type": "code",
   "execution_count": null,
   "id": "17c18219-dff4-42b9-815b-6a12834408cd",
   "metadata": {},
   "outputs": [],
   "source": [
    "immune_clusts = [i for i,x in enumerate(superclusters) if x==\"Immune\"]\n",
    "sc.tl.rank_genes_groups(adata, 'leiden', method='t-test', groups = immune_clusts)\n",
    "sc.pl.rank_genes_groups(adata, n_genes=10, sharey=False)"
   ]
  },
  {
   "cell_type": "code",
   "execution_count": null,
   "id": "dd228c08-38be-44ed-b7b3-ddc0b8d09c30",
   "metadata": {},
   "outputs": [],
   "source": [
    "sc.tl.rank_genes_groups(adata, 'leiden', method='t-test', groups = [50,55,4,35])\n",
    "sc.pl.rank_genes_groups(adata, n_genes=10, sharey=False)"
   ]
  },
  {
   "cell_type": "code",
   "execution_count": null,
   "id": "a4781ffc-0cb9-4c76-92ba-42fd74d38ad1",
   "metadata": {},
   "outputs": [],
   "source": [
    "sc.pl.violin(adata,keys=[\"APOE\"],groupby=\"leiden\",order=map(str,immune_clusts))"
   ]
  },
  {
   "cell_type": "code",
   "execution_count": null,
   "id": "64597db5-046b-4f25-9754-569581e2ed8d",
   "metadata": {},
   "outputs": [],
   "source": [
    "immune_dict = dict(zip(immune_clusts,[\"FLT1-hi Inflammatory Microglia\",\"TIMs\",\"Homeostatic Microglia\",\"APP-hi Homeostatic Microglia\",\n",
    "                                      \"APOE-hi Inflammatory Microglia\",\"TIMs\",\"APOE-hi Inflammatory Microglia\",\"FLT1-hi Inflammatory Microglia\"]))"
   ]
  },
  {
   "cell_type": "code",
   "execution_count": null,
   "id": "41d927cb-1af8-44c8-888f-4076deaf1452",
   "metadata": {},
   "outputs": [],
   "source": [
    "neuron_clusts = [i for i,x in enumerate(superclusters) if x==\"Neuron\"]\n",
    "olig_clusts = [i for i,x in enumerate(superclusters) if x==\"Oligodendrocyte\"]\n",
    "astro_clusts = [i for i,x in enumerate(superclusters) if x==\"Astrocyte\"]\n",
    "opc_clusts = [i for i,x in enumerate(superclusters) if x==\"OPC\"]\n",
    "\n",
    "neuron_dict = dict(zip(neuron_clusts,[\"Neuron_\" + s for s in map(str,range(0,len(neuron_clusts)))]))\n",
    "olig_dict = dict(zip(olig_clusts,[\"Oligodendrocyte_\" + s for s in map(str,range(0,len(olig_clusts)))]))\n",
    "astro_dict = dict(zip(astro_clusts,[\"Astrocyte_\" + s for s in map(str,range(0,len(astro_clusts)))]))\n",
    "opc_dict = dict(zip(opc_clusts,[\"OPC_\" + s for s in map(str,range(0,len(opc_clusts)))]))"
   ]
  },
  {
   "cell_type": "code",
   "execution_count": null,
   "id": "40ee5242-0a34-4661-b7f1-58ebc3c9eddf",
   "metadata": {},
   "outputs": [],
   "source": [
    "super_dict = immune_dict|neuron_dict|olig_dict|astro_dict|opc_dict"
   ]
  },
  {
   "cell_type": "code",
   "execution_count": null,
   "id": "095281ab-9924-4d44-9a50-f0243add6745",
   "metadata": {},
   "outputs": [],
   "source": [
    "adata.obs['subcluster'] = adata.obs['leiden'].astype(int).map(super_dict).astype('category')"
   ]
  },
  {
   "cell_type": "code",
   "execution_count": null,
   "id": "36c20b94-a0cd-49c5-b963-31d398602c3b",
   "metadata": {},
   "outputs": [],
   "source": [
    "# reorder clustering\n",
    "sub_levels = ['Homeostatic Microglia','APP-hi Homeostatic Microglia',\n",
    "         \"FLT1-hi Inflammatory Microglia\",\"APOE-hi Inflammatory Microglia\",\n",
    "         \"TIMs\"] + list(neuron_dict.values()) + list(olig_dict.values()) + list(astro_dict.values()) + list(opc_dict.values()) \n",
    "super_levels = ['Neuron','Oligodendrocyte','Astrocyte','Immune','OPC']\n",
    "\n",
    "adata.obs['subcluster'] = adata.obs['subcluster'].cat.reorder_categories(sub_levels)\n",
    "adata.obs['supercluster'] = adata.obs['supercluster'].cat.reorder_categories(super_levels)"
   ]
  },
  {
   "cell_type": "code",
   "execution_count": null,
   "id": "e292d840-a665-468c-94a6-e9703899dbff",
   "metadata": {
    "scrolled": true
   },
   "outputs": [],
   "source": [
    "# filter out very rare clusters for clarity\n",
    "adata_clustfilt = adata[((adata.obs['supercluster'] == \"Immune\") | (adata.obs['leiden'].astype(int) < 12))]\n",
    "sq.pl.spatial_scatter(adata_clustfilt, library_key = \"sample\", shape=None, color=[\"subcluster\"],wspace=0.8, ncols = 3)"
   ]
  },
  {
   "cell_type": "markdown",
   "id": "03caea8c-2f0c-477f-af19-0857ceccc223",
   "metadata": {},
   "source": [
    "## Subcluster neurons"
   ]
  },
  {
   "cell_type": "code",
   "execution_count": null,
   "id": "f1167554-d592-4fbd-9e1c-44aaebd5809a",
   "metadata": {},
   "outputs": [],
   "source": [
    "neu0 = adata[adata.obs['subcluster'] == \"Neuron_0\"]\n",
    "sc.pp.pca(neu0)\n",
    "sc.pp.neighbors(neu0)\n",
    "sc.tl.umap(neu0)\n",
    "sc.tl.leiden(neu0, resolution = 0.9)\n",
    "sc.pl.umap(neu0,color=[\"leiden\"])"
   ]
  },
  {
   "cell_type": "code",
   "execution_count": null,
   "id": "3879a41e-70cd-4795-b382-ea29923d7832",
   "metadata": {},
   "outputs": [],
   "source": [
    "assignments = [\"Mixed Border Neurons\",\"L6 Neurons\",\"L3 Neurons\",\"L4 Neurons\",\"L6 Neurons\",\"Homeostatic Microglia\",\"L2 Neurons\",\"L5 Neurons\",\n",
    "               \"L3 Neurons\",\"OPC_0\",\"Mixed Neurons\",\"L4 Neurons\"]+[\"Mixed Neurons\"]*9 + [\"L1 Neurons\"] + [\"Mixed Neurons\"]*15\n",
    "\n",
    "neu0_dict = dict(zip(neu0.obs['leiden'].cat.categories,assignments))\n",
    "neu0.obs['subcluster_neu0'] = neu0.obs['leiden'].map(neu0_dict).astype('category')\n",
    "sub_levels = [\"L1 Neurons\",\"L2 Neurons\",\"L3 Neurons\",\"L4 Neurons\",\"L5 Neurons\",\"L6 Neurons\",\n",
    "              \"Mixed Border Neurons\",\"Mixed Neurons\",\"Homeostatic Microglia\",\"OPC_0\"]\n",
    "neu0.obs['subcluster_neu0'] = neu0.obs['subcluster_neu0'].cat.reorder_categories(sub_levels)\n",
    "sq.pl.spatial_scatter(neu0, library_key = \"sample\", shape=None, color=[\"subcluster_neu0\"],wspace=0.8, ncols = 3)"
   ]
  },
  {
   "cell_type": "code",
   "execution_count": null,
   "id": "b2a741d8-029d-417d-8c4b-4719b9d9e932",
   "metadata": {},
   "outputs": [],
   "source": [
    "neu0_conversion_dict = neu0.obs['subcluster_neu0'].to_dict()\n",
    "other_neurons_conversion_dict = dict(zip([\"Neuron_\" + s for s in map(str,range(1,16))],np.repeat(\"Mixed Neurons\",15)))"
   ]
  },
  {
   "cell_type": "code",
   "execution_count": null,
   "id": "e5a4b77c-f698-48f1-adf3-52f1675f0c51",
   "metadata": {},
   "outputs": [],
   "source": [
    "adata.obs['subcluster'] = adata.obs.index.to_series().map(neu0_conversion_dict).fillna(adata.obs['subcluster'])\n",
    "adata.obs['subcluster'] = adata.obs['subcluster'].map(other_neurons_conversion_dict).fillna(adata.obs['subcluster'])\n",
    "adata.obs['subcluster'].unique()"
   ]
  },
  {
   "cell_type": "markdown",
   "id": "94f0119e-f106-43a6-8036-c7d2d141378f",
   "metadata": {},
   "source": [
    "## Merge overclustered OPCs"
   ]
  },
  {
   "cell_type": "code",
   "execution_count": null,
   "id": "0f3a30b5-e7ba-4e9f-b51f-18afd6bf3b2c",
   "metadata": {},
   "outputs": [],
   "source": [
    "adata.obs['subcluster'] = adata.obs['subcluster'].replace(\"OPC_0\",\"OPCs\")\n",
    "adata.obs['subcluster'] = adata.obs['subcluster'].replace(\"OPC_1\",\"OPCs\")\n",
    "adata.obs['subcluster'] = adata.obs['subcluster'].replace(\"OPC_2\",\"OPCs\")\n",
    "adata.obs['subcluster'] = adata.obs['subcluster'].replace(\"OPC_3\",\"OPCs\")"
   ]
  },
  {
   "cell_type": "markdown",
   "id": "348bde06-09e6-4ee2-b302-b404c9e203b5",
   "metadata": {},
   "source": [
    "## Subcluster oligodendrocytes"
   ]
  },
  {
   "cell_type": "code",
   "execution_count": null,
   "id": "bf8ae766-d088-47f3-8247-7fa3ed0ac6d3",
   "metadata": {},
   "outputs": [],
   "source": [
    "olg = adata[adata.obs['supercluster'] == \"Oligodendrocyte\"]\n",
    "sc.pp.pca(olg)\n",
    "sc.pp.neighbors(olg)\n",
    "sc.tl.umap(olg)\n",
    "sc.tl.leiden(olg, resolution = 0.3)\n",
    "sc.pl.umap(olg,color=[\"leiden\"])"
   ]
  },
  {
   "cell_type": "code",
   "execution_count": null,
   "id": "3e15375b-29dd-498f-ba7b-ce9fecd2824a",
   "metadata": {},
   "outputs": [],
   "source": [
    "olig_dict = {\"0\":\"ERMN-hi Oligodendrocytes\",\"1\":\"CNTN2-hi Oligodendrocytes\",\"2\":\"EFHD1-hi Oligodendrocytes\",\n",
    "             \"3\":\"CNTN2-hi Oligodendrocytes\",\"4\":\"CNTN2-hi Oligodendrocytes\",\"5\":\"CNTN2-hi Oligodendrocytes\",\n",
    "             \"6\":\"EFHD1-hi Oligodendrocytes\",\"7\":\"EFHD1-hi Oligodendrocytes\",\"8\":\"EFHD1-hi Oligodendrocytes\",\n",
    "             \"9\":\"CNTN2-hi Oligodendrocytes\",\"10\":\"EFHD1-hi Oligodendrocytes\",\"11\":\"ERMN-hi Oligodendrocytes\",\n",
    "             \"12\":\"ERMN-hi Oligodendrocytes\",\"13\":\"EFHD1-hi Oligodendrocytes\",\"14\":\"CNTN2-hi Oligodendrocytes\",\n",
    "             \"15\":\"ERMN-hi Oligodendrocytes\",\"16\":\"ERMN-hi Oligodendrocytes\",\"17\":\"EFHD1-hi Oligodendrocytes\",\n",
    "            \"18\":\"CNTN2-hi Oligodendrocytes\",\"19\":\"ERMN-hi Oligodendrocytes\",\"20\":\"CNTN2-hi Oligodendrocytes\",\"21\":\"EFHD1-hi Oligodendrocytes\"}\n",
    "olg.obs['subcluster_olg'] = olg.obs['leiden'].map(olig_dict).astype('category')\n",
    "sub_levels = [\"CNTN2-hi Oligodendrocytes\",\"ERMN-hi Oligodendrocytes\",\"EFHD1-hi Oligodendrocytes\"]\n",
    "olg.obs['subcluster_olg'] = olg.obs['subcluster_olg'].cat.reorder_categories(sub_levels)\n",
    "sq.pl.spatial_scatter(olg, library_key = \"sample\", shape=None, color=[\"subcluster_olg\"],wspace=0.8, ncols = 3)"
   ]
  },
  {
   "cell_type": "code",
   "execution_count": null,
   "id": "fa9e068c-05a6-45a4-9427-1a6043b83f0b",
   "metadata": {},
   "outputs": [],
   "source": [
    "olg_conversion_dict = olg.obs['subcluster_olg'].to_dict()\n",
    "adata.obs['subcluster'] = adata.obs.index.to_series().map(olg_conversion_dict).fillna(adata.obs['subcluster'])\n",
    "adata.obs['subcluster'].unique()"
   ]
  },
  {
   "cell_type": "markdown",
   "id": "7ca4d03f-14a4-4535-9f29-0625ef04652d",
   "metadata": {},
   "source": [
    "## Subcluster astrocytes"
   ]
  },
  {
   "cell_type": "code",
   "execution_count": null,
   "id": "feb259e9-4f87-4d46-b7a1-b1cbb285b429",
   "metadata": {},
   "outputs": [],
   "source": [
    "ast = adata[adata.obs['supercluster'] == \"Astrocyte\"]\n",
    "sc.pp.pca(ast)\n",
    "sc.pp.neighbors(ast)\n",
    "sc.tl.umap(ast)\n",
    "sc.tl.leiden(ast, resolution = 0.3)\n",
    "sc.pl.umap(ast,color=[\"leiden\"])"
   ]
  },
  {
   "cell_type": "code",
   "execution_count": null,
   "id": "0e0c6e2b-4f21-4355-af6b-f823de591891",
   "metadata": {},
   "outputs": [],
   "source": [
    "ast_dict = dict(zip(map(str,list(range(0,40))),\n",
    "                    [\"GJA1-hi Astrocytes\",\"VLMCs\",\"ERMN-hi Oligodendrocytes\",\"AQP4-hi Astrocytes\",\"APOE-hi Astrocytes\",\"GJA1-hi Astrocytes\",\n",
    "                    \"APP-hi Astrocytes\",\"APP-hi Astrocytes\",\"GJA1-hi Astrocytes\",\"APP-hi Astrocytes\",\"AQP4-hi Astrocytes\",\n",
    "                    \"GJA1-hi Astrocytes\",\"APP-hi Astrocytes\",\"APP-hi Astrocytes\",\"APP-hi Astrocytes\",\"GJA1-hi Astrocytes\",\n",
    "                    \"APP-hi Astrocytes\",\"AQP4-hi Astrocytes\",\"AQP4-hi Astrocytes\",\"APP-hi Astrocytes\",\"EFHD1-hi Oligodendrocytes\",\n",
    "                    \"APP-hi Astrocytes\",\"EFHD1-hi Oligodendrocytes\",\"GJA1-hi Astrocytes\",\"GJA1-hi Astrocytes\",\"AQP4-hi Astrocytes\",\n",
    "                    \"AQP4-hi Astrocytes\",\"EFHD1-hi Oligodendrocytes\",\"EFHD1-hi Oligodendrocytes\",\"GJA1-hi Astrocytes\",\n",
    "                    \"APOE-hi Astrocytes\",\"APOE-hi Astrocytes\",\"APP-hi Astrocytes\",\"OPCs\",\"APOE-hi Astrocytes\",\"GJA1-hi Astrocytes\",\"AQP4-hi Astrocytes\",\n",
    "                     \"APOE-hi Astrocytes\",\"GJA1-hi Astrocytes\",\"GJA1-hi Astrocytes\"]))\n",
    "ast.obs['subcluster_ast'] = ast.obs['leiden'].map(ast_dict).astype('category')\n",
    "ast_conversion_dict = ast.obs['subcluster_ast'].to_dict()\n",
    "adata.obs['subcluster'] = adata.obs.index.to_series().map(ast_conversion_dict).fillna(adata.obs['subcluster'])\n",
    "sorted(adata.obs['subcluster'].unique())"
   ]
  },
  {
   "cell_type": "markdown",
   "id": "f42cfaab-9e90-468a-949f-2a970016fcd7",
   "metadata": {},
   "source": [
    "## Final polish on annotations"
   ]
  },
  {
   "cell_type": "code",
   "execution_count": null,
   "id": "1b991675-3cfe-4bcb-9e44-e2559c3fefc6",
   "metadata": {},
   "outputs": [],
   "source": [
    "clust_order = [\"L1 Neurons\",\"L2 Neurons\",\"L3 Neurons\",\"L4 Neurons\",\"L5 Neurons\",\"L6 Neurons\",\"Mixed Border Neurons\",\"Mixed Neurons\",\n",
    "              \"CNTN2-hi Oligodendrocytes\",\"EFHD1-hi Oligodendrocytes\",\"ERMN-hi Oligodendrocytes\",\"AQP4-hi Astrocytes\",\"GJA1-hi Astrocytes\",\n",
    "              \"APP-hi Astrocytes\",\"APOE-hi Astrocytes\",'Homeostatic Microglia','APP-hi Homeostatic Microglia',\n",
    "               \"FLT1-hi Inflammatory Microglia\",\"APOE-hi Inflammatory Microglia\",\"TIMs\",\"OPCs\",\"VLMCs\"]\n",
    "adata.obs['subclust'] = adata.obs['subcluster'].astype('category').cat.reorder_categories(clust_order)"
   ]
  },
  {
   "cell_type": "code",
   "execution_count": null,
   "id": "a52329be-4066-4db1-b921-cf7c09cd5bd9",
   "metadata": {},
   "outputs": [],
   "source": [
    "superclust_dict = dict(zip(clust_order,\n",
    "                       np.concatenate([np.repeat(\"Neurons\",8),np.repeat(\"Oligodendrocytes\",3),np.repeat(\"Astrocytes\",4),\n",
    "                                       np.repeat(\"Microglia\",5),np.repeat(\"Other\",2)])))\n",
    "superclust_order = [\"Neurons\",\"Oligodendrocytes\",\"Astrocytes\",\"Microglia\",\"Other\"]\n",
    "adata.obs['superclust'] = adata.obs['subclust'].map(superclust_dict).astype('category').cat.reorder_categories(superclust_order)"
   ]
  },
  {
   "cell_type": "code",
   "execution_count": null,
   "id": "bc7153c4-365f-4f03-b454-82b669c43ed1",
   "metadata": {},
   "outputs": [],
   "source": [
    "adata.obs = adata.obs.drop(['supercluster','subcluster'], axis=1)"
   ]
  },
  {
   "cell_type": "code",
   "execution_count": null,
   "id": "ef91fda8-38dd-4300-8109-04ecce165a87",
   "metadata": {},
   "outputs": [],
   "source": [
    "sq.pl.spatial_scatter(adata, library_key = \"sample\", shape=None, color=[\"subclust\"],wspace=0.9,ncols=3,dpi=600,save=\"all_sections_scatter.png\",\n",
    "                      title = adata.obs['sample'].cat.categories.values)"
   ]
  },
  {
   "cell_type": "code",
   "execution_count": null,
   "id": "a7179c8a-a38d-439d-98f4-df3d2058fad6",
   "metadata": {},
   "outputs": [],
   "source": [
    "sq.pl.spatial_scatter(adata, library_key = \"sample\", shape=None, color=[\"subclust\"],wspace=0.9,ncols=3)"
   ]
  },
  {
   "cell_type": "code",
   "execution_count": null,
   "id": "39049f9e-9038-4e8e-9c8f-26750250a88c",
   "metadata": {},
   "outputs": [],
   "source": [
    "df = adata.obs\n",
    "df.to_csv(\"xenium_md.csv\")"
   ]
  },
  {
   "cell_type": "code",
   "execution_count": null,
   "id": "c5cfbf29-b33a-478d-bf2f-f0adb48ae980",
   "metadata": {},
   "outputs": [],
   "source": [
    "adata.write(\"merged_xenium.h5ad\", compression = \"gzip\")"
   ]
  },
  {
   "cell_type": "markdown",
   "id": "119518a0-39e8-4c23-98a9-67a3f5d17126",
   "metadata": {},
   "source": [
    "# Explore co-occurrence"
   ]
  },
  {
   "cell_type": "code",
   "execution_count": null,
   "id": "bfcd602d-bfd1-4c91-8bc5-2c226a297757",
   "metadata": {},
   "outputs": [],
   "source": [
    "adata_subsample = sc.pp.subsample(adata, fraction=0.5, copy=True)\n",
    "sq.gr.co_occurrence(\n",
    "    adata_subsample,\n",
    "    cluster_key=\"subclust\",\n",
    "    n_jobs = 32\n",
    ")"
   ]
  },
  {
   "cell_type": "code",
   "execution_count": null,
   "id": "c233a16a-a2f6-4875-b4f7-9726f4886a71",
   "metadata": {},
   "outputs": [],
   "source": [
    "sq.pl.co_occurrence(\n",
    "    adata_subsample,\n",
    "    cluster_key=\"subclust\",\n",
    "    clusters=\"TIMs\",\n",
    "    figsize=(10, 12),\n",
    "    save = \"cooccurrence.png\",\n",
    "    dpi=600\n",
    ")"
   ]
  },
  {
   "cell_type": "code",
   "execution_count": null,
   "id": "a4fb517d-6bda-47b2-900d-5bb1a2bfb871",
   "metadata": {},
   "outputs": [],
   "source": [
    "adata_subsample_e3 = adata_subsample[adata_subsample.obs['genotype'] == \"E3\"]\n",
    "adata_subsample_e4 = adata_subsample[adata_subsample.obs['genotype'] == \"E4\"]\n",
    "\n",
    "sq.gr.co_occurrence(\n",
    "    adata_subsample_e3,\n",
    "    cluster_key=\"subclust\",\n",
    "    n_jobs = 32\n",
    ")\n",
    "sq.gr.co_occurrence(\n",
    "    adata_subsample_e4,\n",
    "    cluster_key=\"subclust\",\n",
    "    n_jobs = 32\n",
    ")"
   ]
  },
  {
   "cell_type": "code",
   "execution_count": null,
   "id": "3dd11227-31f5-45f5-ab52-e5b63a02a247",
   "metadata": {},
   "outputs": [],
   "source": [
    "sq.pl.co_occurrence(\n",
    "    adata_subsample_e3,\n",
    "    cluster_key=\"subclust\",\n",
    "    clusters=\"TIMs\",\n",
    "    figsize=(10, 8),\n",
    "    save = \"cooccurrence_e3.png\",\n",
    "    dpi=600\n",
    ")"
   ]
  },
  {
   "cell_type": "code",
   "execution_count": null,
   "id": "52297d64-82b6-4826-9fab-c98ae26e2c83",
   "metadata": {},
   "outputs": [],
   "source": [
    "sq.pl.co_occurrence(\n",
    "    adata_subsample_e4,\n",
    "    cluster_key=\"subclust\",\n",
    "    clusters=\"TIMs\",\n",
    "    figsize=(10, 8),\n",
    "    save = \"cooccurrence_e4.png\",\n",
    "    dpi=600\n",
    ")"
   ]
  },
  {
   "cell_type": "code",
   "execution_count": null,
   "id": "151f07b1-fa9c-4ec7-828d-358fe95d5eed",
   "metadata": {},
   "outputs": [],
   "source": [
    "occurrence_data = adata_subsample.uns['subclust_co_occurrence']\n",
    "out = occurrence_data[\"occ\"]\n",
    "interval = occurrence_data[\"interval\"][1:]\n",
    "tims_out = pd.DataFrame(out[19,:,:]).T\n",
    "tims_out.columns = clust_order\n",
    "tims_out.insert(0,\"interval\",interval)\n",
    "tims_out.to_csv(\"cooccurrence_raw.csv\")"
   ]
  },
  {
   "cell_type": "code",
   "execution_count": null,
   "id": "4927881e-a044-40e3-b473-06e8b7905f6f",
   "metadata": {},
   "outputs": [],
   "source": [
    "occurrence_data = adata_subsample_e3.uns['subclust_co_occurrence']\n",
    "out = occurrence_data[\"occ\"]\n",
    "interval = occurrence_data[\"interval\"][1:]\n",
    "tims_out = pd.DataFrame(out[19,:,:]).T\n",
    "tims_out.columns = clust_order\n",
    "tims_out.insert(0,\"interval\",interval)\n",
    "tims_out.to_csv(\"cooccurrence_raw_e3.csv\")"
   ]
  },
  {
   "cell_type": "code",
   "execution_count": null,
   "id": "a779cecd-d207-4306-9c05-151a0928c3e3",
   "metadata": {},
   "outputs": [],
   "source": [
    "occurrence_data = adata_subsample_e4.uns['subclust_co_occurrence']\n",
    "out = occurrence_data[\"occ\"]\n",
    "interval = occurrence_data[\"interval\"][1:]\n",
    "tims_out = pd.DataFrame(out[19,:,:]).T\n",
    "tims_out.columns = clust_order\n",
    "tims_out.insert(0,\"interval\",interval)\n",
    "tims_out.to_csv(\"cooccurrence_raw_e4.csv\")"
   ]
  },
  {
   "cell_type": "markdown",
   "id": "9c02c8df-1676-4197-8783-bc9759b1d78b",
   "metadata": {},
   "source": [
    "### Recalculate but by superclust"
   ]
  },
  {
   "cell_type": "code",
   "execution_count": null,
   "id": "1ff0217a-e739-4331-b65c-defa32750ec8",
   "metadata": {},
   "outputs": [],
   "source": [
    "temp_superclust_dict = dict(zip(clust_order,\n",
    "                       np.concatenate([np.repeat(\"Neurons\",8),np.repeat(\"Oligodendrocytes\",3),np.repeat(\"Astrocytes\",4),\n",
    "                                       np.repeat(\"Microglia\",4),[\"TIMs\"],np.repeat(\"Other\",2)])))\n",
    "temp_superclust_order = [\"Neurons\",\"Oligodendrocytes\",\"Astrocytes\",\"Microglia\",\"Other\",\"TIMs\"]\n",
    "adata_subsample.obs['temp_superclust'] = adata_subsample.obs['subclust'].map(temp_superclust_dict).astype('category').cat.reorder_categories(temp_superclust_order)\n",
    "adata_subsample_e3 = adata_subsample[adata_subsample.obs['genotype'] == \"E3\"]\n",
    "adata_subsample_e4 = adata_subsample[adata_subsample.obs['genotype'] == \"E4\"]\n",
    "\n",
    "sq.gr.co_occurrence(\n",
    "    adata_subsample_e3,\n",
    "    cluster_key=\"temp_superclust\",\n",
    "    n_jobs = 32\n",
    ")\n",
    "sq.gr.co_occurrence(\n",
    "    adata_subsample_e4,\n",
    "    cluster_key=\"temp_superclust\",\n",
    "    n_jobs = 32\n",
    ")"
   ]
  },
  {
   "cell_type": "code",
   "execution_count": null,
   "id": "22911d55-bdf8-4886-ab0e-858a63de1a3d",
   "metadata": {},
   "outputs": [],
   "source": [
    "occurrence_data = adata_subsample_e3.uns['temp_superclust_co_occurrence']\n",
    "out = occurrence_data[\"occ\"]\n",
    "interval = occurrence_data[\"interval\"][1:]\n",
    "tims_out = pd.DataFrame(out[5,:,:]).T\n",
    "tims_out.columns = temp_superclust_order\n",
    "tims_out.insert(0,\"interval\",interval)\n",
    "tims_out.to_csv(\"cooccurrence_raw_e3_super.csv\")"
   ]
  },
  {
   "cell_type": "code",
   "execution_count": null,
   "id": "63b9c07a-2943-49df-bb89-847d024efe92",
   "metadata": {},
   "outputs": [],
   "source": [
    "occurrence_data = adata_subsample_e4.uns['temp_superclust_co_occurrence']\n",
    "out = occurrence_data[\"occ\"]\n",
    "interval = occurrence_data[\"interval\"][1:]\n",
    "tims_out = pd.DataFrame(out[5,:,:]).T\n",
    "tims_out.columns = temp_superclust_order\n",
    "tims_out.insert(0,\"interval\",interval)\n",
    "tims_out.to_csv(\"cooccurrence_raw_e4_super.csv\")"
   ]
  },
  {
   "cell_type": "code",
   "execution_count": null,
   "id": "0e1fe2f5-a264-4638-b9c9-8c8276ade0e3",
   "metadata": {},
   "outputs": [],
   "source": [
    "sq.gr.nhood_enrichment(adata, cluster_key=\"subclust\")"
   ]
  },
  {
   "cell_type": "markdown",
   "id": "c3f90850-df34-4633-872a-bba34c0d4ec3",
   "metadata": {},
   "source": [
    "### Some minor plots for supplemental figures"
   ]
  },
  {
   "cell_type": "code",
   "execution_count": null,
   "id": "8064efb6-0716-48e8-b95e-e563392e0646",
   "metadata": {},
   "outputs": [],
   "source": [
    "sq.pl.nhood_enrichment(\n",
    "    adata,\n",
    "    cluster_key=\"subclust\",\n",
    "    figsize=(5, 5),\n",
    "    title=\"Neighborhood Enrichment\",\n",
    "    dpi=600,\n",
    "    save = \"neighborhood_enrichment_matrix.png\",\n",
    ")"
   ]
  },
  {
   "cell_type": "code",
   "execution_count": null,
   "id": "2ea39a25-082a-45f4-8c27-1620fc02f2f0",
   "metadata": {},
   "outputs": [],
   "source": [
    "immune_clusts = ['Homeostatic Microglia', 'APP-hi Homeostatic Microglia','FLT1-hi Inflammatory Microglia', 'APOE-hi Inflammatory Microglia','TIMs']\n",
    "sc.pl.violin(adata,keys=[\"RNASET2\"],groupby=\"subclust\",order=map(str,immune_clusts),rotation=90, save = \"rnaset2.png\")"
   ]
  },
  {
   "cell_type": "code",
   "execution_count": null,
   "id": "e5ea721a-ebf1-4c74-9ce5-084e10056158",
   "metadata": {},
   "outputs": [],
   "source": [
    "sc.pl.violin(adata,keys=[\"PTPRC\"],groupby=\"subclust\",order=map(str,immune_clusts),rotation=90, save = \"ptprc.png\")"
   ]
  },
  {
   "cell_type": "code",
   "execution_count": null,
   "id": "a439fdcf-29ff-4810-afb7-018ea3fe700f",
   "metadata": {},
   "outputs": [],
   "source": [
    "sc.pl.violin(adata,keys=[\"GPR183\"],groupby=\"subclust\",order=map(str,immune_clusts),rotation=90, save = \"gpr183.png\")"
   ]
  },
  {
   "cell_type": "code",
   "execution_count": null,
   "id": "5988e66f-d16b-4c14-8965-6b709bd0db19",
   "metadata": {},
   "outputs": [],
   "source": [
    "sc.pl.umap(adata,color=[\"subclust\"], title = \"UMAP of All Cells\", save = \"umap.png\")"
   ]
  }
 ],
 "metadata": {
  "kernelspec": {
   "display_name": "Python 3 (ipykernel)",
   "language": "python",
   "name": "python3"
  },
  "language_info": {
   "codemirror_mode": {
    "name": "ipython",
    "version": 3
   },
   "file_extension": ".py",
   "mimetype": "text/x-python",
   "name": "python",
   "nbconvert_exporter": "python",
   "pygments_lexer": "ipython3",
   "version": "3.11.4"
  }
 },
 "nbformat": 4,
 "nbformat_minor": 5
}
