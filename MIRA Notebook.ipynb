{
 "cells": [
  {
   "cell_type": "code",
   "execution_count": null,
   "id": "fc97572f",
   "metadata": {},
   "outputs": [],
   "source": [
    "import mira\n",
    "import anndata\n",
    "import scanpy as sc\n",
    "import optuna\n",
    "mira.utils.pretty_sderr()"
   ]
  },
  {
   "cell_type": "code",
   "execution_count": null,
   "id": "836f8a8c",
   "metadata": {},
   "outputs": [],
   "source": [
    "# check to make sure we have GPU availability :) \n",
    "import torch\n",
    "torch.cuda.is_available()"
   ]
  },
  {
   "cell_type": "code",
   "execution_count": null,
   "id": "0fcb95d4",
   "metadata": {},
   "outputs": [],
   "source": [
    "data = anndata.read_h5ad('multiome.h5ad')"
   ]
  },
  {
   "cell_type": "code",
   "execution_count": null,
   "id": "c4f3df61",
   "metadata": {},
   "outputs": [],
   "source": [
    "sc.pp.filter_genes(data, min_cells=15)\n",
    "data.raw = data"
   ]
  },
  {
   "cell_type": "code",
   "execution_count": null,
   "id": "98e919f3",
   "metadata": {},
   "outputs": [],
   "source": [
    "sc.pp.normalize_total(data, target_sum=1e4)\n",
    "sc.pp.log1p(data)"
   ]
  },
  {
   "cell_type": "code",
   "execution_count": null,
   "id": "ec432d0b",
   "metadata": {},
   "outputs": [],
   "source": [
    "sc.pp.highly_variable_genes(data, min_disp=0.2)\n",
    "data.var['exog'] = data.var.highly_variable.copy()"
   ]
  },
  {
   "cell_type": "code",
   "execution_count": null,
   "id": "dcfccb25",
   "metadata": {},
   "outputs": [],
   "source": [
    "data.var['endog'] = data.var.exog & (data.var.dispersions_norm > 0.7)"
   ]
  },
  {
   "cell_type": "code",
   "execution_count": null,
   "id": "3417a7ba",
   "metadata": {},
   "outputs": [],
   "source": [
    "data.layers['counts'] = data.raw.to_adata().X.copy()"
   ]
  },
  {
   "cell_type": "markdown",
   "id": "bec99d18",
   "metadata": {},
   "source": [
    "## Train and tune RNA topic model"
   ]
  },
  {
   "cell_type": "code",
   "execution_count": null,
   "id": "a1ea37a6",
   "metadata": {},
   "outputs": [],
   "source": [
    "model = mira.topics.ExpressionTopicModel(\n",
    "    endogenous_key = 'endog',\n",
    "    exogenous_key = 'exog',\n",
    "    counts_layer = 'counts',\n",
    "    seed = 42,\n",
    "    hidden = 128)"
   ]
  },
  {
   "cell_type": "code",
   "execution_count": null,
   "id": "bad26b0d",
   "metadata": {},
   "outputs": [],
   "source": [
    "model.get_learning_rate_bounds(data, eval_every = 1, upper_bound_lr = 5)"
   ]
  },
  {
   "cell_type": "code",
   "execution_count": null,
   "id": "47397de5",
   "metadata": {},
   "outputs": [],
   "source": [
    "model.trim_learning_rate_bounds(2.5, 1)\n",
    "_ = model.plot_learning_rate_bounds()"
   ]
  },
  {
   "cell_type": "code",
   "execution_count": null,
   "id": "196b839d",
   "metadata": {},
   "outputs": [],
   "source": [
    "tuner = mira.topics.TopicModelTuner(\n",
    "    model,\n",
    "    save_name = 'E4AD_1yr_tuner',\n",
    "    seed = 42,\n",
    "    iters = 64,\n",
    "    max_topics = 55)"
   ]
  },
  {
   "cell_type": "code",
   "execution_count": null,
   "id": "145c9a0c",
   "metadata": {},
   "outputs": [],
   "source": [
    "tuner.train_test_split(data)"
   ]
  },
  {
   "cell_type": "code",
   "execution_count": null,
   "id": "83a9ac14",
   "metadata": {},
   "outputs": [],
   "source": [
    "tuner.tune(data, n_workers = 1)"
   ]
  },
  {
   "cell_type": "code",
   "execution_count": null,
   "id": "4d67c46c",
   "metadata": {},
   "outputs": [],
   "source": [
    "!mkdir -p data\n",
    "model.save(\"data/rna_topic_model.pth\")"
   ]
  },
  {
   "cell_type": "markdown",
   "id": "33b0ce64",
   "metadata": {},
   "source": [
    "# Trying now with separated RNA and ATAC h5 files"
   ]
  },
  {
   "cell_type": "code",
   "execution_count": null,
   "id": "e3a3cd67",
   "metadata": {},
   "outputs": [],
   "source": [
    "data_RNA = anndata.read_h5ad('multiome_RNA.h5ad')"
   ]
  },
  {
   "cell_type": "code",
   "execution_count": null,
   "id": "ac0a0871",
   "metadata": {},
   "outputs": [],
   "source": [
    "sc.pp.filter_genes(data_RNA, min_cells=15)\n",
    "data_RNA.raw = data_RNA"
   ]
  },
  {
   "cell_type": "code",
   "execution_count": null,
   "id": "004b18a0",
   "metadata": {},
   "outputs": [],
   "source": [
    "sc.pp.normalize_total(data_RNA, target_sum=1e4)\n",
    "sc.pp.log1p(data_RNA)"
   ]
  },
  {
   "cell_type": "code",
   "execution_count": null,
   "id": "1b3b56e0",
   "metadata": {},
   "outputs": [],
   "source": [
    "sc.pp.highly_variable_genes(data_RNA, min_disp=0.2)\n",
    "data_RNA.var['exog'] = data_RNA.var.highly_variable.copy()"
   ]
  },
  {
   "cell_type": "code",
   "execution_count": null,
   "id": "c9cb3e3b",
   "metadata": {},
   "outputs": [],
   "source": [
    "data_RNA.var['endog'] = data_RNA.var.exog & (data_RNA.var.dispersions_norm > 0.7)"
   ]
  },
  {
   "cell_type": "code",
   "execution_count": null,
   "id": "f4c94470",
   "metadata": {},
   "outputs": [],
   "source": [
    "data_RNA.layers['counts'] = data_RNA.raw.to_adata().X.copy()"
   ]
  },
  {
   "cell_type": "markdown",
   "id": "82d4574c",
   "metadata": {},
   "source": [
    "### Train model"
   ]
  },
  {
   "cell_type": "code",
   "execution_count": null,
   "id": "aab8f851",
   "metadata": {},
   "outputs": [],
   "source": [
    "model_RNA = mira.topics.ExpressionTopicModel(\n",
    "    endogenous_key = 'endog',\n",
    "    exogenous_key = 'exog',\n",
    "    counts_layer = 'counts',\n",
    "    seed = 42,\n",
    "    hidden = 128)"
   ]
  },
  {
   "cell_type": "code",
   "execution_count": null,
   "id": "48d4d41a",
   "metadata": {
    "scrolled": true
   },
   "outputs": [],
   "source": [
    "model_RNA.get_learning_rate_bounds(data_RNA, eval_every = 1, upper_bound_lr = 5)"
   ]
  },
  {
   "cell_type": "code",
   "execution_count": null,
   "id": "077a6d06",
   "metadata": {},
   "outputs": [],
   "source": [
    "model_RNA.trim_learning_rate_bounds(7.5, 0.5)\n",
    "_ = model_RNA.plot_learning_rate_bounds()"
   ]
  },
  {
   "cell_type": "code",
   "execution_count": null,
   "id": "672ae581",
   "metadata": {},
   "outputs": [],
   "source": [
    "tuner_RNA = mira.topics.TopicModelTuner(\n",
    "    model_RNA,\n",
    "    save_name = 'E4AD_1yr_tuner_RNA',\n",
    "    seed = 42,\n",
    "    iters = 64,\n",
    "    max_topics = 55)"
   ]
  },
  {
   "cell_type": "code",
   "execution_count": null,
   "id": "2bfd22de",
   "metadata": {},
   "outputs": [],
   "source": [
    "tuner_RNA.train_test_split(data_RNA)"
   ]
  },
  {
   "cell_type": "markdown",
   "id": "91b97b13",
   "metadata": {},
   "source": [
    "To view training on Tensorboard, ssh into the cluster with ssh -L 16006:127.0.0.1:6006 amillet@login04-hpc.rockefeller.edu. Then conda activate tensorboard followed by tensorboard serve --logdir /path/to/MIRA/runs/file. Open http://127.0.0.1:16006/ in browser to view."
   ]
  },
  {
   "cell_type": "code",
   "execution_count": null,
   "id": "9bdf99cb",
   "metadata": {},
   "outputs": [],
   "source": [
    "tuner_RNA.tune(data_RNA, n_workers = 1)"
   ]
  },
  {
   "cell_type": "code",
   "execution_count": null,
   "id": "11eb9324",
   "metadata": {},
   "outputs": [],
   "source": [
    "tuner_RNA.select_best_model(data_RNA, record_umaps=True)"
   ]
  },
  {
   "cell_type": "code",
   "execution_count": null,
   "id": "a8e0b874",
   "metadata": {},
   "outputs": [],
   "source": [
    "model_RNA.save('data/topic_model_rna_h5.pth')"
   ]
  },
  {
   "cell_type": "code",
   "execution_count": null,
   "id": "a0e24fb8",
   "metadata": {
    "scrolled": false
   },
   "outputs": [],
   "source": [
    "model_RNA.predict(data_RNA)\n",
    "model_RNA.get_umap_features(data_RNA, box_cox=0.5)\n",
    "sc.pp.neighbors(data_RNA, use_rep = 'X_umap_features', metric = 'manhattan')\n",
    "sc.tl.umap(data_RNA, min_dist=0.1, negative_sample_rate=0.05)\n",
    "\n",
    "sc.pl.umap(data_RNA, frameon=False, size = 1200, alpha = 0.5, add_outline=True,\n",
    "          outline_width=(0.1,0))"
   ]
  },
  {
   "cell_type": "code",
   "execution_count": null,
   "id": "4ead5a2e",
   "metadata": {},
   "outputs": [],
   "source": [
    "study_RNA = mira.topics.TopicModelTuner.load_study('E4AD_1yr_tuner_RNA')"
   ]
  },
  {
   "cell_type": "code",
   "execution_count": null,
   "id": "660c76cf",
   "metadata": {},
   "outputs": [],
   "source": [
    "optuna.visualization.plot_optimization_history(study_RNA)"
   ]
  },
  {
   "cell_type": "code",
   "execution_count": null,
   "id": "09966a56",
   "metadata": {
    "scrolled": false
   },
   "outputs": [],
   "source": [
    "optuna.visualization.plot_parallel_coordinate(study_RNA)"
   ]
  },
  {
   "cell_type": "markdown",
   "id": "561acb1d",
   "metadata": {},
   "source": [
    "# Now with ATAC."
   ]
  },
  {
   "cell_type": "code",
   "execution_count": null,
   "id": "d8192a7c",
   "metadata": {},
   "outputs": [],
   "source": [
    "data_ATAC = anndata.read_h5ad('multiome_ATAC.h5ad')"
   ]
  },
  {
   "cell_type": "code",
   "execution_count": null,
   "id": "8725770d",
   "metadata": {},
   "outputs": [],
   "source": [
    "sc.pp.filter_genes(data_ATAC, min_cells=15)\n",
    "data_ATAC.raw = data_ATAC"
   ]
  },
  {
   "cell_type": "code",
   "execution_count": null,
   "id": "db6b189b",
   "metadata": {},
   "outputs": [],
   "source": [
    "sc.pp.normalize_total(data_ATAC, target_sum=1e4)\n",
    "sc.pp.log1p(data_ATAC)"
   ]
  },
  {
   "cell_type": "code",
   "execution_count": null,
   "id": "7cc0c5be",
   "metadata": {},
   "outputs": [],
   "source": [
    "data_ATAC.layers['counts'] = data_ATAC.raw.to_adata().X.copy()"
   ]
  },
  {
   "cell_type": "markdown",
   "id": "ecfe254c",
   "metadata": {},
   "source": [
    "### Training model:"
   ]
  },
  {
   "cell_type": "code",
   "execution_count": null,
   "id": "3cb32db9",
   "metadata": {},
   "outputs": [],
   "source": [
    "model_ATAC = mira.topics.AccessibilityTopicModel(counts_layer='counts',\n",
    "                                                 seed = 42,\n",
    "                                                 dataset_loader_workers = 3)"
   ]
  },
  {
   "cell_type": "code",
   "execution_count": null,
   "id": "c1e2fce4",
   "metadata": {},
   "outputs": [],
   "source": [
    "model_ATAC.get_learning_rate_bounds(data_ATAC, eval_every=1, upper_bound_lr=5)"
   ]
  },
  {
   "cell_type": "code",
   "execution_count": null,
   "id": "9a513b0f",
   "metadata": {
    "scrolled": false
   },
   "outputs": [],
   "source": [
    "model_ATAC.trim_learning_rate_bounds(5, 0.5)\n",
    "_ = model_ATAC.plot_learning_rate_bounds()"
   ]
  },
  {
   "cell_type": "code",
   "execution_count": null,
   "id": "2841ab7c",
   "metadata": {},
   "outputs": [],
   "source": [
    "tuner_ATAC = mira.topics.TopicModelTuner(\n",
    "    model_ATAC,\n",
    "    save_name = 'E4AD_1yr_tuner_ATAC',\n",
    "    seed = 42,\n",
    "    iters = 64,\n",
    "    max_topics = 55)"
   ]
  },
  {
   "cell_type": "code",
   "execution_count": null,
   "id": "8411fd35",
   "metadata": {},
   "outputs": [],
   "source": [
    "tuner_ATAC.train_test_split(data_ATAC)"
   ]
  },
  {
   "cell_type": "markdown",
   "id": "603121e3",
   "metadata": {},
   "source": [
    "To view training on Tensorboard, ssh into the cluster with ssh -L 16006:127.0.0.1:6006 amillet@login04-hpc.rockefeller.edu. Then conda activate tensorboard followed by tensorboard serve --logdir /path/to/MIRA/runs/file. Open http://127.0.0.1:16006/ in browser to view."
   ]
  },
  {
   "cell_type": "code",
   "execution_count": null,
   "id": "24c912fa",
   "metadata": {
    "scrolled": true
   },
   "outputs": [],
   "source": [
    "tuner_ATAC.tune(data_ATAC, n_workers = 1)"
   ]
  },
  {
   "cell_type": "code",
   "execution_count": null,
   "id": "abe25630",
   "metadata": {
    "scrolled": false
   },
   "outputs": [],
   "source": [
    "tuner_ATAC.select_best_model(data_ATAC, record_umaps=True)"
   ]
  },
  {
   "cell_type": "code",
   "execution_count": null,
   "id": "257b77ce",
   "metadata": {},
   "outputs": [],
   "source": [
    "model_ATAC.save('data/topic_model_atac_h5.pth')"
   ]
  },
  {
   "cell_type": "code",
   "execution_count": null,
   "id": "741264da",
   "metadata": {
    "scrolled": false
   },
   "outputs": [],
   "source": [
    "model_ATAC.predict(data_ATAC)\n",
    "model_ATAC.get_umap_features(data_ATAC, box_cox=0.5)\n",
    "sc.pp.neighbors(data_ATAC, use_rep = 'X_umap_features', metric = 'manhattan')\n",
    "sc.tl.umap(data_ATAC, min_dist=0.1, negative_sample_rate=0.05)\n",
    "\n",
    "sc.pl.umap(data_ATAC, frameon=False, size = 1200, alpha = 0.5, add_outline=True,\n",
    "          outline_width=(0.1,0))"
   ]
  },
  {
   "cell_type": "code",
   "execution_count": null,
   "id": "697b0552",
   "metadata": {},
   "outputs": [],
   "source": [
    "study_ATAC = mira.topics.TopicModelTuner.load_study('E4AD_1yr_tuner_ATAC')"
   ]
  },
  {
   "cell_type": "code",
   "execution_count": null,
   "id": "27f9c518",
   "metadata": {},
   "outputs": [],
   "source": [
    "optuna.visualization.plot_optimization_history(study_ATAC)"
   ]
  },
  {
   "cell_type": "code",
   "execution_count": null,
   "id": "ce9239ed",
   "metadata": {
    "scrolled": false
   },
   "outputs": [],
   "source": [
    "optuna.visualization.plot_parallel_coordinate(study_ATAC)"
   ]
  },
  {
   "cell_type": "markdown",
   "id": "fca7287b",
   "metadata": {},
   "source": [
    "# Joint Representation"
   ]
  },
  {
   "cell_type": "code",
   "execution_count": null,
   "id": "54f84c6c",
   "metadata": {},
   "outputs": [],
   "source": [
    "import mira\n",
    "import anndata\n",
    "import scanpy as sc\n",
    "import matplotlib.pyplot as plt\n",
    "import numpy as np\n",
    "import logging\n",
    "import seaborn as sns\n",
    "mira.logging.getLogger().setLevel(logging.INFO)\n",
    "import warnings\n",
    "warnings.simplefilter(\"ignore\")\n",
    "\n",
    "umap_kwargs = dict(\n",
    "    add_outline=True, outline_width=(0.1,0), outline_color=('grey', 'white'),\n",
    "    legend_fontweight=350, frameon = False, legend_fontsize=12\n",
    ")\n",
    "print(mira.__version__)\n",
    "mira.utils.pretty_sderr()"
   ]
  },
  {
   "cell_type": "markdown",
   "id": "39202d85",
   "metadata": {},
   "source": [
    "Re-prep our datasets and our models."
   ]
  },
  {
   "cell_type": "code",
   "execution_count": null,
   "id": "47d5c5ce",
   "metadata": {},
   "outputs": [],
   "source": [
    "data_RNA = anndata.read_h5ad('multiome_RNA.h5ad')\n",
    "sc.pp.filter_genes(data_RNA, min_cells=15)\n",
    "data_RNA.raw = data_RNA\n",
    "sc.pp.normalize_total(data_RNA, target_sum=1e4)\n",
    "sc.pp.log1p(data_RNA)\n",
    "sc.pp.highly_variable_genes(data_RNA, min_disp=0.2)\n",
    "data_RNA.var['exog'] = data_RNA.var.highly_variable.copy()\n",
    "data_RNA.var['endog'] = data_RNA.var.exog & (data_RNA.var.dispersions_norm > 0.7)\n",
    "data_RNA.layers['counts'] = data_RNA.raw.to_adata().X.copy()"
   ]
  },
  {
   "cell_type": "code",
   "execution_count": null,
   "id": "83766613",
   "metadata": {},
   "outputs": [],
   "source": [
    "data_ATAC = anndata.read_h5ad('multiome_ATAC.h5ad')\n",
    "sc.pp.filter_genes(data_ATAC, min_cells=15)\n",
    "data_ATAC.raw = data_ATAC\n",
    "sc.pp.normalize_total(data_ATAC, target_sum=1e4)\n",
    "sc.pp.log1p(data_ATAC)\n",
    "data_ATAC.layers['counts'] = data_ATAC.raw.to_adata().X.copy()"
   ]
  },
  {
   "cell_type": "code",
   "execution_count": null,
   "id": "b97687cf",
   "metadata": {},
   "outputs": [],
   "source": [
    "# reload our models\n",
    "model_RNA = mira.topics.ExpressionTopicModel.load('data/topic_model_rna_h5.pth')\n",
    "model_ATAC = mira.topics.AccessibilityTopicModel.load('data/topic_model_atac_h5.pth')"
   ]
  },
  {
   "cell_type": "code",
   "execution_count": null,
   "id": "574c9f77",
   "metadata": {
    "scrolled": true
   },
   "outputs": [],
   "source": [
    "model_RNA.predict(data_RNA)\n",
    "model_ATAC.predict(data_ATAC)"
   ]
  },
  {
   "cell_type": "code",
   "execution_count": null,
   "id": "18f4f08a",
   "metadata": {},
   "outputs": [],
   "source": [
    "# box-cox of 0.33 looks best\n",
    "model_RNA.get_umap_features(data_RNA, box_cox=0.33)\n",
    "model_ATAC.get_umap_features(data_ATAC, box_cox=0.33)"
   ]
  },
  {
   "cell_type": "code",
   "execution_count": null,
   "id": "ebc8bb3f",
   "metadata": {},
   "outputs": [],
   "source": [
    "sc.pp.neighbors(data_RNA, use_rep = 'X_umap_features', metric = 'manhattan', n_neighbors = 21)\n",
    "sc.tl.umap(data_RNA, min_dist = 0.1)\n",
    "data_RNA.obsm['X_umap'] = data_RNA.obsm['X_umap']*np.array([-1,-1]) # flip for consistency\n",
    "sc.pp.neighbors(data_ATAC, use_rep = 'X_umap_features', metric = 'manhattan', n_neighbors = 21)\n",
    "sc.tl.umap(data_ATAC, min_dist = 0.1)\n",
    "data_ATAC.obsm['X_umap'] = data_ATAC.obsm['X_umap']*np.array([1,-1]) # flip for consistency"
   ]
  },
  {
   "cell_type": "code",
   "execution_count": null,
   "id": "5fafb29d",
   "metadata": {},
   "outputs": [],
   "source": [
    "# remap our clust_idents to their actual names instead of just level #s\n",
    "data_RNA.obs.clust_ident = data_RNA.obs.clust_ident.astype(str)\n",
    "data_ATAC.obs.clust_ident = data_ATAC.obs.clust_ident.astype(str)\n",
    "mapping_dict = {\"0\" : \"Homeostatic Microglia\" ,\n",
    "                \"1\" : \"Arhgap15-hi Homeostatic Microglia\",\n",
    "                \"2\" : \"mt-Enriched Microglia\",\n",
    "                \"3\" : \"DAM-1\",\n",
    "                \"4\" : \"DAM-2\",\n",
    "                \"5\" : \"TIMs\",\n",
    "                \"6\" : \"Siglech-hi Microglia\",\n",
    "                \"7\" : \"Inteferon Induced Microglia\",\n",
    "                \"8\" : \"Monocytes\",\n",
    "                \"9\" : \"F13a1+ Monocytes\",\n",
    "                \"10\" : \"Macrophages\",\n",
    "                \"11\" : \"Early Neutrophils\",\n",
    "                \"12\" : \"Inflammatory Neutrophils\",\n",
    "                \"13\" : \"B Cells 1\",\n",
    "                \"14\" : \"B Cells 2\",\n",
    "                \"15\" : \"B Cells 3\",\n",
    "                \"16\" : \"B Cells 4\",\n",
    "                \"17\" : \"IgM+ B Cells\",\n",
    "                \"18\" : \"Naive CD4s\",\n",
    "                \"19\" : \"Treg CD4s\",\n",
    "                \"20\" : \"Tem CD4s\",\n",
    "                \"21\" : \"Trm CD4s\",\n",
    "                \"22\" : \"Astrocytes\"\n",
    "               }\n",
    "data_RNA.obs = data_RNA.obs.replace({\"clust_ident\":mapping_dict})\n",
    "data_ATAC.obs = data_ATAC.obs.replace({\"clust_ident\":mapping_dict})"
   ]
  },
  {
   "cell_type": "code",
   "execution_count": null,
   "id": "b1e63c75",
   "metadata": {},
   "outputs": [],
   "source": [
    "palette = dict(zip(\n",
    "    data_ATAC.obs.clust_ident.unique(), [sns.color_palette('Set3')[(i+1)%12] for i in range(30)]\n",
    "))\n",
    "\n",
    "fig, ax = plt.subplots(2,1,figsize=(10,15))\n",
    "sc.pl.umap(data_RNA, color = 'clust_ident', legend_loc = 'on data', ax = ax[0], size = 20,\n",
    "          **umap_kwargs, title = 'Expression Only', show = False, palette=palette)\n",
    "\n",
    "sc.pl.umap(data_ATAC, color = 'clust_ident', legend_loc = 'on data', ax = ax[1], size = 20,\n",
    "          **umap_kwargs, title = 'Accessibility Only', show = False, na_color = 'lightgrey',\n",
    "          palette=palette)\n",
    "plt.tight_layout()\n",
    "plt.show()"
   ]
  },
  {
   "cell_type": "code",
   "execution_count": null,
   "id": "03731b64",
   "metadata": {},
   "outputs": [],
   "source": [
    "data_RNA, data_ATAC = mira.utils.make_joint_representation(data_RNA, data_ATAC)"
   ]
  },
  {
   "cell_type": "code",
   "execution_count": null,
   "id": "e740c394",
   "metadata": {},
   "outputs": [],
   "source": [
    "sc.pp.neighbors(data_RNA, use_rep = 'X_joint_umap_features', metric = 'manhattan',\n",
    "               n_neighbors = 20)"
   ]
  },
  {
   "cell_type": "code",
   "execution_count": null,
   "id": "1b456222",
   "metadata": {},
   "outputs": [],
   "source": [
    "sc.tl.leiden(data_RNA, resolution = 1.2)\n",
    "sc.tl.paga(data_RNA)\n",
    "sc.pl.paga(data_RNA, plot=False)\n",
    "sc.tl.umap(data_RNA, init_pos='paga', min_dist = 0.1)"
   ]
  },
  {
   "cell_type": "code",
   "execution_count": null,
   "id": "144c3d4c",
   "metadata": {},
   "outputs": [],
   "source": [
    "fig, ax = plt.subplots(1,2,figsize=(10,15))\n",
    "sc.pl.umap(data_RNA, color = 'leiden', legend_loc = 'on data', ax = ax[0], show = False, size = 20,\n",
    "          **umap_kwargs, title = 'MIRA_clusts')\n",
    "sc.pl.umap(data_RNA, color = 'clust_ident', legend_loc = 'on data', ax = ax[1], show = False, size = 20,\n",
    "          **umap_kwargs, title = 'seurat_clusts')\n",
    "plt.tight_layout()\n",
    "plt.show()"
   ]
  },
  {
   "cell_type": "code",
   "execution_count": null,
   "id": "e4017907",
   "metadata": {},
   "outputs": [],
   "source": [
    "# transfer metadata over so we can just use data_RNA for plotting from here on out\n",
    "data_RNA.obs = data_RNA.obs.join(\n",
    "    data_ATAC.obs.add_prefix('ATAC_'))\n",
    "\n",
    "data_ATAC.obsm['X_umap'] = data_RNA.obsm['X_umap']"
   ]
  },
  {
   "cell_type": "code",
   "execution_count": null,
   "id": "ffd8ff55",
   "metadata": {},
   "outputs": [],
   "source": [
    "# save our files:\n",
    "data_RNA.write('multiome_RNA_processed.h5ad')\n",
    "data_ATAC.write('multiome_ATAC_processed.h5ad')"
   ]
  },
  {
   "cell_type": "code",
   "execution_count": null,
   "id": "e2a2f13f",
   "metadata": {},
   "outputs": [],
   "source": [
    "mira.tl.get_cell_pointwise_mutual_information(data_RNA, data_ATAC)"
   ]
  },
  {
   "cell_type": "code",
   "execution_count": null,
   "id": "361eb9dc",
   "metadata": {},
   "outputs": [],
   "source": [
    "fig, ax = plt.subplots(1,1,figsize=(8,5))\n",
    "sc.pl.umap(data_RNA, color = 'pointwise_mutual_information', ax = ax, vmin = 0,\n",
    "          color_map='magma', frameon=False, add_outline=True, vmax = 4, size = 7)"
   ]
  },
  {
   "cell_type": "code",
   "execution_count": null,
   "id": "cfc0fa0c",
   "metadata": {},
   "outputs": [],
   "source": [
    "mira.tl.summarize_mutual_information(data_RNA, data_ATAC)"
   ]
  },
  {
   "cell_type": "markdown",
   "id": "1e08b962",
   "metadata": {},
   "source": [
    "This is a very high level of concordance between RNA and ATAC modalities. 0.5 is considered the threshold for high :)"
   ]
  },
  {
   "cell_type": "code",
   "execution_count": null,
   "id": "1b9cfafd",
   "metadata": {},
   "outputs": [],
   "source": [
    "cross_correlation = mira.tl.get_topic_cross_correlation(data_RNA, data_ATAC)"
   ]
  },
  {
   "cell_type": "code",
   "execution_count": null,
   "id": "e1e269a6",
   "metadata": {
    "scrolled": false
   },
   "outputs": [],
   "source": [
    "sns.clustermap(cross_correlation, vmin = 0,\n",
    "               cmap = 'magma', method='ward',\n",
    "               dendrogram_ratio=0.05, cbar_pos=None, figsize=(7,7))"
   ]
  },
  {
   "cell_type": "markdown",
   "id": "09ea3528",
   "metadata": {},
   "source": [
    "## Let's dive a bit deeper into these topics."
   ]
  },
  {
   "cell_type": "markdown",
   "id": "d46dd953",
   "metadata": {},
   "source": [
    "First, we'll check which genes are most strongly activated by each topic and do simple Enrichr analysis to correlate each with a process or pathway."
   ]
  },
  {
   "cell_type": "code",
   "execution_count": null,
   "id": "7e48583a",
   "metadata": {
    "scrolled": false
   },
   "outputs": [],
   "source": [
    "sc.pl.umap(data_RNA, color  = ['topic_0', 'topic_1', 'topic_2','topic_3','topic_4','topic_5','topic_6',\n",
    "                               'topic_7','topic_8','topic_9','topic_10'], frameon=False, ncols=4,color_map = 'viridis')"
   ]
  },
  {
   "cell_type": "code",
   "execution_count": null,
   "id": "dab010c7",
   "metadata": {},
   "outputs": [],
   "source": [
    "# we post the top 5% genes (our model took ~4000 genes) from each of our microglial-enriched topics\n",
    "model_RNA.post_topic(0, top_n=200)\n",
    "model_RNA.post_topic(3, top_n=200)\n",
    "model_RNA.post_topic(6, top_n=200)\n",
    "model_RNA.post_topic(7, top_n=200)\n",
    "model_RNA.post_topic(8, top_n=200)\n",
    "model_RNA.post_topic(9, top_n=200)"
   ]
  },
  {
   "cell_type": "code",
   "execution_count": null,
   "id": "38d2efd7",
   "metadata": {},
   "outputs": [],
   "source": [
    "model_RNA.fetch_topic_enrichments(0, ontologies= ['WikiPathways_2019_Mouse','GO_Biological_Process_2021'])\n",
    "model_RNA.fetch_topic_enrichments(3, ontologies= ['WikiPathways_2019_Mouse','GO_Biological_Process_2021'])\n",
    "model_RNA.fetch_topic_enrichments(6, ontologies= ['WikiPathways_2019_Mouse','GO_Biological_Process_2021'])\n",
    "model_RNA.fetch_topic_enrichments(7, ontologies= ['WikiPathways_2019_Mouse','GO_Biological_Process_2021'])\n",
    "model_RNA.fetch_topic_enrichments(8, ontologies= ['WikiPathways_2019_Mouse','GO_Biological_Process_2021'])\n",
    "model_RNA.fetch_topic_enrichments(9, ontologies= ['WikiPathways_2019_Mouse','GO_Biological_Process_2021'])"
   ]
  },
  {
   "cell_type": "code",
   "execution_count": null,
   "id": "c13aed26",
   "metadata": {
    "scrolled": false
   },
   "outputs": [],
   "source": [
    "model_RNA.plot_enrichments(0, show_top=10)\n",
    "model_RNA.plot_enrichments(3, show_top=10)\n",
    "model_RNA.plot_enrichments(6, show_top=10)\n",
    "model_RNA.plot_enrichments(7, show_top=10)\n",
    "model_RNA.plot_enrichments(8, show_top=10)\n",
    "model_RNA.plot_enrichments(9, show_top=10)"
   ]
  },
  {
   "cell_type": "markdown",
   "id": "89f8824b",
   "metadata": {},
   "source": [
    "Now, ATAC."
   ]
  },
  {
   "cell_type": "code",
   "execution_count": null,
   "id": "54f8db1c",
   "metadata": {
    "scrolled": false
   },
   "outputs": [],
   "source": [
    "sc.pl.umap(data_RNA, color  = ['ATAC_topic_0', 'ATAC_topic_1', 'ATAC_topic_2','ATAC_topic_3','ATAC_topic_4','ATAC_topic_5',\n",
    "                               'ATAC_topic_6','ATAC_topic_7','ATAC_topic_8','ATAC_topic_9','ATAC_topic_10',\n",
    "                              'ATAC_topic_11','ATAC_topic_12','ATAC_topic_13','ATAC_topic_14','ATAC_topic_15',\n",
    "                              'ATAC_topic_16','ATAC_topic_17','ATAC_topic_18','ATAC_topic_19'], frameon=False, ncols=4,color_map = 'magma')"
   ]
  },
  {
   "cell_type": "code",
   "execution_count": null,
   "id": "08805dc9",
   "metadata": {},
   "outputs": [],
   "source": [
    "sc.pl.umap(data_RNA, color  = ['ATAC_topic_17'], frameon=False, ncols=4,color_map = 'magma')"
   ]
  },
  {
   "cell_type": "code",
   "execution_count": null,
   "id": "fc19bebd",
   "metadata": {},
   "outputs": [],
   "source": [
    "# download the mus musculus genome for motif scanning analysis over our ATAC frags\n",
    "!wget https://hgdownload.soe.ucsc.edu/goldenPath/mm10/bigZips/mm10.fa.gz\n",
    "!gzip -d -f mm10.fa.gz"
   ]
  },
  {
   "cell_type": "code",
   "execution_count": null,
   "id": "4be4dade",
   "metadata": {
    "scrolled": false
   },
   "outputs": [],
   "source": [
    "# prep data_ATAC to have chromosome, start, and end metadata easily accessable\n",
    "ids = data_ATAC.var.index.to_series().str.split(\"-\")\n",
    "data_ATAC.var['chr'] = Extract(ids,0)\n",
    "data_ATAC.var['start'] = Extract(ids,1)\n",
    "data_ATAC.var['end'] = Extract(ids,2)\n",
    "data_ATAC.var['chr'] = data_ATAC.var['chr'].astype(str)\n",
    "data_ATAC.var['start'] = data_ATAC.var['start'].astype(str)\n",
    "data_ATAC.var['end'] = data_ATAC.var['end'].astype(str)\n",
    "data_ATAC.var"
   ]
  },
  {
   "cell_type": "code",
   "execution_count": null,
   "id": "99d26e78",
   "metadata": {},
   "outputs": [],
   "source": [
    "mira.tools.motif_scan.logger.setLevel(logging.INFO) # make sure progress messages are displayed\n",
    "mira.tl.get_motif_hits_in_peaks(data_ATAC,\n",
    "                    genome_fasta='mm10.fa',\n",
    "                    chrom = 'chr', start = 'start', end = 'end') # use our metadata we just populated"
   ]
  },
  {
   "cell_type": "code",
   "execution_count": null,
   "id": "93c35bbc",
   "metadata": {},
   "outputs": [],
   "source": [
    "mira.utils.fetch_factor_meta(data_ATAC).head(3)"
   ]
  },
  {
   "cell_type": "code",
   "execution_count": null,
   "id": "c6efa6d8",
   "metadata": {},
   "outputs": [],
   "source": [
    "#mira.utils.subset_factors(data_ATAC,\n",
    "                          #use_factors=[factor for factor in data_RNA.var_names])\n",
    "# filter out TFs that don't have matching RNA data\n",
    "# however atm these are all human names (see above) so we skip this for now\n",
    "# asked on github, will see if i get a response\n",
    "# https://github.com/cistrome/MIRA/issues/16"
   ]
  },
  {
   "cell_type": "code",
   "execution_count": null,
   "id": "08a81db8",
   "metadata": {},
   "outputs": [],
   "source": [
    "A = mira.utils.fetch_factor_hits(data_ATAC).X\n",
    "sparsity = 1.0 - ( A.count_nonzero() / float(A.toarray().size) )\n",
    "sparsity"
   ]
  },
  {
   "cell_type": "code",
   "execution_count": null,
   "id": "5421a067",
   "metadata": {},
   "outputs": [],
   "source": [
    "data_atac = anndata.read_h5ad('multiome_ATAC_processed.h5ad')\n",
    "model_ATAC = mira.topics.AccessibilityTopicModel.load('data/topic_model_atac_h5_processed.pth')"
   ]
  },
  {
   "cell_type": "code",
   "execution_count": null,
   "id": "48cf03b2",
   "metadata": {
    "scrolled": true
   },
   "outputs": [],
   "source": [
    "model_ATAC.get_enriched_TFs(data_ATAC, topic_num=2, top_quantile=0.2)\n",
    "model_ATAC.get_enriched_TFs(data_ATAC, topic_num=3, top_quantile=0.2)\n",
    "model_ATAC.get_enriched_TFs(data_ATAC, topic_num=15, top_quantile=0.2)"
   ]
  },
  {
   "cell_type": "code",
   "execution_count": null,
   "id": "0a4527e8",
   "metadata": {},
   "outputs": [],
   "source": [
    "import pandas as pd\n",
    "# ATAC signature 2 correlates highly with TIMs\n",
    "df = pd.DataFrame(model_ATAC.get_enrichments(16)).sort_values(by=['pval'], ascending = True).head(50)\n",
    "df.to_csv(\"atac_topic_16_tfs.csv\")"
   ]
  },
  {
   "cell_type": "code",
   "execution_count": null,
   "id": "031d6bc7",
   "metadata": {
    "scrolled": false
   },
   "outputs": [],
   "source": [
    "model_ATAC.plot_compare_topic_enrichments(3, 4,\n",
    "            fontsize=10, label_closeness=3, figsize=(6,6), pval_threshold = (1e-45,1e-300))"
   ]
  },
  {
   "cell_type": "code",
   "execution_count": null,
   "id": "8909bc0a",
   "metadata": {
    "scrolled": true
   },
   "outputs": [],
   "source": [
    "motif_scores = model_ATAC.get_motif_scores(data_ATAC)"
   ]
  },
  {
   "cell_type": "code",
   "execution_count": null,
   "id": "40d3a9a8",
   "metadata": {},
   "outputs": [],
   "source": [
    "motif_scores.var = motif_scores.var.set_index('parsed_name')\n",
    "motif_scores.var_names_make_unique()\n",
    "motif_scores.obsm['X_umap'] = data_ATAC.obsm['X_umap']"
   ]
  },
  {
   "cell_type": "code",
   "execution_count": null,
   "id": "c95100f9",
   "metadata": {},
   "outputs": [],
   "source": [
    "import pandas as pd\n",
    "df = pd.DataFrame(motif_scores.X, columns = motif_scores.var.index.map(str))\n",
    "df.index = motif_scores.obs.index\n",
    "df.to_csv(\"~/scratch/R_dir/1yr_multiome/MIRA_motif_scores.csv\")"
   ]
  },
  {
   "cell_type": "code",
   "execution_count": null,
   "id": "d057ce9d",
   "metadata": {
    "scrolled": false
   },
   "outputs": [],
   "source": [
    "sc.pl.umap(motif_scores, color = ['RUNX2', 'RUNX3','JUN','FOS','CEBPA',\"CEBPE\"],\n",
    "           frameon=False, color_map='viridis', ncols=2)"
   ]
  },
  {
   "cell_type": "code",
   "execution_count": null,
   "id": "db6c4667",
   "metadata": {},
   "outputs": [],
   "source": [
    "# save our files again:\n",
    "data_RNA.write('multiome_RNA_processed.h5ad')\n",
    "data_ATAC.write('multiome_ATAC_processed.h5ad')\n",
    "model_RNA.save('data/topic_model_rna_h5_processed.pth')\n",
    "model_ATAC.save('data/topic_model_atac_h5_processed.pth')"
   ]
  }
 ],
 "metadata": {
  "kernelspec": {
   "display_name": "Python 3",
   "language": "python",
   "name": "python3"
  },
  "language_info": {
   "codemirror_mode": {
    "name": "ipython",
    "version": 3
   },
   "file_extension": ".py",
   "mimetype": "text/x-python",
   "name": "python",
   "nbconvert_exporter": "python",
   "pygments_lexer": "ipython3",
   "version": "3.8.8"
  }
 },
 "nbformat": 4,
 "nbformat_minor": 5
}
