{
 "cells": [
  {
   "cell_type": "code",
   "execution_count": null,
   "id": "d43e99f0",
   "metadata": {},
   "outputs": [],
   "source": [
    "#supress warnings\n",
    "import warnings\n",
    "warnings.simplefilter(action='ignore', category=FutureWarning)\n",
    "import sys\n",
    "import os\n",
    "_stderr = sys.stderr\n",
    "null = open(os.devnull,'wb')\n",
    "\n",
    "import scanpy as sc\n",
    "#set some figure parameters for nice display inside jupyternotebooks.\n",
    "%matplotlib inline\n",
    "sc.settings.set_figure_params(dpi=80, frameon=False, figsize=(5, 5), facecolor='white')"
   ]
  },
  {
   "cell_type": "markdown",
   "id": "3a1dcc0b",
   "metadata": {},
   "source": [
    "## Prep our RNA adata structure"
   ]
  },
  {
   "cell_type": "code",
   "execution_count": null,
   "id": "4084c80f",
   "metadata": {
    "scrolled": true
   },
   "outputs": [],
   "source": [
    "adata = sc.read_10x_h5(\"/rugpfs/fs0/tavz_lab/scratch/amillet/11_16_2022_Alon/E4AD_1yr-ATAC/outs/filtered_feature_bc_matrix.h5\")\n",
    "adata.var_names_make_unique()\n",
    "adata"
   ]
  },
  {
   "cell_type": "code",
   "execution_count": null,
   "id": "30ee4b42",
   "metadata": {},
   "outputs": [],
   "source": [
    "import pandas as pd\n",
    "import numpy as np\n",
    "cell_annot = pd.read_csv('/ru-auth/local/home/amillet/Multivelo/E4AD_1yr/Mglia_Only/annots.csv', sep=',', index_col=0)"
   ]
  },
  {
   "cell_type": "code",
   "execution_count": null,
   "id": "eed334db",
   "metadata": {},
   "outputs": [],
   "source": [
    "adata = adata[np.isin(adata.obs.index,cell_annot.index)]"
   ]
  },
  {
   "cell_type": "code",
   "execution_count": null,
   "id": "d8332699",
   "metadata": {},
   "outputs": [],
   "source": [
    "adata = adata[cell_annot.index,:]\n",
    "adata.obs['celltype'] = cell_annot['mglia_ident']"
   ]
  },
  {
   "cell_type": "code",
   "execution_count": null,
   "id": "5ba12da8",
   "metadata": {},
   "outputs": [],
   "source": [
    "sc.pp.filter_genes(adata, min_cells=3)"
   ]
  },
  {
   "cell_type": "code",
   "execution_count": null,
   "id": "bbe93a0d",
   "metadata": {},
   "outputs": [],
   "source": [
    "adata.raw = adata\n",
    "sc.pp.normalize_total(adata, target_sum=1e4)\n",
    "sc.pp.log1p(adata)\n",
    "sc.pp.highly_variable_genes(adata, min_mean=0.0125, max_mean=3, min_disp=0.5)\n",
    "adata = adata[:, adata.var.highly_variable]\n",
    "sc.pp.scale(adata, max_value=10)"
   ]
  },
  {
   "cell_type": "code",
   "execution_count": null,
   "id": "499f9be9",
   "metadata": {},
   "outputs": [],
   "source": [
    "sc.pp.neighbors(adata, n_neighbors=10, n_pcs=10)\n",
    "sc.tl.umap(adata)\n",
    "sc.pl.umap(adata, color = 'celltype')"
   ]
  },
  {
   "cell_type": "code",
   "execution_count": null,
   "id": "baee45c2",
   "metadata": {},
   "outputs": [],
   "source": [
    "adata.write(('E4AD_1yr/rna_adata.h5ad'), compression='gzip')"
   ]
  },
  {
   "cell_type": "markdown",
   "id": "a3dc6ba1",
   "metadata": {},
   "source": [
    "## Prep our ATAC adata structure"
   ]
  },
  {
   "cell_type": "code",
   "execution_count": null,
   "id": "5e2242e5",
   "metadata": {},
   "outputs": [],
   "source": [
    "import os\n",
    "import pycisTopic\n",
    "#set some figure parameters for nice display inside jupyternotebooks.\n",
    "%matplotlib inline"
   ]
  },
  {
   "cell_type": "code",
   "execution_count": null,
   "id": "1e4feb9c",
   "metadata": {},
   "outputs": [],
   "source": [
    "import scanpy as sc\n",
    "adata = sc.read_h5ad('E4AD_1yr/rna_adata.h5ad')\n",
    "cell_data = adata.obs\n",
    "cell_data['sample_id'] = 'E4AD_1yr'\n",
    "cell_data['celltype'] = cell_data['celltype'].astype(str) # set data type of the celltype column to str, otherwise the export_pseudobulk function will complain.\n",
    "del(adata)"
   ]
  },
  {
   "cell_type": "code",
   "execution_count": null,
   "id": "f91a8408",
   "metadata": {},
   "outputs": [],
   "source": [
    "# Get chromosome sizes (for mm10 here)\n",
    "import pyranges as pr\n",
    "import requests\n",
    "import pandas as pd\n",
    "target_url='https://hgdownload.cse.ucsc.edu/goldenPath/mm10/bigZips/mm10.chrom.sizes'\n",
    "chromsizes=pd.read_csv(target_url, sep='\\t', header=None)\n",
    "chromsizes.columns=['Chromosome', 'End']\n",
    "chromsizes['Start']=[0]*chromsizes.shape[0]\n",
    "chromsizes=chromsizes.loc[:,['Chromosome', 'Start', 'End']]\n",
    "# Exceptionally in this case, to agree with CellRangerARC annotations\n",
    "chromsizes['Chromosome'] = [chromsizes['Chromosome'][x].replace('v', '.') for x in range(len(chromsizes['Chromosome']))]\n",
    "chromsizes['Chromosome'] = [chromsizes['Chromosome'][x].split('_')[1] if len(chromsizes['Chromosome'][x].split('_')) > 1 else chromsizes['Chromosome'][x] for x in range(len(chromsizes['Chromosome']))]\n",
    "chromsizes=pr.PyRanges(chromsizes)"
   ]
  },
  {
   "cell_type": "code",
   "execution_count": null,
   "id": "f7e538d7",
   "metadata": {},
   "outputs": [],
   "source": [
    "# there are some rando chromosomes in the fragments file that are not present in chromsizes. to filter them,\n",
    "# i write chromsizes to a csv and will use this in R to quickly do filtering of the fragments tsv\n",
    "chromsizes.to_csv(\"mm10_chromsizes.csv\")"
   ]
  },
  {
   "cell_type": "code",
   "execution_count": null,
   "id": "1bfdf997",
   "metadata": {},
   "outputs": [],
   "source": [
    "# processing being done in scenicplus/E4AD_1yr/frag_filtering.R\n",
    "# the new, filtered fragments file is being saved as scenicplus/E4AD_1yr/atac_fragments_filtered.tsv.gz\n",
    "fragments_dict = {'E4AD_1yr': '/lustre/fs4/home/amillet/scenicplus/E4AD_1yr/atac_fragments_filtered.tsv.gz'}"
   ]
  },
  {
   "cell_type": "code",
   "execution_count": null,
   "id": "e44ae35b",
   "metadata": {
    "scrolled": true
   },
   "outputs": [],
   "source": [
    "from pycisTopic.pseudobulk_peak_calling import export_pseudobulk\n",
    "bw_paths, bed_paths = export_pseudobulk(input_data = cell_data,\n",
    "                 variable = 'celltype',                                                                     # variable by which to generate pseubulk profiles, in this case we want pseudobulks per celltype\n",
    "                 sample_id_col = 'sample_id',\n",
    "                 chromsizes = chromsizes,\n",
    "                 bed_path = '/lustre/fs4/home/amillet/scenicplus/E4AD_1yr/consensus_peak_calling/pseudobulk_bed_files/',  # specify where pseudobulk_bed_files should be stored\n",
    "                 bigwig_path = '/lustre/fs4/home/amillet/scenicplus/E4AD_1yr/consensus_peak_calling/pseudobulk_bw_files/',# specify where pseudobulk_bw_files should be stored\n",
    "                 path_to_fragments = fragments_dict,                                                        # location of fragment fiels\n",
    "                 n_cpu = 8,                                                                                 # specify the number of cores to use, we use ray for multi processing\n",
    "                 normalize_bigwig = True,\n",
    "                 remove_duplicates = True,\n",
    "                 _temp_dir = \"/lustre/fs4/home/amillet/ray_spill\",      \n",
    "                 split_pattern = '-')"
   ]
  },
  {
   "cell_type": "code",
   "execution_count": null,
   "id": "01066a5b",
   "metadata": {},
   "outputs": [],
   "source": [
    "import pickle\n",
    "pickle.dump(bed_paths,\n",
    "            open('E4AD_1yr/consensus_peak_calling/pseudobulk_bed_files/bed_paths.pkl', 'wb'))\n",
    "pickle.dump(bw_paths,\n",
    "           open('E4AD_1yr/consensus_peak_calling/pseudobulk_bed_files/bw_paths.pkl', 'wb'))"
   ]
  },
  {
   "cell_type": "code",
   "execution_count": null,
   "id": "8f64bcfd",
   "metadata": {},
   "outputs": [],
   "source": [
    "bed_paths"
   ]
  },
  {
   "cell_type": "code",
   "execution_count": null,
   "id": "d9dc035e",
   "metadata": {},
   "outputs": [],
   "source": [
    "import pickle\n",
    "bed_paths = pickle.load(open('E4AD_1yr/consensus_peak_calling/pseudobulk_bed_files/bed_paths.pkl', 'rb'))\n",
    "bw_paths =  pickle.load(open('E4AD_1yr/consensus_peak_calling/pseudobulk_bed_files/bw_paths.pkl', 'rb'))\n",
    "from pycisTopic.pseudobulk_peak_calling import peak_calling\n",
    "macs_path='macs2'\n",
    "# Run peak calling\n",
    "narrow_peaks_dict = peak_calling(macs_path,\n",
    "                                 bed_paths,\n",
    "                                 'E4AD_1yr/consensus_peak_calling/MACS/',\n",
    "                                 genome_size='mm',\n",
    "                                 n_cpu=8,\n",
    "                                 input_format='BEDPE',\n",
    "                                 shift=73,\n",
    "                                 ext_size=146,\n",
    "                                 keep_dup = 'all',\n",
    "                                 q_value = 0.05,\n",
    "                                 _temp_dir = \"/lustre/fs4/home/amillet/ray_spill\")"
   ]
  },
  {
   "cell_type": "code",
   "execution_count": null,
   "id": "27c3bdb8",
   "metadata": {},
   "outputs": [],
   "source": [
    "# ray has some weird rules about the temp_dir name length.\n",
    "# had to choose a folder close to home for actual run,\n",
    "# transferring to scenicplus/E4AD_1yr folder after the fact.\n",
    "import shutil\n",
    "shutil.move(\"/lustre/fs4/home/amillet/ray_spill\", \"/lustre/fs4/home/amillet/scenicplus/E4AD_1yr\")"
   ]
  },
  {
   "cell_type": "code",
   "execution_count": null,
   "id": "65ddd2dd",
   "metadata": {},
   "outputs": [],
   "source": [
    "pickle.dump(narrow_peaks_dict,\n",
    "            open('E4AD_1yr/consensus_peak_calling/MACS/narrow_peaks_dict.pkl', 'wb'))"
   ]
  },
  {
   "cell_type": "code",
   "execution_count": null,
   "id": "11ead413",
   "metadata": {},
   "outputs": [],
   "source": [
    "from pycisTopic.iterative_peak_calling import *\n",
    "# Other param\n",
    "peak_half_width = 250\n",
    "path_to_blacklist= 'mm10-blacklist.v2.bed' #downloaded from aertslab github\n",
    "# Get consensus peaks\n",
    "consensus_peaks=get_consensus_peaks(narrow_peaks_dict, peak_half_width, chromsizes=chromsizes, path_to_blacklist=path_to_blacklist)"
   ]
  },
  {
   "cell_type": "code",
   "execution_count": null,
   "id": "e74161ca",
   "metadata": {},
   "outputs": [],
   "source": [
    "consensus_peaks.to_bed(\n",
    "    path = 'E4AD_1yr/consensus_peak_calling/consensus_regions.bed',\n",
    "    keep=True,\n",
    "    compression='infer',\n",
    "    chain=False)"
   ]
  },
  {
   "cell_type": "markdown",
   "id": "ac2b79b1",
   "metadata": {},
   "source": [
    "### QC"
   ]
  },
  {
   "cell_type": "code",
   "execution_count": null,
   "id": "06dc577b",
   "metadata": {},
   "outputs": [],
   "source": [
    "import pybiomart as pbm\n",
    "dataset = pbm.Dataset(name='mmusculus_gene_ensembl',  host='http://www.ensembl.org')\n",
    "annot = dataset.query(attributes=['chromosome_name', 'transcription_start_site', 'strand', 'external_gene_name', 'transcript_biotype'])\n",
    "annot['Chromosome/scaffold name'] = annot['Chromosome/scaffold name'].to_numpy(dtype = str)\n",
    "filter = annot['Chromosome/scaffold name'].str.contains('CHR|GL|JH|MT')\n",
    "annot = annot[~filter]\n",
    "annot['Chromosome/scaffold name'] = annot['Chromosome/scaffold name'].str.replace(r'(\\b\\S)', r'chr\\1')\n",
    "annot.columns=['Chromosome', 'Start', 'Strand', 'Gene', 'Transcript_type']\n",
    "annot = annot[annot.Transcript_type == 'protein_coding']\n",
    "from pycisTopic.qc import *\n",
    "path_to_regions = {'E4AD_1yr':'E4AD_1yr/consensus_peak_calling/consensus_regions.bed'}\n",
    "\n",
    "metadata_bc, profile_data_dict = compute_qc_stats(\n",
    "                fragments_dict = fragments_dict,\n",
    "                tss_annotation = annot,\n",
    "                stats=['barcode_rank_plot', 'duplicate_rate', 'insert_size_distribution', 'profile_tss', 'frip'],\n",
    "                label_list = None,\n",
    "                path_to_regions = path_to_regions,\n",
    "                n_cpu = 1,\n",
    "                valid_bc = None,\n",
    "                n_frag = 100,\n",
    "                n_bc = None,\n",
    "                tss_flank_window = 1000,\n",
    "                tss_window = 50,\n",
    "                tss_minimum_signal_window = 100,\n",
    "                tss_rolling_window = 10,\n",
    "                remove_duplicates = True,\n",
    "                _temp_dir = \"/lustre/fs4/home/amillet/ray_spill\")\n",
    "\n",
    "if not os.path.exists('E4AD_1yr/quality_control'):\n",
    "    os.makedirs('E4AD_1yr/quality_control')\n",
    "\n",
    "pickle.dump(metadata_bc,\n",
    "            open('E4AD_1yr/quality_control/metadata_bc.pkl', 'wb'))\n",
    "\n",
    "pickle.dump(profile_data_dict,\n",
    "            open('E4AD_1yr/quality_control/profile_data_dict.pkl', 'wb'))"
   ]
  },
  {
   "cell_type": "code",
   "execution_count": null,
   "id": "409fd90b",
   "metadata": {},
   "outputs": [],
   "source": [
    "                        #[min,  #max]\n",
    "QC_filters = {\n",
    "    'Log_unique_nr_frag': [3.3 , None],\n",
    "    'FRIP':               [0.4, None],\n",
    "    'TSS_enrichment':     [1   , None],\n",
    "    'Dupl_rate':          [None, None]\n",
    "\n",
    "}\n",
    "\n",
    "# Return figure to plot together with other metrics, and cells passing filters. Figure will be saved as pdf.\n",
    "from pycisTopic.qc import *\n",
    "FRIP_NR_FRAG_fig, FRIP_NR_FRAG_filter=plot_barcode_metrics(metadata_bc['E4AD_1yr'],\n",
    "                                       var_x='Log_unique_nr_frag',\n",
    "                                       var_y='FRIP',\n",
    "                                       min_x=QC_filters['Log_unique_nr_frag'][0],\n",
    "                                       max_x=QC_filters['Log_unique_nr_frag'][1],\n",
    "                                       min_y=QC_filters['FRIP'][0],\n",
    "                                       max_y=QC_filters['FRIP'][1],\n",
    "                                       return_cells=True,\n",
    "                                       return_fig=True,\n",
    "                                       plot=False)\n",
    "# Return figure to plot together with other metrics, and cells passing filters\n",
    "TSS_NR_FRAG_fig, TSS_NR_FRAG_filter=plot_barcode_metrics(metadata_bc['E4AD_1yr'],\n",
    "                                      var_x='Log_unique_nr_frag',\n",
    "                                      var_y='TSS_enrichment',\n",
    "                                      min_x=QC_filters['Log_unique_nr_frag'][0],\n",
    "                                      max_x=QC_filters['Log_unique_nr_frag'][1],\n",
    "                                      min_y=QC_filters['TSS_enrichment'][0],\n",
    "                                      max_y=QC_filters['TSS_enrichment'][1],\n",
    "                                      return_cells=True,\n",
    "                                      return_fig=True,\n",
    "                                      plot=False)\n",
    "# Return figure to plot together with other metrics, but not returning cells (no filter applied for the duplication rate  per barcode)\n",
    "DR_NR_FRAG_fig=plot_barcode_metrics(metadata_bc['E4AD_1yr'],\n",
    "                                      var_x='Log_unique_nr_frag',\n",
    "                                      var_y='Dupl_rate',\n",
    "                                      min_x=QC_filters['Log_unique_nr_frag'][0],\n",
    "                                      max_x=QC_filters['Log_unique_nr_frag'][1],\n",
    "                                      min_y=QC_filters['Dupl_rate'][0],\n",
    "                                      max_y=QC_filters['Dupl_rate'][1],\n",
    "                                      return_cells=False,\n",
    "                                      return_fig=True,\n",
    "                                      plot=False,\n",
    "                                      plot_as_hexbin = True)\n",
    "\n",
    "# Plot barcode stats in one figure\n",
    "fig=plt.figure(figsize=(10,10))\n",
    "plt.subplot(1, 3, 1)\n",
    "img = fig2img(FRIP_NR_FRAG_fig)\n",
    "plt.imshow(img)\n",
    "plt.axis('off')\n",
    "plt.subplot(1, 3, 2)\n",
    "img = fig2img(TSS_NR_FRAG_fig)\n",
    "plt.imshow(img)\n",
    "plt.axis('off')\n",
    "plt.subplot(1, 3, 3)\n",
    "img = fig2img(DR_NR_FRAG_fig)\n",
    "plt.imshow(img)\n",
    "plt.axis('off')\n",
    "plt.show()"
   ]
  },
  {
   "cell_type": "code",
   "execution_count": null,
   "id": "b1219d9c",
   "metadata": {},
   "outputs": [],
   "source": [
    "bc_passing_filters = {'E4AD_1yr':[]}\n",
    "bc_passing_filters['E4AD_1yr'] = list((set(FRIP_NR_FRAG_filter) & set(TSS_NR_FRAG_filter)))\n",
    "pickle.dump(bc_passing_filters,\n",
    "            open('E4AD_1yr/quality_control/bc_passing_filters.pkl', 'wb'))\n",
    "print(f\"{len(bc_passing_filters['E4AD_1yr'])} barcodes passed QC stats\")"
   ]
  },
  {
   "cell_type": "markdown",
   "id": "653dbf13",
   "metadata": {},
   "source": [
    "### Topic Modeling"
   ]
  },
  {
   "cell_type": "code",
   "execution_count": null,
   "id": "77a7bb31",
   "metadata": {},
   "outputs": [],
   "source": [
    "import scanpy as sc\n",
    "adata = sc.read_h5ad('E4AD_1yr/rna_adata.h5ad')\n",
    "scRNA_bc = adata.obs_names\n",
    "cell_data = adata.obs\n",
    "cell_data['sample_id'] = 'E4AD_1yr'\n",
    "cell_data['celltype'] = cell_data['celltype'].astype(str) # set data type of the celltype column to str, otherwise the export_pseudobulk function will complain.\n",
    "del(adata)"
   ]
  },
  {
   "cell_type": "code",
   "execution_count": null,
   "id": "8c06fa79",
   "metadata": {},
   "outputs": [],
   "source": [
    "import pickle\n",
    "fragments_dict = {'E4AD_1yr': '/lustre/fs4/home/amillet/scenicplus/E4AD_1yr/atac_fragments_filtered.tsv.gz'}\n",
    "path_to_regions = {'E4AD_1yr': 'E4AD_1yr/consensus_peak_calling/consensus_regions.bed'}\n",
    "path_to_blacklist= 'mm10-blacklist.v2.bed'\n",
    "metadata_bc = pickle.load(open('E4AD_1yr/quality_control/metadata_bc.pkl', 'rb'))\n",
    "bc_passing_filters = pickle.load(open('E4AD_1yr/quality_control/bc_passing_filters.pkl', 'rb'))"
   ]
  },
  {
   "cell_type": "code",
   "execution_count": null,
   "id": "283d212c",
   "metadata": {},
   "outputs": [],
   "source": [
    "print(f\"{len(list(set(bc_passing_filters['E4AD_1yr']) & set(scRNA_bc)))} cell barcodes pass both scATAC-seq and scRNA-seq based filtering\")\n"
   ]
  },
  {
   "cell_type": "code",
   "execution_count": null,
   "id": "4a2be0da",
   "metadata": {},
   "outputs": [],
   "source": [
    "from pycisTopic.cistopic_class import *\n",
    "key = 'E4AD_1yr'\n",
    "cistopic_obj = create_cistopic_object_from_fragments(\n",
    "                            path_to_fragments=fragments_dict[key],\n",
    "                            path_to_regions=path_to_regions[key],\n",
    "                            path_to_blacklist=path_to_blacklist,\n",
    "                            metrics=metadata_bc[key],\n",
    "                            valid_bc=list(set(scRNA_bc)), # removing `set(bc_passing_filters[key]) & ` as RNA is already prefiltered on both \n",
    "                            n_cpu=1,\n",
    "                            project=key,\n",
    "                            split_pattern='-')\n",
    "cistopic_obj.add_cell_data(cell_data, split_pattern='-')\n",
    "print(cistopic_obj)"
   ]
  },
  {
   "cell_type": "code",
   "execution_count": null,
   "id": "e9537f32",
   "metadata": {},
   "outputs": [],
   "source": [
    "pickle.dump(cistopic_obj,\n",
    "            open('E4AD_1yr/cistopic_obj.pkl', 'wb'))"
   ]
  },
  {
   "cell_type": "code",
   "execution_count": null,
   "id": "ae8c45ce",
   "metadata": {},
   "outputs": [],
   "source": [
    "# import pickle\n",
    "cistopic_obj = pickle.load(open('E4AD_1yr/cistopic_obj.pkl', 'rb'))\n",
    "from pycisTopic.cistopic_class import *\n",
    "models=run_cgs_models(cistopic_obj,\n",
    "                    n_topics=[2,4,10,16,32,48],\n",
    "                    n_cpu=5,\n",
    "                    n_iter=500,\n",
    "                    random_state=555,\n",
    "                    alpha=50,\n",
    "                    alpha_by_topic=True,\n",
    "                    eta=0.1,\n",
    "                    eta_by_topic=False,\n",
    "                    save_path=None,\n",
    "                    _temp_dir = \"/lustre/fs4/home/amillet/ray_spill\")"
   ]
  },
  {
   "cell_type": "code",
   "execution_count": null,
   "id": "55d2609d",
   "metadata": {},
   "outputs": [],
   "source": [
    "if not os.path.exists('E4AD_1yr/models'):\n",
    "    os.makedirs('E4AD_1yr/models')\n",
    "\n",
    "pickle.dump(models,\n",
    "            open('E4AD_1yr/models/10x_pbmc_models_500_iter_LDA.pkl', 'wb'))"
   ]
  },
  {
   "cell_type": "code",
   "execution_count": null,
   "id": "40ef9f14",
   "metadata": {},
   "outputs": [],
   "source": [
    "models = pickle.load(open('E4AD_1yr/models/10x_pbmc_models_500_iter_LDA.pkl', 'rb'))\n",
    "cistopic_obj = pickle.load(open('E4AD_1yr/cistopic_obj.pkl', 'rb'))\n",
    "from pycisTopic.lda_models import *\n",
    "model = evaluate_models(models,\n",
    "                       select_model=32,\n",
    "                       return_model=True,\n",
    "                       metrics=['Arun_2010','Cao_Juan_2009', 'Minmo_2011', 'loglikelihood'],\n",
    "                       plot_metrics=False)"
   ]
  },
  {
   "cell_type": "code",
   "execution_count": null,
   "id": "47a7d8d3",
   "metadata": {},
   "outputs": [],
   "source": [
    "cistopic_obj.add_LDA_model(model)\n",
    "pickle.dump(cistopic_obj,\n",
    "            open('E4AD_1yr/cistopic_obj.pkl', 'wb'))"
   ]
  },
  {
   "cell_type": "code",
   "execution_count": null,
   "id": "5d2a2b51",
   "metadata": {},
   "outputs": [],
   "source": [
    "from pycisTopic.clust_vis import *\n",
    "run_umap(cistopic_obj, target  = 'cell', scale=True)\n",
    "plot_metadata(cistopic_obj, reduction_name = 'UMAP', variables = ['celltype'])"
   ]
  },
  {
   "cell_type": "code",
   "execution_count": null,
   "id": "793cee62",
   "metadata": {},
   "outputs": [],
   "source": [
    "plot_topic(cistopic_obj, reduction_name = 'UMAP', num_columns = 4)"
   ]
  },
  {
   "cell_type": "code",
   "execution_count": null,
   "id": "5f3e365b",
   "metadata": {},
   "outputs": [],
   "source": [
    "from pycisTopic.topic_binarization import *\n",
    "region_bin_topics_otsu = binarize_topics(cistopic_obj, method='otsu')\n",
    "region_bin_topics_top3k = binarize_topics(cistopic_obj, method='ntop', ntop = 3000)"
   ]
  },
  {
   "cell_type": "code",
   "execution_count": null,
   "id": "bbab3b8e",
   "metadata": {},
   "outputs": [],
   "source": [
    "import numpy as np\n",
    "from pycisTopic.diff_features import *\n",
    "imputed_acc_obj = impute_accessibility(cistopic_obj, selected_cells=None, selected_regions=None, scale_factor=10**6)\n",
    "normalized_imputed_acc_obj = normalize_scores(imputed_acc_obj, scale_factor=10**4)\n",
    "variable_regions = find_highly_variable_features(normalized_imputed_acc_obj, plot = False)\n",
    "markers_dict = find_diff_features(cistopic_obj, imputed_acc_obj, variable='celltype', \n",
    "                                  var_features=variable_regions, split_pattern = '-',\n",
    "                                 adjpval_thr = 0.1, log2fc_thr = np.log2(1.1))"
   ]
  },
  {
   "cell_type": "code",
   "execution_count": null,
   "id": "a44dc149",
   "metadata": {},
   "outputs": [],
   "source": [
    "if not os.path.exists('E4AD_1yr/candidate_enhancers'):\n",
    "    os.makedirs('E4AD_1yr/candidate_enhancers')\n",
    "import pickle\n",
    "pickle.dump(region_bin_topics_otsu, open('E4AD_1yr/candidate_enhancers/region_bin_topics_otsu.pkl', 'wb'))\n",
    "pickle.dump(region_bin_topics_top3k, open('E4AD_1yr/candidate_enhancers/region_bin_topics_top3k.pkl', 'wb'))\n",
    "pickle.dump(markers_dict, open('E4AD_1yr/candidate_enhancers/markers_dict.pkl', 'wb'))"
   ]
  },
  {
   "cell_type": "markdown",
   "id": "67537cf8",
   "metadata": {},
   "source": [
    "## PyCisTarget Motif Enrichment Analysis"
   ]
  },
  {
   "cell_type": "code",
   "execution_count": null,
   "id": "aecee040",
   "metadata": {},
   "outputs": [],
   "source": [
    "import pickle\n",
    "region_bin_topics_otsu = pickle.load(open('E4AD_1yr/candidate_enhancers/region_bin_topics_otsu.pkl', 'rb'))\n",
    "region_bin_topics_top3k = pickle.load(open('E4AD_1yr/candidate_enhancers/region_bin_topics_top3k.pkl', 'rb'))\n",
    "markers_dict = pickle.load(open('E4AD_1yr/candidate_enhancers/markers_dict.pkl', 'rb'))"
   ]
  },
  {
   "cell_type": "code",
   "execution_count": null,
   "id": "61822fc7",
   "metadata": {},
   "outputs": [],
   "source": [
    "import pyranges as pr\n",
    "from pycistarget.utils import region_names_to_coordinates\n",
    "region_sets = {}\n",
    "region_sets['topics_otsu'] = {}\n",
    "region_sets['topics_top_3'] = {}\n",
    "region_sets['DARs'] = {}\n",
    "for topic in region_bin_topics_otsu.keys():\n",
    "    regions = region_bin_topics_otsu[topic].index[region_bin_topics_otsu[topic].index.str.startswith('chr')] #only keep regions on known chromosomes\n",
    "    region_sets['topics_otsu'][topic] = pr.PyRanges(region_names_to_coordinates(regions))\n",
    "for topic in region_bin_topics_top3k.keys():\n",
    "    regions = region_bin_topics_top3k[topic].index[region_bin_topics_top3k[topic].index.str.startswith('chr')] #only keep regions on known chromosomes\n",
    "    region_sets['topics_top_3'][topic] = pr.PyRanges(region_names_to_coordinates(regions))\n",
    "for DAR in markers_dict.keys():\n",
    "    regions = markers_dict[DAR].index[markers_dict[DAR].index.str.startswith('chr')] #only keep regions on known chromosomes\n",
    "    region_sets['DARs'][DAR] = pr.PyRanges(region_names_to_coordinates(regions))"
   ]
  },
  {
   "cell_type": "code",
   "execution_count": null,
   "id": "022e3956",
   "metadata": {},
   "outputs": [],
   "source": [
    "for key in region_sets.keys():\n",
    "    print(f'{key}: {region_sets[key].keys()}')"
   ]
  },
  {
   "cell_type": "code",
   "execution_count": null,
   "id": "6a303305",
   "metadata": {},
   "outputs": [],
   "source": [
    "rankings_db = '/ru-auth/local/home/amillet/scratch/references/cistarget/mm10_screen_v10_clust.regions_vs_motifs.rankings.feather'\n",
    "scores_db = '/ru-auth/local/home/amillet/scratch/references/cistarget/mm10_screen_v10_clust.regions_vs_motifs.scores.feather'\n",
    "motif_annotation = '/ru-auth/local/home/amillet/scratch/references/cistarget/motifs-v10nr_clust-nr.mgi-m0.001-o0.0.tbl'"
   ]
  },
  {
   "cell_type": "code",
   "execution_count": null,
   "id": "cb81ce79",
   "metadata": {
    "scrolled": true
   },
   "outputs": [],
   "source": [
    "if not os.path.exists('E4AD_1yr/motifs'):\n",
    "    os.makedirs('E4AD_1yr/motifs')\n",
    "from scenicplus.wrappers.run_pycistarget import run_pycistarget\n",
    "run_pycistarget(\n",
    "    region_sets = region_sets,\n",
    "    species = 'mus_musculus',\n",
    "    save_path = 'E4AD_1yr/motifs',\n",
    "    ctx_db_path = rankings_db,\n",
    "    dem_db_path = scores_db,\n",
    "    path_to_motif_annotations = motif_annotation,\n",
    "    run_without_promoters = True,\n",
    "    n_cpu = 8,\n",
    "    _temp_dir = \"/lustre/fs4/home/amillet/ray_spill\",\n",
    "    annotation_version = 'v10nr_clust',\n",
    "    )"
   ]
  },
  {
   "cell_type": "code",
   "execution_count": null,
   "id": "968bfa53",
   "metadata": {},
   "outputs": [],
   "source": [
    "import dill\n",
    "menr = dill.load(open('E4AD_1yr/motifs/menr.pkl', 'rb'))"
   ]
  },
  {
   "cell_type": "code",
   "execution_count": null,
   "id": "e53b1735",
   "metadata": {
    "scrolled": false
   },
   "outputs": [],
   "source": [
    "menr['DEM_topics_otsu_All'].DEM_results('Topic17')"
   ]
  },
  {
   "cell_type": "markdown",
   "id": "eb4a5562",
   "metadata": {},
   "source": [
    "# Finally!! Time to run SCENIC+."
   ]
  },
  {
   "cell_type": "code",
   "execution_count": null,
   "id": "ccf80029",
   "metadata": {},
   "outputs": [],
   "source": [
    "import dill\n",
    "import scanpy as sc\n",
    "import os\n",
    "import warnings\n",
    "warnings.filterwarnings(\"ignore\")\n",
    "import pandas\n",
    "import pyranges\n",
    "# Set stderr to null to avoid strange messages from ray\n",
    "import sys\n",
    "_stderr = sys.stderr\n",
    "null = open(os.devnull,'wb')\n",
    "\n",
    "adata = sc.read_h5ad('E4AD_1yr/rna_adata.h5ad')\n",
    "cistopic_obj = dill.load(open('E4AD_1yr/cistopic_obj.pkl', 'rb'))\n",
    "menr = dill.load(open('E4AD_1yr/motifs/menr.pkl', 'rb'))"
   ]
  },
  {
   "cell_type": "code",
   "execution_count": null,
   "id": "7d006e20",
   "metadata": {},
   "outputs": [],
   "source": [
    "from scenicplus.scenicplus_class import create_SCENICPLUS_object\n",
    "import numpy as np\n",
    "scplus_obj = create_SCENICPLUS_object(\n",
    "    GEX_anndata = adata.raw.to_adata(),\n",
    "    cisTopic_obj = cistopic_obj,\n",
    "    menr = menr,\n",
    "    bc_transform_func = lambda x: f'{x}-E4AD_1yr' #function to convert scATAC-seq barcodes to scRNA-seq ones\n",
    ")\n",
    "scplus_obj.X_EXP = np.array(scplus_obj.X_EXP.todense())\n",
    "scplus_obj"
   ]
  },
  {
   "cell_type": "markdown",
   "id": "9ccccca0",
   "metadata": {},
   "source": [
    "Check which biomart host is best:"
   ]
  },
  {
   "cell_type": "code",
   "execution_count": null,
   "id": "6a5b9b79",
   "metadata": {},
   "outputs": [],
   "source": [
    "ensembl_version_dict = {'105': 'http://www.ensembl.org',\n",
    "                        '104': 'http://may2021.archive.ensembl.org/',\n",
    "                        '103': 'http://feb2021.archive.ensembl.org/',\n",
    "                        '102': 'http://nov2020.archive.ensembl.org/',\n",
    "                        '101': 'http://aug2020.archive.ensembl.org/',\n",
    "                        '100': 'http://apr2020.archive.ensembl.org/',\n",
    "                        '99': 'http://jan2020.archive.ensembl.org/',\n",
    "                        '98': 'http://sep2019.archive.ensembl.org/',\n",
    "                        '97': 'http://jul2019.archive.ensembl.org/',\n",
    "                        '96': 'http://apr2019.archive.ensembl.org/',\n",
    "                        '95': 'http://jan2019.archive.ensembl.org/',\n",
    "                        '94': 'http://oct2018.archive.ensembl.org/',\n",
    "                        '93': 'http://jul2018.archive.ensembl.org/',\n",
    "                        '92': 'http://apr2018.archive.ensembl.org/',\n",
    "                        '91': 'http://dec2017.archive.ensembl.org/',\n",
    "                        '90': 'http://aug2017.archive.ensembl.org/',\n",
    "                        '89': 'http://may2017.archive.ensembl.org/',\n",
    "                        '88': 'http://mar2017.archive.ensembl.org/',\n",
    "                        '87': 'http://dec2016.archive.ensembl.org/',\n",
    "                        '86': 'http://oct2016.archive.ensembl.org/',\n",
    "                        '80': 'http://may2015.archive.ensembl.org/',\n",
    "                        '77': 'http://oct2014.archive.ensembl.org/',\n",
    "                        '75': 'http://feb2014.archive.ensembl.org/',\n",
    "                        '54': 'http://may2009.archive.ensembl.org/'}\n",
    "\n",
    "import pybiomart as pbm\n",
    "def test_ensembl_host(scplus_obj, host, species):\n",
    "    dataset = pbm.Dataset(name=species+'_gene_ensembl',  host=host)\n",
    "    annot = dataset.query(attributes=['chromosome_name', 'transcription_start_site', 'strand', 'external_gene_name', 'transcript_biotype'])\n",
    "    annot.columns = ['Chromosome', 'Start', 'Strand', 'Gene', 'Transcript_type']\n",
    "    annot['Chromosome'] = annot['Chromosome'].astype('str')\n",
    "    filter = annot['Chromosome'].str.contains('CHR|GL|JH|MT')\n",
    "    annot = annot[~filter]\n",
    "    annot.columns=['Chromosome', 'Start', 'Strand', 'Gene', 'Transcript_type']\n",
    "    gene_names_release = set(annot['Gene'].tolist())\n",
    "    ov=len([x for x in scplus_obj.gene_names if x in gene_names_release])\n",
    "    print('Genes recovered: ' + str(ov) + ' out of ' + str(len(scplus_obj.gene_names)))\n",
    "    return ov\n",
    "\n",
    "n_overlap = {}\n",
    "for version in ensembl_version_dict.keys():\n",
    "    print(f'host: {version}')\n",
    "    try:\n",
    "        n_overlap[version] =  test_ensembl_host(scplus_obj, ensembl_version_dict[version], 'mmusculus')\n",
    "    except:\n",
    "        print('Host not reachable')\n",
    "v = sorted(n_overlap.items(), key=lambda item: item[1], reverse=True)[0][0]\n",
    "print(f\"version: {v} has the largest overlap, use {ensembl_version_dict[v]} as biomart host\")"
   ]
  },
  {
   "cell_type": "code",
   "execution_count": null,
   "id": "e073df9e",
   "metadata": {},
   "outputs": [],
   "source": [
    "biomart_host = \"http://sep2019.archive.ensembl.org/\""
   ]
  },
  {
   "cell_type": "markdown",
   "id": "b725d6e9",
   "metadata": {},
   "source": [
    "We prep a list of all known mouse TFs, first by downloading the annotated txt file from http://bioinfo.life.hust.edu.cn/AnimalTFDB4/#/Download for mouse and saving it to `scenicplus/Mus_musculus_TF.txt`. Then we filter to just the TF names and save as a new txt file for use."
   ]
  },
  {
   "cell_type": "code",
   "execution_count": null,
   "id": "c6a03b71",
   "metadata": {},
   "outputs": [],
   "source": [
    "import pandas as pd\n",
    "import numpy as np\n",
    "df = pd.read_csv(\"Mus_musculus_TF.txt\", sep = \"\\t\")\n",
    "df = df['Symbol']\n",
    "np.savetxt(r'Mus_musculus_TF_readytouse.txt', df.values, fmt='%s')"
   ]
  },
  {
   "cell_type": "code",
   "execution_count": null,
   "id": "d758b616",
   "metadata": {},
   "outputs": [],
   "source": [
    "scplus_obj.dr_cell['GEX_X_pca'] = scplus_obj.dr_cell['GEX_X_pca'].iloc[:, 0:2]"
   ]
  },
  {
   "cell_type": "code",
   "execution_count": null,
   "id": "b1f53275",
   "metadata": {
    "scrolled": true
   },
   "outputs": [],
   "source": [
    "from scenicplus.wrappers.run_scenicplus import run_scenicplus\n",
    "try:\n",
    "    run_scenicplus(\n",
    "        scplus_obj = scplus_obj,\n",
    "        variable = ['GEX_celltype'],\n",
    "        species = 'mmusculus',\n",
    "        assembly = 'mm10',\n",
    "        tf_file = 'Mus_musculus_TF_readytouse.txt',\n",
    "        save_path = 'E4AD_1yr/scenicplus',\n",
    "        biomart_host = biomart_host,\n",
    "        upstream = [1000, 150000],\n",
    "        downstream = [1000, 150000],\n",
    "        calculate_TF_eGRN_correlation = True,\n",
    "        calculate_DEGs_DARs = True,\n",
    "        export_to_loom_file = True,\n",
    "        export_to_UCSC_file = True,\n",
    "        path_bedToBigBed = '/ru-auth/local/home/amillet/scenicplus',\n",
    "        n_cpu = 12,\n",
    "        _temp_dir = \"/lustre/fs4/home/amillet/ray_spill\")\n",
    "except Exception as e:\n",
    "    #in case of failure, still save the object\n",
    "    dill.dump(scplus_obj, open('E4AD_1yr/scenicplus/scplus_obj.pkl', 'wb'), protocol=-1)\n",
    "    raise(e)"
   ]
  },
  {
   "cell_type": "markdown",
   "id": "edd99931",
   "metadata": {},
   "source": [
    "Note: for this code to run, had to edit `src/scenicplus/loom.py` line 174 from `), columns=cv.get_feature_names(), index=regulons.keys())` to `), columns=cv.get_feature_names_out(), index=regulons.keys())` due to an update in scikit-learn. See: https://github.com/aertslab/scenicplus/issues/76"
   ]
  },
  {
   "cell_type": "code",
   "execution_count": null,
   "id": "7be98cf2",
   "metadata": {
    "scrolled": true
   },
   "outputs": [],
   "source": [
    "scplus_obj"
   ]
  },
  {
   "cell_type": "markdown",
   "id": "ed8d6397",
   "metadata": {},
   "source": [
    "## FINALLY time to explore the data!"
   ]
  },
  {
   "cell_type": "code",
   "execution_count": null,
   "id": "2d2c9901",
   "metadata": {},
   "outputs": [],
   "source": [
    "import warnings\n",
    "warnings.simplefilter(action='ignore', category=FutureWarning)\n",
    "import sys\n",
    "import os\n",
    "_stderr = sys.stderr\n",
    "null = open(os.devnull,'wb')"
   ]
  },
  {
   "cell_type": "code",
   "execution_count": null,
   "id": "d9afcdd8",
   "metadata": {},
   "outputs": [],
   "source": [
    "import dill\n",
    "scplus_obj = dill.load(open('E4AD_1yr/scenicplus/scplus_obj.pkl', 'rb'))"
   ]
  },
  {
   "cell_type": "code",
   "execution_count": null,
   "id": "d53346ca",
   "metadata": {},
   "outputs": [],
   "source": [
    "from scenicplus.preprocessing.filtering import apply_std_filtering_to_eRegulons\n",
    "apply_std_filtering_to_eRegulons(scplus_obj)"
   ]
  },
  {
   "cell_type": "code",
   "execution_count": null,
   "id": "3131806e",
   "metadata": {},
   "outputs": [],
   "source": [
    "work_dir = \"E4AD_1yr\"\n",
    "from scenicplus.eregulon_enrichment import score_eRegulons\n",
    "region_ranking = dill.load(open(os.path.join(work_dir, 'scenicplus/region_ranking.pkl'), 'rb')) #load ranking calculated using the wrapper function\n",
    "gene_ranking = dill.load(open(os.path.join(work_dir, 'scenicplus/gene_ranking.pkl'), 'rb')) #load ranking calculated using the wrapper function\n",
    "score_eRegulons(scplus_obj,\n",
    "                ranking = region_ranking,\n",
    "                eRegulon_signatures_key = 'eRegulon_signatures_filtered',\n",
    "                key_added = 'eRegulon_AUC_filtered',\n",
    "                enrichment_type= 'region',\n",
    "                auc_threshold = 0.05,\n",
    "                normalize = False,\n",
    "                n_cpu = 5)\n",
    "score_eRegulons(scplus_obj,\n",
    "                gene_ranking,\n",
    "                eRegulon_signatures_key = 'eRegulon_signatures_filtered',\n",
    "                key_added = 'eRegulon_AUC_filtered',\n",
    "                enrichment_type = 'gene',\n",
    "                auc_threshold = 0.05,\n",
    "                normalize= False,\n",
    "                n_cpu = 5)"
   ]
  },
  {
   "cell_type": "code",
   "execution_count": null,
   "id": "2350987d",
   "metadata": {},
   "outputs": [],
   "source": [
    "from scenicplus.dimensionality_reduction import run_eRegulons_tsne, run_eRegulons_umap\n",
    "run_eRegulons_umap(\n",
    "    scplus_obj = scplus_obj,\n",
    "    auc_key = 'eRegulon_AUC_filtered',\n",
    "    reduction_name = 'eRegulons_UMAP', #overwrite previously calculated UMAP\n",
    ")\n",
    "run_eRegulons_tsne(\n",
    "    scplus_obj = scplus_obj,\n",
    "    auc_key = 'eRegulon_AUC_filtered',\n",
    "    reduction_name = 'eRegulons_tSNE', #overwrite previously calculated tSNE\n",
    ")"
   ]
  },
  {
   "cell_type": "code",
   "execution_count": null,
   "id": "eaea8af1",
   "metadata": {},
   "outputs": [],
   "source": [
    "scplus_obj.metadata_cell['GEX_celltype'].value_counts()"
   ]
  },
  {
   "cell_type": "code",
   "execution_count": null,
   "id": "29db7810",
   "metadata": {},
   "outputs": [],
   "source": [
    "from scenicplus.dimensionality_reduction import plot_metadata_given_ax\n",
    "import matplotlib.pyplot as plt\n",
    "import seaborn as sns\n",
    "%matplotlib inline\n",
    "\n",
    "#specify color_dictionary\n",
    "\n",
    "color_dict = {\n",
    "    'Homeostatic Microglia': \"#065143\",\n",
    "    'Selplg-lo Microglia': \"#70B77E\",\n",
    "    'mt-Enriched Microglia': \"#E0A890\",\n",
    "    'mt-Depleted Microglia': \"#053C5E\",\n",
    "    'DAM-1': \"#F56476\",\n",
    "    'DAM-2': \"#CE1483\" ,\n",
    "    'TIMs': \"#38A3A5\",\n",
    "    'Siglech-hi Microglia': \"#80ED99\"\n",
    "}\n",
    "\n",
    "fig, axs = plt.subplots(ncols=2, figsize = (16, 8))\n",
    "plot_metadata_given_ax(\n",
    "    scplus_obj=scplus_obj,\n",
    "    ax = axs[0],\n",
    "    reduction_name = 'eRegulons_UMAP',\n",
    "    variable = 'GEX_celltype', #note the GEX_ prefix, this metadata originated from the gene expression metadata (on which we did the cell type annotation before)\n",
    "    color_dictionary={'GEX_celltype': color_dict}\n",
    ")\n",
    "plot_metadata_given_ax(\n",
    "    scplus_obj=scplus_obj,\n",
    "    ax = axs[1],\n",
    "    reduction_name = 'eRegulons_tSNE',\n",
    "    variable = 'GEX_celltype', #note the GEX_ prefix, this metadata originated from the gene expression metadata (on which we did the cell type annotation before)\n",
    "    color_dictionary={'GEX_celltype': color_dict}\n",
    ")\n",
    "fig.tight_layout()\n",
    "sns.despine(ax = axs[0]) #remove top and right edge of axis border\n",
    "sns.despine(ax = axs[1]) #remove top and right edge of axis border\n",
    "plt.show()"
   ]
  },
  {
   "cell_type": "code",
   "execution_count": null,
   "id": "6eeafc9a",
   "metadata": {},
   "outputs": [],
   "source": [
    "from scenicplus.dimensionality_reduction import plot_eRegulon\n",
    "plot_eRegulon(\n",
    "    scplus_obj = scplus_obj,\n",
    "    reduction_name = 'eRegulons_UMAP',\n",
    "    selected_regulons = ['Fos_+', 'Jun_+', 'Fosb_+', 'Klf4_+', 'Egr3_+'],\n",
    "    scale = True,\n",
    "    auc_key = 'eRegulon_AUC_filtered')"
   ]
  },
  {
   "cell_type": "code",
   "execution_count": null,
   "id": "ff54c996",
   "metadata": {},
   "outputs": [],
   "source": [
    "df = scplus_obj.uns['eRegulon_metadata_filtered']\n",
    "df[df.TF == \"Jun\"]"
   ]
  },
  {
   "cell_type": "code",
   "execution_count": null,
   "id": "41450047",
   "metadata": {},
   "outputs": [],
   "source": [
    "from scenicplus.dimensionality_reduction import plot_AUC_given_ax\n",
    "\n",
    "fig, ax = plt.subplots(figsize = (8,8))\n",
    "plot_AUC_given_ax(\n",
    "    scplus_obj = scplus_obj,\n",
    "    reduction_name = 'eRegulons_tSNE',\n",
    "    feature = 'Jun_+_(73g)',\n",
    "    ax = ax,\n",
    "    auc_key = 'eRegulon_AUC_filtered',\n",
    "    signature_key = 'Gene_based')\n",
    "sns.despine(ax = ax)\n",
    "plt.show()"
   ]
  },
  {
   "cell_type": "code",
   "execution_count": null,
   "id": "d1138466",
   "metadata": {},
   "outputs": [],
   "source": [
    "from scenicplus.cistromes import TF_cistrome_correlation, generate_pseudobulks\n",
    "\n",
    "generate_pseudobulks(\n",
    "        scplus_obj = scplus_obj,\n",
    "        variable = 'GEX_celltype',\n",
    "        auc_key = 'eRegulon_AUC_filtered',\n",
    "        signature_key = 'Gene_based')\n",
    "generate_pseudobulks(\n",
    "        scplus_obj = scplus_obj,\n",
    "        variable = 'GEX_celltype',\n",
    "        auc_key = 'eRegulon_AUC_filtered',\n",
    "        signature_key = 'Region_based')\n",
    "\n",
    "TF_cistrome_correlation(\n",
    "            scplus_obj,\n",
    "            use_pseudobulk = True,\n",
    "            variable = 'GEX_celltype',\n",
    "            auc_key = 'eRegulon_AUC_filtered',\n",
    "            signature_key = 'Gene_based',\n",
    "            out_key = 'filtered_gene_based')\n",
    "TF_cistrome_correlation(\n",
    "            scplus_obj,\n",
    "            use_pseudobulk = True,\n",
    "            variable = 'GEX_celltype',\n",
    "            auc_key = 'eRegulon_AUC_filtered',\n",
    "            signature_key = 'Region_based',\n",
    "            out_key = 'filtered_region_based')"
   ]
  },
  {
   "cell_type": "code",
   "execution_count": null,
   "id": "96154d79",
   "metadata": {},
   "outputs": [],
   "source": [
    "scplus_obj.uns['TF_cistrome_correlation']['filtered_region_based'].head()"
   ]
  },
  {
   "cell_type": "code",
   "execution_count": null,
   "id": "2b697bb1",
   "metadata": {},
   "outputs": [],
   "source": [
    "import numpy as np\n",
    "n_targets = [int(x.split('(')[1].replace('r)', '')) for x in scplus_obj.uns['TF_cistrome_correlation']['filtered_region_based']['Cistrome']]\n",
    "rho = scplus_obj.uns['TF_cistrome_correlation']['filtered_region_based']['Rho'].to_list()\n",
    "adj_pval = scplus_obj.uns['TF_cistrome_correlation']['filtered_region_based']['Adjusted_p-value'].to_list()\n",
    "\n",
    "thresholds = {\n",
    "        'rho': [-0.15, 0.15],\n",
    "        'n_targets': 0\n",
    "}\n",
    "import seaborn as sns\n",
    "fig, ax = plt.subplots(figsize = (10, 5))\n",
    "sc = ax.scatter(rho, n_targets, c = -np.log10(adj_pval), s = 5)\n",
    "ax.set_xlabel('Correlation coefficient')\n",
    "ax.set_ylabel('nr. target regions')\n",
    "#ax.hlines(y = thresholds['n_targets'], xmin = min(rho), xmax = max(rho), color = 'black', ls = 'dashed', lw = 1)\n",
    "ax.vlines(x = thresholds['rho'], ymin = 0, ymax = max(n_targets), color = 'black', ls = 'dashed', lw = 1)\n",
    "ax.text(x = thresholds['rho'][0], y = max(n_targets), s = str(thresholds['rho'][0]))\n",
    "ax.text(x = thresholds['rho'][1], y = max(n_targets), s = str(thresholds['rho'][1]))\n",
    "sns.despine(ax = ax)\n",
    "fig.colorbar(sc, label = '-log10(adjusted_pvalue)', ax = ax)\n",
    "plt.show()"
   ]
  },
  {
   "cell_type": "code",
   "execution_count": null,
   "id": "4c22b530",
   "metadata": {},
   "outputs": [],
   "source": [
    "selected_cistromes = scplus_obj.uns['TF_cistrome_correlation']['filtered_region_based'].loc[\n",
    "        np.logical_or(\n",
    "                scplus_obj.uns['TF_cistrome_correlation']['filtered_region_based']['Rho'] > thresholds['rho'][1],\n",
    "                scplus_obj.uns['TF_cistrome_correlation']['filtered_region_based']['Rho'] < thresholds['rho'][0]\n",
    "        )]['Cistrome'].to_list()\n",
    "selected_eRegulons = [x.split('_(')[0] for x in selected_cistromes]\n",
    "selected_eRegulons_gene_sig = [\n",
    "        x for x in scplus_obj.uns['eRegulon_signatures_filtered']['Gene_based'].keys()\n",
    "        if x.split('_(')[0] in selected_eRegulons]\n",
    "selected_eRegulons_region_sig = [\n",
    "        x for x in scplus_obj.uns['eRegulon_signatures_filtered']['Region_based'].keys()\n",
    "        if x.split('_(')[0] in selected_eRegulons]\n",
    "#save the results in the scenicplus object\n",
    "scplus_obj.uns['selected_eRegulon'] = {'Gene_based': selected_eRegulons_gene_sig, 'Region_based': selected_eRegulons_region_sig}\n",
    "print(f'selected: {len(selected_eRegulons_gene_sig)} eRegulons')"
   ]
  },
  {
   "cell_type": "code",
   "execution_count": null,
   "id": "cbe4d9d0",
   "metadata": {},
   "outputs": [],
   "source": [
    "dill.dump(scplus_obj, open(os.path.join(work_dir, 'scenicplus/scplus_obj.pkl'), 'wb'), protocol=-1)"
   ]
  },
  {
   "cell_type": "code",
   "execution_count": null,
   "id": "8f59c0c6",
   "metadata": {
    "scrolled": false
   },
   "outputs": [],
   "source": [
    "from scenicplus.plotting.dotplot import heatmap_dotplot\n",
    "heatmap_dotplot(\n",
    "        scplus_obj = scplus_obj,\n",
    "        size_matrix = scplus_obj.uns['eRegulon_AUC_filtered']['Region_based'], #specify what to plot as dot sizes, target region enrichment in this case\n",
    "        color_matrix = scplus_obj.to_df('EXP'), #specify  what to plot as colors, TF expression in this case\n",
    "        scale_size_matrix = True,\n",
    "        scale_color_matrix = True,\n",
    "        group_variable = 'GEX_celltype',\n",
    "        subset_eRegulons = scplus_obj.uns['selected_eRegulon']['Gene_based'],\n",
    "        index_order = ['Homeostatic Microglia', 'Selplg-lo Microglia', 'mt-Enriched Microglia', 'mt-Depleted Microglia', 'DAM-1', 'DAM-2', 'TIMs', 'Siglech-hi Microglia'],\n",
    "        figsize = (15, 20),\n",
    "        orientation = 'vertical',\n",
    "        split_repressor_activator = False,\n",
    "        save = \"eregulon_dotplot.png\") # set to False since we get no repressors :hehe:"
   ]
  },
  {
   "cell_type": "code",
   "execution_count": null,
   "id": "5d5c5c93",
   "metadata": {},
   "outputs": [],
   "source": [
    "from scenicplus.plotting.dotplot import generate_dotplot_df\n",
    "df = generate_dotplot_df(scplus_obj = scplus_obj,\n",
    "        size_matrix = scplus_obj.uns['eRegulon_AUC_filtered']['Region_based'], #specify what to plot as dot sizes, target region enrichment in this case\n",
    "        color_matrix = scplus_obj.to_df('EXP'), #specify  what to plot as colors, TF expression in this case\n",
    "        scale_size_matrix = True,\n",
    "        scale_color_matrix = True,\n",
    "        group_variable = 'GEX_celltype',\n",
    "        subset_eRegulons = scplus_obj.uns['selected_eRegulon']['Gene_based'],)"
   ]
  },
  {
   "cell_type": "code",
   "execution_count": null,
   "id": "31509d47",
   "metadata": {},
   "outputs": [],
   "source": [
    "index_order = ['Homeostatic Microglia', 'Selplg-lo Microglia', 'mt-Enriched Microglia', 'mt-Depleted Microglia', 'DAM-1', 'DAM-2', 'TIMs', 'Siglech-hi Microglia']\n",
    "tmp = df[['index', 'eRegulon_name', 'color_val']\n",
    "        ].pivot_table(index = 'index', columns = 'eRegulon_name'\n",
    "        ).fillna(0)['color_val']\n",
    "tmp = tmp.loc[index_order]\n",
    "idx_max = tmp.idxmax(axis = 0)\n",
    "order = pd.concat([idx_max[idx_max == x] for x in tmp.index.tolist() if len(df[df == x]) > 0]).index.tolist()"
   ]
  },
  {
   "cell_type": "code",
   "execution_count": null,
   "id": "74e509db",
   "metadata": {},
   "outputs": [],
   "source": [
    "df.to_csv(\"eregulons_df.csv\")\n",
    "pd.DataFrame(order).to_csv(\"regulon_order.csv\")"
   ]
  },
  {
   "cell_type": "code",
   "execution_count": null,
   "id": "ee9c8a54",
   "metadata": {},
   "outputs": [],
   "source": [
    "from scenicplus.RSS import *\n",
    "regulon_specificity_scores(\n",
    "        scplus_obj,\n",
    "        variable = 'GEX_celltype',\n",
    "        auc_key = 'eRegulon_AUC_filtered',\n",
    "        signature_keys = ['Region_based'],\n",
    "        selected_regulons = [x for x in scplus_obj.uns['selected_eRegulon']['Region_based'] if '-' not in x],\n",
    "        out_key_suffix = '_filtered')"
   ]
  },
  {
   "cell_type": "code",
   "execution_count": null,
   "id": "87b9fc3b",
   "metadata": {
    "scrolled": false
   },
   "outputs": [],
   "source": [
    "plot_rss(scplus_obj, 'GEX_celltype_filtered', num_columns=2, top_n=10, figsize = (10, 20))"
   ]
  },
  {
   "cell_type": "code",
   "execution_count": null,
   "id": "74c0b287",
   "metadata": {},
   "outputs": [],
   "source": [
    "flat_list = lambda t: [item for sublist in t for item in sublist]\n",
    "selected_markers = list(set(flat_list(\n",
    "    [scplus_obj.uns['RSS']['GEX_celltype_filtered'].loc[celltype].sort_values(ascending = False).head(10).index.to_list()\n",
    "    for celltype in scplus_obj.uns['RSS']['GEX_celltype_filtered'].index])))"
   ]
  },
  {
   "cell_type": "code",
   "execution_count": null,
   "id": "0ee2a10f",
   "metadata": {},
   "outputs": [],
   "source": [
    "from scenicplus.plotting.correlation_plot import *\n",
    "\n",
    "region_intersetc_data, Z = jaccard_heatmap(\n",
    "        scplus_obj,\n",
    "        method = 'intersect',\n",
    "        gene_or_region_based = 'Region_based',\n",
    "        use_plotly = False,\n",
    "        selected_regulons = selected_markers,\n",
    "        signature_key = 'eRegulon_signatures_filtered',\n",
    "        figsize = (10, 10), return_data = True, vmax = 0.5, cmap = 'plasma')"
   ]
  },
  {
   "cell_type": "markdown",
   "id": "15dda786",
   "metadata": {},
   "source": [
    "## Perturbation simulation"
   ]
  },
  {
   "cell_type": "code",
   "execution_count": null,
   "id": "699a2176",
   "metadata": {},
   "outputs": [],
   "source": [
    "from scenicplus.dimensionality_reduction import run_eRegulons_pca\n",
    "run_eRegulons_pca(\n",
    "        scplus_obj,\n",
    "        auc_key = 'eRegulon_AUC_filtered',\n",
    "        reduction_name = 'eRegulons_PCA_gene_based',\n",
    "        selected_regulons = scplus_obj.uns['selected_eRegulon']['Gene_based'])"
   ]
  },
  {
   "cell_type": "code",
   "execution_count": null,
   "id": "ee09cbbf",
   "metadata": {
    "scrolled": true
   },
   "outputs": [],
   "source": [
    "from pycisTopic.diff_features import find_highly_variable_features\n",
    "hvg = find_highly_variable_features(scplus_obj.to_df('EXP')[list(set(scplus_obj.uns['eRegulon_metadata_filtered']['Gene']))].T, n_top_features = 200, plot = False)"
   ]
  },
  {
   "cell_type": "code",
   "execution_count": null,
   "id": "5646606a",
   "metadata": {},
   "outputs": [],
   "source": [
    "color_dict_line = {\n",
    "    'Homeostatic Microglia': \"#065143\",\n",
    "    'Selplg-lo Microglia': \"#70B77E\",\n",
    "    'mt-Enriched Microglia': \"#E0A890\",\n",
    "    'mt-Depleted Microglia': \"#053C5E\",\n",
    "    'DAM-1': \"#F56476\",\n",
    "    'DAM-2': \"#CE1483\" ,\n",
    "    'TIMs': \"#38A3A5\",\n",
    "    'Siglech-hi Microglia': \"#80ED99\"}\n",
    "\n",
    "from scenicplus.simulation import plot_perturbation_effect_in_embedding\n",
    "import seaborn as sns\n",
    "_ = plot_perturbation_effect_in_embedding(\n",
    "        scplus_obj = scplus_obj,\n",
    "        reduction_name = 'eRegulons_PCA_gene_based',\n",
    "        n_cpu = 5,\n",
    "        perturbation = {'Fos': 0}, #specifies that we want to set the expression of Fos to 0 in all cells.\n",
    "        variable = 'GEX_celltype',\n",
    "        color_dictionary = {'GEX_celltype': color_dict_line},\n",
    "        genes_to_use = hvg,\n",
    "        figsize = (5, 5))"
   ]
  },
  {
   "cell_type": "code",
   "execution_count": null,
   "id": "69afd54e",
   "metadata": {},
   "outputs": [],
   "source": [
    "color_dict_line = {\n",
    "    'Homeostatic Microglia': \"#065143\",\n",
    "    'Selplg-lo Microglia': \"#70B77E\",\n",
    "    'mt-Enriched Microglia': \"#E0A890\",\n",
    "    'mt-Depleted Microglia': \"#053C5E\",\n",
    "    'DAM-1': \"#F56476\",\n",
    "    'DAM-2': \"#CE1483\" ,\n",
    "    'TIMs': \"#38A3A5\",\n",
    "    'Siglech-hi Microglia': \"#80ED99\"}\n",
    "\n",
    "from scenicplus.simulation import plot_perturbation_effect_in_embedding\n",
    "import seaborn as sns\n",
    "_ = plot_perturbation_effect_in_embedding(\n",
    "        scplus_obj = scplus_obj,\n",
    "        reduction_name = 'eRegulons_PCA_gene_based',\n",
    "        n_cpu = 5,\n",
    "        perturbation = {'Sox5': 0}, #specifies that we want to set the expression of Sox5 to 0 in all cells.\n",
    "        variable = 'GEX_celltype',\n",
    "        color_dictionary = {'GEX_celltype': color_dict_line},\n",
    "        genes_to_use = hvg,\n",
    "        figsize = (5, 5))"
   ]
  },
  {
   "cell_type": "code",
   "execution_count": null,
   "id": "963a5391",
   "metadata": {},
   "outputs": [],
   "source": []
  }
 ],
 "metadata": {
  "kernelspec": {
   "display_name": "Python 3",
   "language": "python",
   "name": "python3"
  },
  "language_info": {
   "codemirror_mode": {
    "name": "ipython",
    "version": 3
   },
   "file_extension": ".py",
   "mimetype": "text/x-python",
   "name": "python",
   "nbconvert_exporter": "python",
   "pygments_lexer": "ipython3",
   "version": "3.8.8"
  }
 },
 "nbformat": 4,
 "nbformat_minor": 5
}
